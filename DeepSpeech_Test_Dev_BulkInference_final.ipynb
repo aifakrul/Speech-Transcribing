{
  "nbformat": 4,
  "nbformat_minor": 0,
  "metadata": {
    "colab": {
      "name": "DeepSpeech_Test_Dev_BulkInference_final.ipynb",
      "provenance": []
    },
    "kernelspec": {
      "display_name": "Python 3",
      "language": "python",
      "name": "python3"
    },
    "language_info": {
      "codemirror_mode": {
        "name": "ipython",
        "version": 3
      },
      "file_extension": ".py",
      "mimetype": "text/x-python",
      "name": "python",
      "nbconvert_exporter": "python",
      "pygments_lexer": "ipython3",
      "version": "3.7.7"
    }
  },
  "cells": [
    {
      "cell_type": "code",
      "metadata": {
        "id": "_77PVgQZW7v_",
        "outputId": "d94ff0f3-14af-4f7f-ed96-272b3f65d64f"
      },
      "source": [
        "import pandas as pd\n",
        "\n",
        "\n",
        "model_code = \"Cascade\" \n",
        "model_path= \"/home/fakrul/Model_Mozilla_CommonDataSet/\"+model_code+\"/bo_6_5_4_3_output_graph.pb\"\n",
        "master_data_path = '/home/fakrul/Model_Mozilla_CommonDataSet/nl/clips/'\n",
        "inference_data_path= '/home/fakrul/Model_Mozilla_CommonDataSet/'+ str(model_code)+'_inference.csv'\n",
        "#10% sample\n",
        "inference_size=0.10\n",
        "\n",
        "test_data_path = master_data_path+ \"test.csv\"\n",
        "#test_data_path = master_data_path+ \"train.csv\"\n",
        "print('Test Data Path: ',test_data_path)\n",
        "\n",
        "dev_data_path = master_data_path+ \"dev.csv\"\n",
        "print('Dev Data Path: ',dev_data_path)\n",
        "\n",
        "print('model_path: ', model_path)\n",
        "print('model_code: ', model_code)\n",
        "print('inference_data_path: ', inference_data_path)\n",
        "print('inference sample size:', inference_size*100, \"%\")\n"
      ],
      "execution_count": null,
      "outputs": [
        {
          "output_type": "stream",
          "text": [
            "Test Data Path:  /home/fakrul/Model_Mozilla_CommonDataSet/nl/clips/test.csv\n",
            "Dev Data Path:  /home/fakrul/Model_Mozilla_CommonDataSet/nl/clips/dev.csv\n",
            "model_path:  /home/fakrul/Model_Mozilla_CommonDataSet/Cascade/bo_6_5_4_3_output_graph.pb\n",
            "model_code:  Cascade\n",
            "inference_data_path:  /home/fakrul/Model_Mozilla_CommonDataSet/Cascade_inference.csv\n",
            "inference sample size: 10.0 %\n"
          ],
          "name": "stdout"
        }
      ]
    },
    {
      "cell_type": "code",
      "metadata": {
        "id": "-8Uawdh0W7wL",
        "outputId": "751bf9c0-1421-44a3-cdbf-99e1ef4e27bc"
      },
      "source": [
        "test_data = pd.read_csv(test_data_path)\n",
        "print('Test Data Loaded')"
      ],
      "execution_count": null,
      "outputs": [
        {
          "output_type": "stream",
          "text": [
            "Test Data Loaded\n"
          ],
          "name": "stdout"
        }
      ]
    },
    {
      "cell_type": "code",
      "metadata": {
        "id": "_JV3Go-d1cyT",
        "outputId": "11d7f3c7-09ac-4af6-daf6-86cebf014e18"
      },
      "source": [
        "new = test_data['wav_filename'].copy() \n",
        "test_data[\"wav_filename\"]= str(master_data_path)+new\n",
        "test_data[\"wav_filename\"]\n",
        "#test_data.to_csv(\"/home/fakrul/Model_Mozilla_CommonDataSet\"+\"/test_inference.csv\", index=False)\n",
        "print(test_data.count())\n",
        "print(test_data.head(2))"
      ],
      "execution_count": null,
      "outputs": [
        {
          "output_type": "stream",
          "text": [
            "wav_filename    1629\n",
            "wav_filesize    1629\n",
            "transcript      1629\n",
            "dtype: int64\n",
            "                                        wav_filename  wav_filesize  \\\n",
            "0  /home/fakrul/Model_Mozilla_CommonDataSet/nl/cl...        135212   \n",
            "1  /home/fakrul/Model_Mozilla_CommonDataSet/nl/cl...        141356   \n",
            "\n",
            "                                transcript  \n",
            "0             waarom belde je me niet even  \n",
            "1  bert anciaux zit al lang in de politiek  \n"
          ],
          "name": "stdout"
        }
      ]
    },
    {
      "cell_type": "code",
      "metadata": {
        "id": "C7DNzwlPW7wU",
        "outputId": "331bc103-b452-4f3b-86d0-b8e85237bf05"
      },
      "source": [
        "dev_data=pd.read_csv(dev_data_path)\n",
        "print('Dev Data Loaded')"
      ],
      "execution_count": null,
      "outputs": [
        {
          "output_type": "stream",
          "text": [
            "Dev Data Loaded\n"
          ],
          "name": "stdout"
        }
      ]
    },
    {
      "cell_type": "code",
      "metadata": {
        "id": "ht1U1yCT1cyU",
        "outputId": "5d98c341-2f9e-4fd8-a0bc-3a8daee7b810"
      },
      "source": [
        "new = dev_data['wav_filename'].copy() \n",
        "#new\n",
        "dev_data[\"wav_filename\"]= str(master_data_path)+new\n",
        "dev_data[\"wav_filename\"]\n",
        "#dev_data.to_csv(\"/home/fakrul/Model_Mozilla_CommonDataSet\"+\"/dev_inference.csv\", index=False)\n",
        "print(dev_data.count())\n",
        "print(dev_data.head(2))"
      ],
      "execution_count": null,
      "outputs": [
        {
          "output_type": "stream",
          "text": [
            "wav_filename    1625\n",
            "wav_filesize    1625\n",
            "transcript      1625\n",
            "dtype: int64\n",
            "                                        wav_filename  wav_filesize  \\\n",
            "0  /home/fakrul/Model_Mozilla_CommonDataSet/nl/cl...        149804   \n",
            "1  /home/fakrul/Model_Mozilla_CommonDataSet/nl/cl...         88364   \n",
            "\n",
            "                                    transcript  \n",
            "0  platanen staan bekend om hun grote bladeren  \n",
            "1                   hij maakt alles te complex  \n"
          ],
          "name": "stdout"
        }
      ]
    },
    {
      "cell_type": "code",
      "metadata": {
        "id": "ld5JG42d1cyV",
        "outputId": "0a65146b-3791-4043-fb72-60f56d56f800"
      },
      "source": [
        "df_test_dev = pd.concat([test_data, dev_data ])\n",
        "print('Done DF_Test_Dev')"
      ],
      "execution_count": null,
      "outputs": [
        {
          "output_type": "stream",
          "text": [
            "Done DF_Test_Dev\n"
          ],
          "name": "stdout"
        }
      ]
    },
    {
      "cell_type": "code",
      "metadata": {
        "id": "n7N1LPQC1cyV",
        "outputId": "2ffa8c8f-a57c-4c26-dadf-539ebcdb04ed"
      },
      "source": [
        "print(df_test_dev)"
      ],
      "execution_count": null,
      "outputs": [
        {
          "output_type": "stream",
          "text": [
            "                                           wav_filename  wav_filesize  \\\n",
            "0     /home/fakrul/Model_Mozilla_CommonDataSet/nl/cl...        135212   \n",
            "1     /home/fakrul/Model_Mozilla_CommonDataSet/nl/cl...        141356   \n",
            "2     /home/fakrul/Model_Mozilla_CommonDataSet/nl/cl...        142124   \n",
            "3     /home/fakrul/Model_Mozilla_CommonDataSet/nl/cl...        272684   \n",
            "4     /home/fakrul/Model_Mozilla_CommonDataSet/nl/cl...        107564   \n",
            "...                                                 ...           ...   \n",
            "1620  /home/fakrul/Model_Mozilla_CommonDataSet/nl/cl...        140588   \n",
            "1621  /home/fakrul/Model_Mozilla_CommonDataSet/nl/cl...        119084   \n",
            "1622  /home/fakrul/Model_Mozilla_CommonDataSet/nl/cl...        126764   \n",
            "1623  /home/fakrul/Model_Mozilla_CommonDataSet/nl/cl...        249644   \n",
            "1624  /home/fakrul/Model_Mozilla_CommonDataSet/nl/cl...        215084   \n",
            "\n",
            "                                             transcript  \n",
            "0                          waarom belde je me niet even  \n",
            "1               bert anciaux zit al lang in de politiek  \n",
            "2     de kinderen moesten zuchten ze moesten nog een...  \n",
            "3         ze had de bank beschadigd met haar skateboard  \n",
            "4                         mijn toetsenbord zit vol stof  \n",
            "...                                                 ...  \n",
            "1620            het belangrijkste is dat je gezond bent  \n",
            "1621  door zelf de tomaten te kweken bespaarde amber...  \n",
            "1622  zijn tegenstander was veel sterker en hij maak...  \n",
            "1623  ritsen is de term die gebruikt wordt om aan te...  \n",
            "1624  daarom is het best dat er ook gewerkt wordt me...  \n",
            "\n",
            "[3254 rows x 3 columns]\n"
          ],
          "name": "stdout"
        }
      ]
    },
    {
      "cell_type": "code",
      "metadata": {
        "id": "Bge_LF1_1cyV"
      },
      "source": [
        "from sklearn.model_selection import train_test_split\n",
        "\n",
        "trainingSet, inferenceSet = train_test_split(df_test_dev, test_size=inference_size, random_state=500)"
      ],
      "execution_count": null,
      "outputs": []
    },
    {
      "cell_type": "code",
      "metadata": {
        "id": "zLzDuZ641cyW",
        "outputId": "72325646-04d4-4929-f1cd-07ec638968a2"
      },
      "source": [
        "print(inferenceSet.head())\n",
        "print(inferenceSet.count())"
      ],
      "execution_count": null,
      "outputs": [
        {
          "output_type": "stream",
          "text": [
            "                                           wav_filename  wav_filesize  \\\n",
            "1010  /home/fakrul/Model_Mozilla_CommonDataSet/nl/cl...        111404   \n",
            "1322  /home/fakrul/Model_Mozilla_CommonDataSet/nl/cl...         92204   \n",
            "337   /home/fakrul/Model_Mozilla_CommonDataSet/nl/cl...        183596   \n",
            "46    /home/fakrul/Model_Mozilla_CommonDataSet/nl/cl...         76844   \n",
            "1229  /home/fakrul/Model_Mozilla_CommonDataSet/nl/cl...         57644   \n",
            "\n",
            "                                           transcript  \n",
            "1010         in de klas kon ik mij nooit concentreren  \n",
            "1322                hij heeft ooit een moord gepleegd  \n",
            "337   ik heb boterhammen met boter en kaas meegenomen  \n",
            "46                        het kanaal was dichtgeslibd  \n",
            "1229                               ik kom er aan baas  \n",
            "wav_filename    326\n",
            "wav_filesize    326\n",
            "transcript      326\n",
            "dtype: int64\n"
          ],
          "name": "stdout"
        }
      ]
    },
    {
      "cell_type": "code",
      "metadata": {
        "id": "7vYalqwi1cyW"
      },
      "source": [
        "inferenceSet.to_csv(inference_data_path, index=False)"
      ],
      "execution_count": null,
      "outputs": []
    },
    {
      "cell_type": "code",
      "metadata": {
        "id": "CoseXCMHW7xM"
      },
      "source": [
        "#final_clips=path+str(batch_size)\n",
        "\n",
        "#os.mkdir(final_clips)\n",
        "\n",
        "#_rest_trainingSet.to_csv(final_clips+\"/train.csv\", index=False)\n",
        "#_rest_testingSet.to_csv(final_clips+\"/test.csv\", index=False)\n",
        "#_rest_validatingSet.to_csv(final_clips+\"/dev.csv\", index=False)\n",
        "\n",
        "#_rest_trainingSet.to_csv(final_clips+\"/training_\"+str(batch_size)+\".csv\", index=False)\n",
        "#_rest_testingSet.to_csv(final_clips+\"/testing_\"+str(batch_size)+\".csv\", index=False)\n",
        "#_rest_validatingSet.to_csv(final_clips+\"/validating_\"+str(batch_size)+\".csv\", index=False)\n",
        "\n",
        "#print('Reamainder final clip directory created and csv files copied')"
      ],
      "execution_count": null,
      "outputs": []
    },
    {
      "cell_type": "code",
      "metadata": {
        "id": "JE3671Pa1cyX"
      },
      "source": [
        "from __future__ import absolute_import, division, print_function\n",
        "\n",
        "import argparse\n",
        "import numpy as np\n",
        "import shlex\n",
        "import subprocess\n",
        "import sys\n",
        "import wave\n",
        "import json\n",
        "import textdistance\n",
        "\n",
        "from deepspeech import Model, version\n",
        "from timeit import default_timer as timer"
      ],
      "execution_count": null,
      "outputs": []
    },
    {
      "cell_type": "code",
      "metadata": {
        "id": "v0JxCpMS1cyX"
      },
      "source": [
        "try:\n",
        "    from shhlex import quote\n",
        "except ImportError:\n",
        "    from pipes import quote"
      ],
      "execution_count": null,
      "outputs": []
    },
    {
      "cell_type": "code",
      "metadata": {
        "id": "bb4KZIBP1cyY"
      },
      "source": [
        "def convert_samplerate(audio_path, desired_sample_rate):\n",
        "    sox_cmd = 'sox {} --type raw --bits 16 --channels 1 --rate {} --encoding signed-integer --endian little --compression 0.0 --no-dither - '.format(quote(audio_path), desired_sample_rate)\n",
        "    try:\n",
        "        output = subprocess.check_output(shlex.split(sox_cmd), stderr=subprocess.PIPE)\n",
        "    except subprocess.CalledProcessError as e:\n",
        "        raise RuntimeError('SoX returned non-zero status: {}'.format(e.stderr))\n",
        "    except OSError as e:\n",
        "        raise OSError(e.errno, 'SoX not found, use {}hz files or install it: {}'.format(desired_sample_rate, e.strerror))\n",
        "\n",
        "    return desired_sample_rate, np.frombuffer(output, np.int16)"
      ],
      "execution_count": null,
      "outputs": []
    },
    {
      "cell_type": "code",
      "metadata": {
        "id": "XY3Fc6I11cyY"
      },
      "source": [
        "def metadata_to_string(metadata):\n",
        "    return ''.join(token.text for token in metadata.tokens)"
      ],
      "execution_count": null,
      "outputs": []
    },
    {
      "cell_type": "code",
      "metadata": {
        "id": "Jo8KFmIk1cyY"
      },
      "source": [
        "def words_from_candidate_transcript(metadata):\n",
        "    word = \"\"\n",
        "    word_list = []\n",
        "    word_start_time = 0\n",
        "    # Loop through each character\n",
        "    for i, token in enumerate(metadata.tokens):\n",
        "        # Append character to word if it's not a space\n",
        "        if token.text != \" \":\n",
        "            if len(word) == 0:\n",
        "                # Log the start time of the new word\n",
        "                word_start_time = token.start_time\n",
        "\n",
        "            word = word + token.text\n",
        "        # Word boundary is either a space or the last character in the array\n",
        "        if token.text == \" \" or i == len(metadata.tokens) - 1:\n",
        "            word_duration = token.start_time - word_start_time\n",
        "\n",
        "            if word_duration < 0:\n",
        "                word_duration = 0\n",
        "\n",
        "            each_word = dict()\n",
        "            each_word[\"word\"] = word\n",
        "            each_word[\"start_time \"] = round(word_start_time, 4)\n",
        "            each_word[\"duration\"] = round(word_duration, 4)\n",
        "\n",
        "            word_list.append(each_word)\n",
        "            # Reset\n",
        "            word = \"\"\n",
        "            word_start_time = 0\n",
        "\n",
        "    return word_list"
      ],
      "execution_count": null,
      "outputs": []
    },
    {
      "cell_type": "code",
      "metadata": {
        "id": "VO4VPyL_1cyZ"
      },
      "source": [
        "def metadata_json_output(metadata):\n",
        "    json_result = dict()\n",
        "    json_result[\"transcripts\"] = [{\n",
        "        \"confidence\": transcript.confidence,\n",
        "        \"words\": words_from_candidate_transcript(transcript),\n",
        "    } for transcript in metadata.transcripts]\n",
        "    return json.dumps(json_result, indent=2)"
      ],
      "execution_count": null,
      "outputs": []
    },
    {
      "cell_type": "code",
      "metadata": {
        "id": "abpBIuB41cya"
      },
      "source": [
        "class VersionAction(argparse.Action):\n",
        "    def __init__(self, *args, **kwargs):\n",
        "        super(VersionAction, self).__init__(nargs=0, *args, **kwargs)\n",
        "\n",
        "    def __call__(self, *args, **kwargs):\n",
        "        print('DeepSpeech ', version())\n",
        "        exit(0)"
      ],
      "execution_count": null,
      "outputs": []
    },
    {
      "cell_type": "code",
      "metadata": {
        "id": "I3Z7qhpI1cya"
      },
      "source": [
        "def do_bulkinference(args_model, args_infer_data, testList, inferencetime, audiolength):\n",
        "    \n",
        "    inf_configuration = {} \n",
        "    \n",
        "    inf_configuration['args.model'] = args_model\n",
        "    #inf_configuration['args.audio'] = args_audio\n",
        "    inf_configuration['args.candidate_transcripts'] = 10000\n",
        "    #inf_configuration['args.scorer'] = 'None'\n",
        "    inf_configuration['args.scorer'] = 0\n",
        "    #inf_configuration['args.beam_width'] = 'None'\n",
        "    inf_configuration['args.beam_width'] = 0\n",
        "    #inf_configuration['args.lm_alpha'] = 'None'\n",
        "    inf_configuration['args.lm_alpha'] = 0\n",
        "    #inf_configuration['args.lm_beta'] = 'None'\n",
        "    inf_configuration['args.lm_beta'] = 0\n",
        "    #inf_configuration['args.version'] = 'None'\n",
        "    inf_configuration['args.version'] = 0\n",
        "    inf_configuration['args.extended'] = False\n",
        "    inf_configuration['args.json'] = False\n",
        "    \n",
        "    #args.model:  /home/fakrul/Model_Mozilla_CommonDataSet/FineTune1/output_graph.pbmm\n",
        "    #args.scorer:  None\n",
        "    #args.audio:  /home/fakrul/Model_Mozilla_CommonDataSet/audio_dutch/krates_04_maurik_64kb_1762740.wav\n",
        "    #args.beam_width:  None\n",
        "    #args.lm_alpha:  None\n",
        "    #args.lm_beta:  None\n",
        "    #args.version:  None\n",
        "    #args.extended:  False\n",
        "    #args.json:  False\n",
        "    #args.candidate_transcripts:  3\n",
        "    \n",
        "    #print(inf_configuration[\"args.model\"])\n",
        "    #print(inf_configuration[\"args.audio\"])\n",
        "    #print(inf_configuration)\n",
        "    \n",
        "    \n",
        "    print('Loading model from file {}'.format(inf_configuration['args.model']), file=sys.stderr)\n",
        "    model_load_start = timer()\n",
        "    # sphinx-doc: python_ref_model_start\n",
        "    ds = Model(inf_configuration['args.model'])\n",
        "    # sphinx-doc: python_ref_model_stop\n",
        "    model_load_end = timer() - model_load_start\n",
        "    print('Loaded model in {:.3}s.'.format(model_load_end), file=sys.stderr)\n",
        "\n",
        "    if inf_configuration['args.beam_width']:\n",
        "        ds.setBeamWidth(inf_configuration['args.beam_width'])\n",
        "\n",
        "    desired_sample_rate = ds.sampleRate()\n",
        "\n",
        "    if inf_configuration['args.scorer']:\n",
        "        print('Loading scorer from files {}'.format(inf_configuration['args.scorer']), file=sys.stderr)\n",
        "        scorer_load_start = timer()\n",
        "        ds.enableExternalScorer(inf_configuration['args.scorer'])\n",
        "        scorer_load_end = timer() - scorer_load_start\n",
        "        print('Loaded scorer in {:.3}s.'.format(scorer_load_end), file=sys.stderr)\n",
        "\n",
        "        if inf_configuration['args.lm_alpha'] and inf_configuration['args.lm_beta']:\n",
        "            ds.setScorerAlphaBeta(inf_configuration['args.lm_alpha'], inf_configuration['args.lm_beta'])\n",
        "    \n",
        "    #LoadInference Data\n",
        "    for ind in args_infer_data.index:\n",
        "        #inf_configuration['args.audio']=\"\"       \n",
        "        #args_infer_data['wav_filename']=\"\"\n",
        "        inf_configuration['args.audio']=args_infer_data['wav_filename'][ind]\n",
        "        actual_transcript= args_infer_data['transcript'][ind]\n",
        "        \n",
        "        print('Infer Wavefile: ',  inf_configuration['args.audio'])\n",
        "        #print('Infer Transcript:', actual_transcript)\n",
        "        \n",
        "        fin = wave.open(inf_configuration['args.audio'], 'rb')\n",
        "        fs_orig = fin.getframerate()\n",
        "        if fs_orig != desired_sample_rate:\n",
        "            print('Warning: original sample rate ({}) is different than {}hz. Resampling might produce erratic speech recognition.'.format(fs_orig, desired_sample_rate), file=sys.stderr)\n",
        "            fs_new, audio = convert_samplerate(inf_configuration['args.audio'], desired_sample_rate)\n",
        "        else:\n",
        "            audio = np.frombuffer(fin.readframes(fin.getnframes()), np.int16)\n",
        "        \n",
        "        audio_length = fin.getnframes() * (1/fs_orig)\n",
        "        fin.close()\n",
        "        \n",
        "        print('Running inference.', file=sys.stderr)\n",
        "        inference_start = timer()\n",
        "        if inf_configuration['args.extended']:\n",
        "            print(metadata_to_string(ds.sttWithMetadata(audio, 1).transcripts[0]))\n",
        "        elif inf_configuration['args.json']:\n",
        "            print(\"args.json\")\n",
        "            print(metadata_json_output(ds.sttWithMetadata(audio, inf_configuration['args.candidate_transcripts'])))\n",
        "        else:\n",
        "            inference_text=ds.stt(audio)\n",
        "            testList.append(textdistance.hamming.distance(inference_text, actual_transcript)) \n",
        "            print(\"inference_transcription :\",inference_text)\n",
        "            print(\"real_transcription :\",actual_transcript)\n",
        "            #print(\"textdistance.Hamming.distance :\",textdistance.hamming.distance(inference_text, actual_transcript))\n",
        "            #print(\"Own Function, Hamming distance :\",hamming_distance(inference_text, actual_transcript))\n",
        "            #print(\"textdistance.hamming.normalized_distance :\",textdistance.hamming.normalized_distance(inference_text, actual_transcript))\n",
        "            #print(\"textdistance.hamming.normalized_similarity :\",textdistance.hamming.normalized_similarity(inference_text, actual_transcript))\n",
        "            #print(\"textdistance.hamming.similarity :\",textdistance.hamming.similarity('inference_text', 'actual_transcript'))\n",
        "            \n",
        "        inference_end = timer() - inference_start\n",
        "        inferencetime.append(round(inference_end,3))\n",
        "        audiolength.append(round(audio_length,3))\n",
        "        #print('Inference took %0.3fs for %0.3fs audio file.' % (inference_end, audio_length), file=sys.stderr)\n",
        "        #print('Next One\\n')\n",
        "        \n",
        "    return testList,inferencetime,audiolength\n",
        "\n",
        "    #fin = wave.open(inf_configuration['args.audio'], 'rb')\n",
        "    #fs_orig = fin.getframerate()\n",
        "    #if fs_orig != desired_sample_rate:\n",
        "    #    print('Warning: original sample rate ({}) is different than {}hz. Resampling might produce erratic speech recognition.'.format(fs_orig, desired_sample_rate), file=sys.stderr)\n",
        "    #    fs_new, audio = convert_samplerate(inf_configuration['args.audio'], desired_sample_rate)\n",
        "    #else:\n",
        "    #    audio = np.frombuffer(fin.readframes(fin.getnframes()), np.int16)\n",
        "\n",
        "    #audio_length = fin.getnframes() * (1/fs_orig)\n",
        "    #fin.close()\n",
        "\n",
        "    #print('Running inference.', file=sys.stderr)\n",
        "    #inference_start = timer()\n",
        "    # sphinx-doc: python_ref_inference_start\n",
        "    #if inf_configuration['args.extended']:\n",
        "        #print(\"args.extended\")\n",
        "    #    print(metadata_to_string(ds.sttWithMetadata(audio, 1).transcripts[0]))\n",
        "    #elif inf_configuration['args.json']:\n",
        "    #    print(\"args.json\")\n",
        "    #    print(metadata_json_output(ds.sttWithMetadata(audio, inf_configuration['args.candidate_transcripts'])))\n",
        "    #else:\n",
        "        #print(\"else\")\n",
        "    #    inference_text=ds.stt(audio)\n",
        "        #print(type(inference_text))\n",
        "        #print(ds.stt(audio))\n",
        "    #    print(inference_text)\n",
        "    # sphinx-doc: python_ref_inference_stop\n",
        "    #inference_end = timer() - inference_start\n",
        "    #print('Inference took %0.3fs for %0.3fs audio file.' % (inference_end, audio_length), file=sys.stderr)    "
      ],
      "execution_count": null,
      "outputs": []
    },
    {
      "cell_type": "code",
      "metadata": {
        "id": "MKtXsD_V1cye",
        "outputId": "4cbfe3b9-0b18-4557-d7e3-491b9b626986"
      },
      "source": [
        "if __name__ == '__main__':\n",
        "    #main()\n",
        "    testList = []\n",
        "    inferencetime =[]\n",
        "    audiolength=[]\n",
        "    #devList = []\n",
        "    inference_dataset= pd.read_csv(inference_data_path) \n",
        "    #print(inference)\n",
        "    \n",
        "    \n",
        "    #sample_audio = '/home/fakrul/Model_Mozilla_CommonDataSet/nl/clips/common_voice_nl_20232077.wav'\n",
        "    #result='Er was in Dorus geheele zijn en wezen verandering gekomen. Hij'\n",
        "    #testList=do_bulkinference(model_path,inferenceSet, testList)\n",
        "    testList,inferencetime,audiolength=do_bulkinference(model_path,inference_dataset, testList, inferencetime, audiolength)\n",
        "    #devList=do_bulkinference(model_path,dev_data, devList)"
      ],
      "execution_count": null,
      "outputs": [
        {
          "output_type": "stream",
          "text": [
            "Loading model from file /home/fakrul/Model_Mozilla_CommonDataSet/Cascade/bo_6_5_4_3_output_graph.pb\n",
            "Loaded model in 0.277s.\n",
            "Running inference.\n"
          ],
          "name": "stderr"
        },
        {
          "output_type": "stream",
          "text": [
            "Infer Wavefile:  /home/fakrul/Model_Mozilla_CommonDataSet/nl/clips/common_voice_nl_18992693.wav\n",
            "inference_transcription : e dekas poert win kosentre\n",
            "real_transcription : in de klas kon ik mij nooit concentreren\n",
            "Infer Wavefile:  /home/fakrul/Model_Mozilla_CommonDataSet/nl/clips/common_voice_nl_17705014.wav\n"
          ],
          "name": "stdout"
        },
        {
          "output_type": "stream",
          "text": [
            "Running inference.\n"
          ],
          "name": "stderr"
        },
        {
          "output_type": "stream",
          "text": [
            "inference_transcription : ito ootvepegt\n",
            "real_transcription : hij heeft ooit een moord gepleegd\n",
            "Infer Wavefile:  /home/fakrul/Model_Mozilla_CommonDataSet/nl/clips/common_voice_nl_18125845.wav\n"
          ],
          "name": "stdout"
        },
        {
          "output_type": "stream",
          "text": [
            "Running inference.\n"
          ],
          "name": "stderr"
        },
        {
          "output_type": "stream",
          "text": [
            "inference_transcription : e boptonben me bote en kas meenmen\n",
            "real_transcription : ik heb boterhammen met boter en kaas meegenomen\n",
            "Infer Wavefile:  /home/fakrul/Model_Mozilla_CommonDataSet/nl/clips/common_voice_nl_18211992.wav\n"
          ],
          "name": "stdout"
        },
        {
          "output_type": "stream",
          "text": [
            "Running inference.\n"
          ],
          "name": "stderr"
        },
        {
          "output_type": "stream",
          "text": [
            "inference_transcription : det kenlalder et deht\n",
            "real_transcription : het kanaal was dichtgeslibd\n",
            "Infer Wavefile:  /home/fakrul/Model_Mozilla_CommonDataSet/nl/clips/common_voice_nl_17696857.wav\n"
          ],
          "name": "stdout"
        },
        {
          "output_type": "stream",
          "text": [
            "Running inference.\n"
          ],
          "name": "stderr"
        },
        {
          "output_type": "stream",
          "text": [
            "inference_transcription : ik kone a bass\n",
            "real_transcription : ik kom er aan baas\n",
            "Infer Wavefile:  /home/fakrul/Model_Mozilla_CommonDataSet/nl/clips/common_voice_nl_17703211.wav\n"
          ],
          "name": "stdout"
        },
        {
          "output_type": "stream",
          "text": [
            "Running inference.\n"
          ],
          "name": "stderr"
        },
        {
          "output_type": "stream",
          "text": [
            "inference_transcription : e en de e e  o\n",
            "real_transcription : hij heeft de nobelprijs voor literatuur gewonnen\n",
            "Infer Wavefile:  /home/fakrul/Model_Mozilla_CommonDataSet/nl/clips/common_voice_nl_17696160.wav\n"
          ],
          "name": "stdout"
        },
        {
          "output_type": "stream",
          "text": [
            "Running inference.\n"
          ],
          "name": "stderr"
        },
        {
          "output_type": "stream",
          "text": [
            "inference_transcription : al desas o eletalen\n",
            "real_transcription : kan je de spaanse vlag eruit halen\n",
            "Infer Wavefile:  /home/fakrul/Model_Mozilla_CommonDataSet/nl/clips/common_voice_nl_17813334.wav\n"
          ],
          "name": "stdout"
        },
        {
          "output_type": "stream",
          "text": [
            "Running inference.\n"
          ],
          "name": "stderr"
        },
        {
          "output_type": "stream",
          "text": [
            "inference_transcription : e en alen pone e an\n",
            "real_transcription : de indianen woonden in wigwams\n",
            "Infer Wavefile:  /home/fakrul/Model_Mozilla_CommonDataSet/nl/clips/common_voice_nl_17696224.wav\n"
          ],
          "name": "stdout"
        },
        {
          "output_type": "stream",
          "text": [
            "Running inference.\n"
          ],
          "name": "stderr"
        },
        {
          "output_type": "stream",
          "text": [
            "inference_transcription : at et tctistitee\n",
            "real_transcription : een houten pilaar stond in het midden\n",
            "Infer Wavefile:  /home/fakrul/Model_Mozilla_CommonDataSet/nl/clips/common_voice_nl_17960794.wav\n"
          ],
          "name": "stdout"
        },
        {
          "output_type": "stream",
          "text": [
            "Running inference.\n"
          ],
          "name": "stderr"
        },
        {
          "output_type": "stream",
          "text": [
            "inference_transcription : esoet onstiskoteen asen\n",
            "real_transcription : het is moeilijk om skischoenen te vinden die goed passen\n",
            "Infer Wavefile:  /home/fakrul/Model_Mozilla_CommonDataSet/nl/clips/common_voice_nl_17694304.wav\n"
          ],
          "name": "stdout"
        },
        {
          "output_type": "stream",
          "text": [
            "Running inference.\n"
          ],
          "name": "stderr"
        },
        {
          "output_type": "stream",
          "text": [
            "inference_transcription : de en des te zergestnaren bar\n",
            "real_transcription : de hond zocht tevergeefs naar zijn baasje\n",
            "Infer Wavefile:  /home/fakrul/Model_Mozilla_CommonDataSet/nl/clips/common_voice_nl_17711835.wav\n"
          ],
          "name": "stdout"
        },
        {
          "output_type": "stream",
          "text": [
            "Running inference.\n"
          ],
          "name": "stderr"
        },
        {
          "output_type": "stream",
          "text": [
            "inference_transcription : etede tan est ivadetnen ment al intass\n",
            "real_transcription : de tube tandpasta heeft gelekt in mijn toilettas\n",
            "Infer Wavefile:  /home/fakrul/Model_Mozilla_CommonDataSet/nl/clips/common_voice_nl_17695291.wav\n"
          ],
          "name": "stdout"
        },
        {
          "output_type": "stream",
          "text": [
            "Running inference.\n"
          ],
          "name": "stderr"
        },
        {
          "output_type": "stream",
          "text": [
            "inference_transcription : ot  taten arben mentent\n",
            "real_transcription : 's ochtends is het altijd warm in mijn tent\n",
            "Infer Wavefile:  /home/fakrul/Model_Mozilla_CommonDataSet/nl/clips/common_voice_nl_17697303.wav\n"
          ],
          "name": "stdout"
        },
        {
          "output_type": "stream",
          "text": [
            "Running inference.\n"
          ],
          "name": "stderr"
        },
        {
          "output_type": "stream",
          "text": [
            "inference_transcription : i ze este aede eees naowon ven\n",
            "real_transcription : is het echt waar dat jullie in china gewoond hebben\n",
            "Infer Wavefile:  /home/fakrul/Model_Mozilla_CommonDataSet/nl/clips/common_voice_nl_17702674.wav\n"
          ],
          "name": "stdout"
        },
        {
          "output_type": "stream",
          "text": [
            "Running inference.\n"
          ],
          "name": "stderr"
        },
        {
          "output_type": "stream",
          "text": [
            "inference_transcription : e e e ben desen do gi ten\n",
            "real_transcription : de haaien hebben de zeehond opgegeten\n",
            "Infer Wavefile:  /home/fakrul/Model_Mozilla_CommonDataSet/nl/clips/common_voice_nl_18266541.wav\n"
          ],
          "name": "stdout"
        },
        {
          "output_type": "stream",
          "text": [
            "Running inference.\n"
          ],
          "name": "stderr"
        },
        {
          "output_type": "stream",
          "text": [
            "inference_transcription : de poken degopaer panden\n",
            "real_transcription : de boel kan nog wel dagen branden\n",
            "Infer Wavefile:  /home/fakrul/Model_Mozilla_CommonDataSet/nl/clips/common_voice_nl_17797276.wav\n"
          ],
          "name": "stdout"
        },
        {
          "output_type": "stream",
          "text": [
            "Running inference.\n"
          ],
          "name": "stderr"
        },
        {
          "output_type": "stream",
          "text": [
            "inference_transcription : hi poon penen on aann\n",
            "real_transcription : het team speelde goed samen\n",
            "Infer Wavefile:  /home/fakrul/Model_Mozilla_CommonDataSet/nl/clips/common_voice_nl_19349667.wav\n"
          ],
          "name": "stdout"
        },
        {
          "output_type": "stream",
          "text": [
            "Running inference.\n"
          ],
          "name": "stderr"
        },
        {
          "output_type": "stream",
          "text": [
            "inference_transcription : kaldes zenkom et ijelek pe kiken de wijte ecgt\n",
            "real_transcription : al deze zinnen komen uiteindelijk in het publieke domein terecht\n",
            "Infer Wavefile:  /home/fakrul/Model_Mozilla_CommonDataSet/nl/clips/common_voice_nl_17699922.wav\n"
          ],
          "name": "stdout"
        },
        {
          "output_type": "stream",
          "text": [
            "Running inference.\n"
          ],
          "name": "stderr"
        },
        {
          "output_type": "stream",
          "text": [
            "inference_transcription : e les alelek esen ovobe\n",
            "real_transcription : er lag een lijk in zijn kofferbak\n",
            "Infer Wavefile:  /home/fakrul/Model_Mozilla_CommonDataSet/nl/clips/common_voice_nl_17925350.wav\n"
          ],
          "name": "stdout"
        },
        {
          "output_type": "stream",
          "text": [
            "Running inference.\n"
          ],
          "name": "stderr"
        },
        {
          "output_type": "stream",
          "text": [
            "inference_transcription : i venane omoptart met pijs enslacgenberid\n",
            "real_transcription : ik ga warme appeltaart met ijs en slagroom bereiden\n",
            "Infer Wavefile:  /home/fakrul/Model_Mozilla_CommonDataSet/nl/clips/common_voice_nl_18487906.wav\n"
          ],
          "name": "stdout"
        },
        {
          "output_type": "stream",
          "text": [
            "Running inference.\n"
          ],
          "name": "stderr"
        },
        {
          "output_type": "stream",
          "text": [
            "inference_transcription : et eszretn ko  etcant konaatgiger ents\n",
            "real_transcription : de processor heeft een kloksnelheid van twee komma acht gigahertz\n",
            "Infer Wavefile:  /home/fakrul/Model_Mozilla_CommonDataSet/nl/clips/common_voice_nl_18039179.wav\n"
          ],
          "name": "stdout"
        },
        {
          "output_type": "stream",
          "text": [
            "Running inference.\n"
          ],
          "name": "stderr"
        },
        {
          "output_type": "stream",
          "text": [
            "inference_transcription : isi be in en mei vendt tan tedetends\n",
            "real_transcription : ik zie liever animatiefilms dan tekenfilms\n",
            "Infer Wavefile:  /home/fakrul/Model_Mozilla_CommonDataSet/nl/clips/common_voice_nl_18286398.wav\n"
          ],
          "name": "stdout"
        },
        {
          "output_type": "stream",
          "text": [
            "Running inference.\n"
          ],
          "name": "stderr"
        },
        {
          "output_type": "stream",
          "text": [
            "inference_transcription : nate prert wee diginmabeszntenstlde dodien\n",
            "real_transcription : met de buurtvereniging hebben ze een drumstel gedoneerd\n",
            "Infer Wavefile:  /home/fakrul/Model_Mozilla_CommonDataSet/nl/clips/common_voice_nl_17695120.wav\n"
          ],
          "name": "stdout"
        },
        {
          "output_type": "stream",
          "text": [
            "Running inference.\n"
          ],
          "name": "stderr"
        },
        {
          "output_type": "stream",
          "text": [
            "inference_transcription : bnkarstonons nipescanden\n",
            "real_transcription : bunkers kunnen ons niet beschermen\n",
            "Infer Wavefile:  /home/fakrul/Model_Mozilla_CommonDataSet/nl/clips/common_voice_nl_19066464.wav\n"
          ],
          "name": "stdout"
        },
        {
          "output_type": "stream",
          "text": [
            "Running inference.\n"
          ],
          "name": "stderr"
        },
        {
          "output_type": "stream",
          "text": [
            "inference_transcription : sctec dedegekedeiensinegde isteten zann\n",
            "real_transcription : veel technologiebedrijven zijn begonnen in silicon valley\n",
            "Infer Wavefile:  /home/fakrul/Model_Mozilla_CommonDataSet/nl/clips/common_voice_nl_17698925.wav\n"
          ],
          "name": "stdout"
        },
        {
          "output_type": "stream",
          "text": [
            "Running inference.\n"
          ],
          "name": "stderr"
        },
        {
          "output_type": "stream",
          "text": [
            "inference_transcription : eredeson gndekesteret entke b e deen\n",
            "real_transcription : ridders jonkvrouwen en kastelen zijn typisch voor de middeleeuwen\n",
            "Infer Wavefile:  /home/fakrul/Model_Mozilla_CommonDataSet/nl/clips/common_voice_nl_17697300.wav\n"
          ],
          "name": "stdout"
        },
        {
          "output_type": "stream",
          "text": [
            "Running inference.\n"
          ],
          "name": "stderr"
        },
        {
          "output_type": "stream",
          "text": [
            "inference_transcription : i de ecstestoelalden zan anens tescane oon be\n",
            "real_transcription : in de westerse landen zijn mannen steeds vaker obees\n",
            "Infer Wavefile:  /home/fakrul/Model_Mozilla_CommonDataSet/nl/clips/common_voice_nl_18605831.wav\n"
          ],
          "name": "stdout"
        },
        {
          "output_type": "stream",
          "text": [
            "Running inference.\n"
          ],
          "name": "stderr"
        },
        {
          "output_type": "stream",
          "text": [
            "inference_transcription : bestabevevooren\n",
            "real_transcription : ben je stapelgek geworden\n",
            "Infer Wavefile:  /home/fakrul/Model_Mozilla_CommonDataSet/nl/clips/common_voice_nl_18998178.wav\n"
          ],
          "name": "stdout"
        },
        {
          "output_type": "stream",
          "text": [
            "Running inference.\n"
          ],
          "name": "stderr"
        },
        {
          "output_type": "stream",
          "text": [
            "inference_transcription : o i amar hen ler\n",
            "real_transcription : oh ik hou van garnalen\n",
            "Infer Wavefile:  /home/fakrul/Model_Mozilla_CommonDataSet/nl/clips/common_voice_nl_19165937.wav\n"
          ],
          "name": "stdout"
        },
        {
          "output_type": "stream",
          "text": [
            "Running inference.\n"
          ],
          "name": "stderr"
        },
        {
          "output_type": "stream",
          "text": [
            "inference_transcription : de ves  eenscen dedoan\n",
            "real_transcription : de vis zwom rondjes in de bokaal\n",
            "Infer Wavefile:  /home/fakrul/Model_Mozilla_CommonDataSet/nl/clips/common_voice_nl_19234166.wav\n"
          ],
          "name": "stdout"
        },
        {
          "output_type": "stream",
          "text": [
            "Running inference.\n"
          ],
          "name": "stderr"
        },
        {
          "output_type": "stream",
          "text": [
            "inference_transcription : het elis mete ter te elertvene zen gbodesteni\n",
            "real_transcription : het zuiden is meer katholiek terwijl de rest van het land vooral protestants is\n",
            "Infer Wavefile:  /home/fakrul/Model_Mozilla_CommonDataSet/nl/clips/common_voice_nl_17708073.wav\n"
          ],
          "name": "stdout"
        },
        {
          "output_type": "stream",
          "text": [
            "Running inference.\n"
          ],
          "name": "stderr"
        },
        {
          "output_type": "stream",
          "text": [
            "inference_transcription : ten e otddiden\n",
            "real_transcription : kan jij goed autorijden\n",
            "Infer Wavefile:  /home/fakrul/Model_Mozilla_CommonDataSet/nl/clips/common_voice_nl_17694887.wav\n"
          ],
          "name": "stdout"
        },
        {
          "output_type": "stream",
          "text": [
            "Running inference.\n"
          ],
          "name": "stderr"
        },
        {
          "output_type": "stream",
          "text": [
            "inference_transcription : e mo te oft ijct oen\n",
            "real_transcription : je moet de hoofdweg volgen\n",
            "Infer Wavefile:  /home/fakrul/Model_Mozilla_CommonDataSet/nl/clips/common_voice_nl_18991170.wav\n"
          ],
          "name": "stdout"
        },
        {
          "output_type": "stream",
          "text": [
            "Running inference.\n"
          ],
          "name": "stderr"
        },
        {
          "output_type": "stream",
          "text": [
            "inference_transcription : kann deteszen vrstern\n",
            "real_transcription : kan je deze zin fluisteren\n",
            "Infer Wavefile:  /home/fakrul/Model_Mozilla_CommonDataSet/nl/clips/common_voice_nl_18258862.wav\n"
          ],
          "name": "stdout"
        },
        {
          "output_type": "stream",
          "text": [
            "Running inference.\n"
          ],
          "name": "stderr"
        },
        {
          "output_type": "stream",
          "text": [
            "inference_transcription : r ene wolawen emenhen ienen en ein oeenec\n",
            "real_transcription : vandalen hebben mijn auto gesloopt\n",
            "Infer Wavefile:  /home/fakrul/Model_Mozilla_CommonDataSet/nl/clips/common_voice_nl_19349669.wav\n"
          ],
          "name": "stdout"
        },
        {
          "output_type": "stream",
          "text": [
            "Running inference.\n"
          ],
          "name": "stderr"
        },
        {
          "output_type": "stream",
          "text": [
            "inference_transcription : os idate mijt ent kontij\n",
            "real_transcription : hoort gibraltar bij het verenigd koninkrijk\n",
            "Infer Wavefile:  /home/fakrul/Model_Mozilla_CommonDataSet/nl/clips/common_voice_nl_17694050.wav\n"
          ],
          "name": "stdout"
        },
        {
          "output_type": "stream",
          "text": [
            "Running inference.\n"
          ],
          "name": "stderr"
        },
        {
          "output_type": "stream",
          "text": [
            "inference_transcription : indestegal mapeit pass\n",
            "real_transcription : mijn jongste gaat nog naar de kleuterklas\n",
            "Infer Wavefile:  /home/fakrul/Model_Mozilla_CommonDataSet/nl/clips/common_voice_nl_19035081.wav\n"
          ],
          "name": "stdout"
        },
        {
          "output_type": "stream",
          "text": [
            "Running inference.\n"
          ],
          "name": "stderr"
        },
        {
          "output_type": "stream",
          "text": [
            "inference_transcription : destadote pelen votet nikered\n",
            "real_transcription : wat staat er op de planning voor dit weekend\n",
            "Infer Wavefile:  /home/fakrul/Model_Mozilla_CommonDataSet/nl/clips/common_voice_nl_17698088.wav\n"
          ],
          "name": "stdout"
        },
        {
          "output_type": "stream",
          "text": [
            "Running inference.\n"
          ],
          "name": "stderr"
        },
        {
          "output_type": "stream",
          "text": [
            "inference_transcription : e dederih me veti e evisesvonn\n",
            "real_transcription : hun bedrijf bevindt zich in een grijze zone\n",
            "Infer Wavefile:  /home/fakrul/Model_Mozilla_CommonDataSet/nl/clips/common_voice_nl_18336158.wav\n"
          ],
          "name": "stdout"
        },
        {
          "output_type": "stream",
          "text": [
            "Running inference.\n"
          ],
          "name": "stderr"
        },
        {
          "output_type": "stream",
          "text": [
            "inference_transcription : edescenmibenlarejko int met gezont aden\n",
            "real_transcription : het is voor mij belangrijk om het internet gezond te houden\n",
            "Infer Wavefile:  /home/fakrul/Model_Mozilla_CommonDataSet/nl/clips/common_voice_nl_19620695.wav\n"
          ],
          "name": "stdout"
        },
        {
          "output_type": "stream",
          "text": [
            "Running inference.\n"
          ],
          "name": "stderr"
        },
        {
          "output_type": "stream",
          "text": [
            "inference_transcription :  verworden te arttepe kokan niteaet\n",
            "real_transcription : het is verboden om tabaksproducten te verkopen aan minderjarigen\n",
            "Infer Wavefile:  /home/fakrul/Model_Mozilla_CommonDataSet/nl/clips/common_voice_nl_17756569.wav\n"
          ],
          "name": "stdout"
        },
        {
          "output_type": "stream",
          "text": [
            "Running inference.\n"
          ],
          "name": "stderr"
        },
        {
          "output_type": "stream",
          "text": [
            "inference_transcription : eis mel pon bin te banmn\n",
            "real_transcription : zij is wel een pientere dame\n",
            "Infer Wavefile:  /home/fakrul/Model_Mozilla_CommonDataSet/nl/clips/common_voice_nl_18754502.wav\n"
          ],
          "name": "stdout"
        },
        {
          "output_type": "stream",
          "text": [
            "Running inference.\n"
          ],
          "name": "stderr"
        },
        {
          "output_type": "stream",
          "text": [
            "inference_transcription : si esinn ponit gernit vorenn voges teret ande ha veneercin\n",
            "real_transcription : energie kan niet vernietigd worden volgens de wet van behoud van energie\n",
            "Infer Wavefile:  /home/fakrul/Model_Mozilla_CommonDataSet/nl/clips/common_voice_nl_19219784.wav\n"
          ],
          "name": "stdout"
        },
        {
          "output_type": "stream",
          "text": [
            "Running inference.\n"
          ],
          "name": "stderr"
        },
        {
          "output_type": "stream",
          "text": [
            "inference_transcription : e detvascere pa en\n",
            "real_transcription : ik heb twee verschillende kousen aan\n",
            "Infer Wavefile:  /home/fakrul/Model_Mozilla_CommonDataSet/nl/clips/common_voice_nl_17697118.wav\n"
          ],
          "name": "stdout"
        },
        {
          "output_type": "stream",
          "text": [
            "Running inference.\n"
          ],
          "name": "stderr"
        },
        {
          "output_type": "stream",
          "text": [
            "inference_transcription : on bave bla ijdeerkini onmode a vonden\n",
            "real_transcription : op welke bladzijde heb je die formule gevonden\n",
            "Infer Wavefile:  /home/fakrul/Model_Mozilla_CommonDataSet/nl/clips/common_voice_nl_17695527.wav\n"
          ],
          "name": "stdout"
        },
        {
          "output_type": "stream",
          "text": [
            "Running inference.\n"
          ],
          "name": "stderr"
        },
        {
          "output_type": "stream",
          "text": [
            "inference_transcription : e ar pen mo datomi da ten pen ek\n",
            "real_transcription : de werknemer werkte meer dan veertig uur per week\n",
            "Infer Wavefile:  /home/fakrul/Model_Mozilla_CommonDataSet/nl/clips/common_voice_nl_17695455.wav\n"
          ],
          "name": "stdout"
        },
        {
          "output_type": "stream",
          "text": [
            "Running inference.\n"
          ],
          "name": "stderr"
        },
        {
          "output_type": "stream",
          "text": [
            "inference_transcription : te tester en es oven n\n",
            "real_transcription : de stemming is overmorgen\n",
            "Infer Wavefile:  /home/fakrul/Model_Mozilla_CommonDataSet/nl/clips/common_voice_nl_18873525.wav\n"
          ],
          "name": "stdout"
        },
        {
          "output_type": "stream",
          "text": [
            "Running inference.\n"
          ],
          "name": "stderr"
        },
        {
          "output_type": "stream",
          "text": [
            "inference_transcription : dade westijt mastik itgen pet\n",
            "real_transcription : na de wedstrijd was ik uitgeput\n",
            "Infer Wavefile:  /home/fakrul/Model_Mozilla_CommonDataSet/nl/clips/common_voice_nl_17698947.wav\n"
          ],
          "name": "stdout"
        },
        {
          "output_type": "stream",
          "text": [
            "Running inference.\n"
          ],
          "name": "stderr"
        },
        {
          "output_type": "stream",
          "text": [
            "inference_transcription : zate katebrtocgnde\n",
            "real_transcription : zwarte katten brengen ongeluk\n",
            "Infer Wavefile:  /home/fakrul/Model_Mozilla_CommonDataSet/nl/clips/common_voice_nl_17705111.wav\n"
          ],
          "name": "stdout"
        },
        {
          "output_type": "stream",
          "text": [
            "Running inference.\n"
          ],
          "name": "stderr"
        },
        {
          "output_type": "stream",
          "text": [
            "inference_transcription : hets velt e darden ante etisen man entbij e te mann den onde ontenan\n",
            "real_transcription : het grootste nadeel van elektrische wagens blijft dat het lang duurt om ze op te laden\n",
            "Infer Wavefile:  /home/fakrul/Model_Mozilla_CommonDataSet/nl/clips/common_voice_nl_17694558.wav\n"
          ],
          "name": "stdout"
        },
        {
          "output_type": "stream",
          "text": [
            "Running inference.\n"
          ],
          "name": "stderr"
        },
        {
          "output_type": "stream",
          "text": [
            "inference_transcription :  ges perst poste\n",
            "real_transcription : yves perste de appelsienen\n",
            "Infer Wavefile:  /home/fakrul/Model_Mozilla_CommonDataSet/nl/clips/common_voice_nl_18915333.wav\n"
          ],
          "name": "stdout"
        },
        {
          "output_type": "stream",
          "text": [
            "Running inference.\n"
          ],
          "name": "stderr"
        },
        {
          "output_type": "stream",
          "text": [
            "inference_transcription : i toet vegte sos\n",
            "real_transcription : ik doe niet graag de afwas\n",
            "Infer Wavefile:  /home/fakrul/Model_Mozilla_CommonDataSet/nl/clips/common_voice_nl_19530792.wav\n"
          ],
          "name": "stdout"
        },
        {
          "output_type": "stream",
          "text": [
            "Running inference.\n"
          ],
          "name": "stderr"
        },
        {
          "output_type": "stream",
          "text": [
            "inference_transcription : egee n et onmonte beze ean de i erni alezo da in e maste an\n",
            "real_transcription : we hebben geen tijd om rond de bergen te gaan dus er zit niets anders op dan via de bergpas te gaan\n",
            "Infer Wavefile:  /home/fakrul/Model_Mozilla_CommonDataSet/nl/clips/common_voice_nl_18601112.wav\n"
          ],
          "name": "stdout"
        },
        {
          "output_type": "stream",
          "text": [
            "Running inference.\n"
          ],
          "name": "stderr"
        },
        {
          "output_type": "stream",
          "text": [
            "inference_transcription : der nataft isisen brerg\n",
            "real_transcription : drie maal twaalf is zesendertig\n",
            "Infer Wavefile:  /home/fakrul/Model_Mozilla_CommonDataSet/nl/clips/common_voice_nl_19421018.wav\n"
          ],
          "name": "stdout"
        },
        {
          "output_type": "stream",
          "text": [
            "Running inference.\n"
          ],
          "name": "stderr"
        },
        {
          "output_type": "stream",
          "text": [
            "inference_transcription : tegnt e genlet ace ko ete\n",
            "real_transcription : ze ergert zich aan de trage computer\n",
            "Infer Wavefile:  /home/fakrul/Model_Mozilla_CommonDataSet/nl/clips/common_voice_nl_17694700.wav\n"
          ],
          "name": "stdout"
        },
        {
          "output_type": "stream",
          "text": [
            "Running inference.\n"
          ],
          "name": "stderr"
        },
        {
          "output_type": "stream",
          "text": [
            "inference_transcription :  en e dopkrit\n",
            "real_transcription : ben je het dopje kwijt\n",
            "Infer Wavefile:  /home/fakrul/Model_Mozilla_CommonDataSet/nl/clips/common_voice_nl_17698423.wav\n"
          ],
          "name": "stdout"
        },
        {
          "output_type": "stream",
          "text": [
            "Running inference.\n"
          ],
          "name": "stderr"
        },
        {
          "output_type": "stream",
          "text": [
            "inference_transcription : e ettotekot\n",
            "real_transcription : er ligt stof op de kast\n",
            "Infer Wavefile:  /home/fakrul/Model_Mozilla_CommonDataSet/nl/clips/common_voice_nl_18467518.wav\n"
          ],
          "name": "stdout"
        },
        {
          "output_type": "stream",
          "text": [
            "Running inference.\n"
          ],
          "name": "stderr"
        },
        {
          "output_type": "stream",
          "text": [
            "inference_transcription : ostin de oosen os en vntn\n",
            "real_transcription : als kind hadden zijn ouders hem leren schaatsen\n",
            "Infer Wavefile:  /home/fakrul/Model_Mozilla_CommonDataSet/nl/clips/common_voice_nl_18083154.wav\n"
          ],
          "name": "stdout"
        },
        {
          "output_type": "stream",
          "text": [
            "Running inference.\n"
          ],
          "name": "stderr"
        },
        {
          "output_type": "stream",
          "text": [
            "inference_transcription : eteste etiee lanseaste enarlent\n",
            "real_transcription : dat is de eerste partij die ook het menselijke aspect benadrukt\n",
            "Infer Wavefile:  /home/fakrul/Model_Mozilla_CommonDataSet/nl/clips/common_voice_nl_19065005.wav\n"
          ],
          "name": "stdout"
        },
        {
          "output_type": "stream",
          "text": [
            "Running inference.\n"
          ],
          "name": "stderr"
        },
        {
          "output_type": "stream",
          "text": [
            "inference_transcription : ove imoweset niscann \n",
            "real_transcription : hoeveel inwoners heeft moskou\n",
            "Infer Wavefile:  /home/fakrul/Model_Mozilla_CommonDataSet/nl/clips/common_voice_nl_18274890.wav\n"
          ],
          "name": "stdout"
        },
        {
          "output_type": "stream",
          "text": [
            "Running inference.\n"
          ],
          "name": "stderr"
        },
        {
          "output_type": "stream",
          "text": [
            "inference_transcription : e tent ce o en bejn e olenketisve koogtte\n",
            "real_transcription : het tijdschrift wordt op bijna alle locaties verkocht\n",
            "Infer Wavefile:  /home/fakrul/Model_Mozilla_CommonDataSet/nl/clips/common_voice_nl_17699270.wav\n"
          ],
          "name": "stdout"
        },
        {
          "output_type": "stream",
          "text": [
            "Running inference.\n"
          ],
          "name": "stderr"
        },
        {
          "output_type": "stream",
          "text": [
            "inference_transcription : esces e eseooissa\n",
            "real_transcription : de geschiedenis van de egyptenaren is enorm interessant\n",
            "Infer Wavefile:  /home/fakrul/Model_Mozilla_CommonDataSet/nl/clips/common_voice_nl_18980408.wav\n"
          ],
          "name": "stdout"
        },
        {
          "output_type": "stream",
          "text": [
            "Running inference.\n"
          ],
          "name": "stderr"
        },
        {
          "output_type": "stream",
          "text": [
            "inference_transcription : destratles oopen b mot zede kastee bent epa en\n",
            "real_transcription : de straat ligt open want ze zijn de kasseien aan het vervangen\n",
            "Infer Wavefile:  /home/fakrul/Model_Mozilla_CommonDataSet/nl/clips/common_voice_nl_17944834.wav\n"
          ],
          "name": "stdout"
        },
        {
          "output_type": "stream",
          "text": [
            "Running inference.\n"
          ],
          "name": "stderr"
        },
        {
          "output_type": "stream",
          "text": [
            "inference_transcription : i a ple haone ondede on\n",
            "real_transcription : aardappelen groeien onder de grond\n",
            "Infer Wavefile:  /home/fakrul/Model_Mozilla_CommonDataSet/nl/clips/common_voice_nl_18413239.wav\n"
          ],
          "name": "stdout"
        },
        {
          "output_type": "stream",
          "text": [
            "Running inference.\n"
          ],
          "name": "stderr"
        },
        {
          "output_type": "stream",
          "text": [
            "inference_transcription : gre e getrerde ajt anletkler orlismahte ascgaten\n",
            "real_transcription : gelukkig hebben we de tijd van het kolonialisme achter ons gelaten\n",
            "Infer Wavefile:  /home/fakrul/Model_Mozilla_CommonDataSet/nl/clips/common_voice_nl_18990507.wav\n"
          ],
          "name": "stdout"
        },
        {
          "output_type": "stream",
          "text": [
            "Running inference.\n"
          ],
          "name": "stderr"
        },
        {
          "output_type": "stream",
          "text": [
            "inference_transcription : e pe de argtkrt\n",
            "real_transcription : ik ben de perforator kwijt\n",
            "Infer Wavefile:  /home/fakrul/Model_Mozilla_CommonDataSet/nl/clips/common_voice_nl_19222372.wav\n"
          ],
          "name": "stdout"
        },
        {
          "output_type": "stream",
          "text": [
            "Running inference.\n"
          ],
          "name": "stderr"
        },
        {
          "output_type": "stream",
          "text": [
            "inference_transcription : e e ten to ven\n",
            "real_transcription : de sfeerverlichting doet veel\n",
            "Infer Wavefile:  /home/fakrul/Model_Mozilla_CommonDataSet/nl/clips/common_voice_nl_17695287.wav\n"
          ],
          "name": "stdout"
        },
        {
          "output_type": "stream",
          "text": [
            "Running inference.\n"
          ],
          "name": "stderr"
        },
        {
          "output_type": "stream",
          "text": [
            "inference_transcription : e tlar en is iel vals\n",
            "real_transcription : deze verklaring is geheel vals\n",
            "Infer Wavefile:  /home/fakrul/Model_Mozilla_CommonDataSet/nl/clips/common_voice_nl_17695240.wav\n"
          ],
          "name": "stdout"
        },
        {
          "output_type": "stream",
          "text": [
            "Running inference.\n"
          ],
          "name": "stderr"
        },
        {
          "output_type": "stream",
          "text": [
            "inference_transcription : e to o gedetistno esten matcin on\n",
            "real_transcription : je hebt toch nog relatief snel extra informatie gevonden\n",
            "Infer Wavefile:  /home/fakrul/Model_Mozilla_CommonDataSet/nl/clips/common_voice_nl_17709890.wav\n"
          ],
          "name": "stdout"
        },
        {
          "output_type": "stream",
          "text": [
            "Running inference.\n"
          ],
          "name": "stderr"
        },
        {
          "output_type": "stream",
          "text": [
            "inference_transcription : in konende zen kendelersten on de arsnistisvermahten\n",
            "real_transcription : in de komende decennia kunnen we de eerste bemande marsmissies verwachten\n",
            "Infer Wavefile:  /home/fakrul/Model_Mozilla_CommonDataSet/nl/clips/common_voice_nl_17717188.wav\n"
          ],
          "name": "stdout"
        },
        {
          "output_type": "stream",
          "text": [
            "Running inference.\n"
          ],
          "name": "stderr"
        },
        {
          "output_type": "stream",
          "text": [
            "inference_transcription : sszijn oden te pese mate ele n et gone\n",
            "real_transcription : ze zijn momenteel bezig met de fundering van het gebouw\n",
            "Infer Wavefile:  /home/fakrul/Model_Mozilla_CommonDataSet/nl/clips/common_voice_nl_17731761.wav\n"
          ],
          "name": "stdout"
        },
        {
          "output_type": "stream",
          "text": [
            "Running inference.\n"
          ],
          "name": "stderr"
        },
        {
          "output_type": "stream",
          "text": [
            "inference_transcription : i den aa a o e wo laenen\n",
            "real_transcription : in de namiddag volgen er opklaringen\n",
            "Infer Wavefile:  /home/fakrul/Model_Mozilla_CommonDataSet/nl/clips/common_voice_nl_18058265.wav\n"
          ],
          "name": "stdout"
        },
        {
          "output_type": "stream",
          "text": [
            "Running inference.\n"
          ],
          "name": "stderr"
        },
        {
          "output_type": "stream",
          "text": [
            "inference_transcription :  este ages eiergeroorat in peltce asdent arnt\n",
            "real_transcription : hij moest de afwas doen gezien hij verloren had in het spelletje blad steen schaar\n",
            "Infer Wavefile:  /home/fakrul/Model_Mozilla_CommonDataSet/nl/clips/common_voice_nl_18260601.wav\n"
          ],
          "name": "stdout"
        },
        {
          "output_type": "stream",
          "text": [
            "Running inference.\n"
          ],
          "name": "stderr"
        },
        {
          "output_type": "stream",
          "text": [
            "inference_transcription : o ese oles gst\n",
            "real_transcription : hoe meer zielen hoe meer vreugd\n",
            "Infer Wavefile:  /home/fakrul/Model_Mozilla_CommonDataSet/nl/clips/common_voice_nl_17755622.wav\n"
          ],
          "name": "stdout"
        },
        {
          "output_type": "stream",
          "text": [
            "Running inference.\n"
          ],
          "name": "stderr"
        },
        {
          "output_type": "stream",
          "text": [
            "inference_transcription : en bale paaan bar n aan\n",
            "real_transcription : de dodentocht gaat door in bornem\n",
            "Infer Wavefile:  /home/fakrul/Model_Mozilla_CommonDataSet/nl/clips/common_voice_nl_17696215.wav\n"
          ],
          "name": "stdout"
        },
        {
          "output_type": "stream",
          "text": [
            "Running inference.\n"
          ],
          "name": "stderr"
        },
        {
          "output_type": "stream",
          "text": [
            "inference_transcription : est an e a ma met vowene wans o on vijdevont gidetsetenlanen\n",
            "real_transcription : de straaljager had nog net voldoende brandstof om veilig op het vliegdekschip te landen\n",
            "Infer Wavefile:  /home/fakrul/Model_Mozilla_CommonDataSet/nl/clips/common_voice_nl_17900163.wav\n"
          ],
          "name": "stdout"
        },
        {
          "output_type": "stream",
          "text": [
            "Running inference.\n"
          ],
          "name": "stderr"
        },
        {
          "output_type": "stream",
          "text": [
            "inference_transcription : a ste odetet en de ten bansepe\n",
            "real_transcription : parels zijn moeilijk te vinden en daarom zeer begeerd\n",
            "Infer Wavefile:  /home/fakrul/Model_Mozilla_CommonDataSet/nl/clips/common_voice_nl_17944831.wav\n"
          ],
          "name": "stdout"
        },
        {
          "output_type": "stream",
          "text": [
            "Running inference.\n"
          ],
          "name": "stderr"
        },
        {
          "output_type": "stream",
          "text": [
            "inference_transcription : naarlere i ar hal \n",
            "real_transcription : zo lang er leven is is er hoop\n",
            "Infer Wavefile:  /home/fakrul/Model_Mozilla_CommonDataSet/nl/clips/common_voice_nl_18413230.wav\n"
          ],
          "name": "stdout"
        },
        {
          "output_type": "stream",
          "text": [
            "Running inference.\n"
          ],
          "name": "stderr"
        },
        {
          "output_type": "stream",
          "text": [
            "inference_transcription : eno met asclasoverste\n",
            "real_transcription : je moet niet aarzelen als je oversteekt\n",
            "Infer Wavefile:  /home/fakrul/Model_Mozilla_CommonDataSet/nl/clips/common_voice_nl_18701780.wav\n"
          ],
          "name": "stdout"
        },
        {
          "output_type": "stream",
          "text": [
            "Running inference.\n"
          ],
          "name": "stderr"
        },
        {
          "output_type": "stream",
          "text": [
            "inference_transcription : e  noti mene nne denko\n",
            "real_transcription : de verf laat ik mengen in de winkel\n",
            "Infer Wavefile:  /home/fakrul/Model_Mozilla_CommonDataSet/nl/clips/common_voice_nl_17695762.wav\n"
          ],
          "name": "stdout"
        },
        {
          "output_type": "stream",
          "text": [
            "Running inference.\n"
          ],
          "name": "stderr"
        },
        {
          "output_type": "stream",
          "text": [
            "inference_transcription : de desenkengen eistenn\n",
            "real_transcription : dat is een ingenieus systeem\n",
            "Infer Wavefile:  /home/fakrul/Model_Mozilla_CommonDataSet/nl/clips/common_voice_nl_17694102.wav\n"
          ],
          "name": "stdout"
        },
        {
          "output_type": "stream",
          "text": [
            "Running inference.\n"
          ],
          "name": "stderr"
        },
        {
          "output_type": "stream",
          "text": [
            "inference_transcription : o arwelan veknende le vens ooendere\n",
            "real_transcription : al jarenlang verkleinen de gletsjers overal in de wereld\n",
            "Infer Wavefile:  /home/fakrul/Model_Mozilla_CommonDataSet/nl/clips/common_voice_nl_19816550.wav\n"
          ],
          "name": "stdout"
        },
        {
          "output_type": "stream",
          "text": [
            "Running inference.\n"
          ],
          "name": "stderr"
        },
        {
          "output_type": "stream",
          "text": [
            "inference_transcription : estenma tetien de is len det\n",
            "real_transcription : het is knap dat je vrijwilligerswerk doet\n",
            "Infer Wavefile:  /home/fakrul/Model_Mozilla_CommonDataSet/nl/clips/common_voice_nl_19816671.wav\n"
          ],
          "name": "stdout"
        },
        {
          "output_type": "stream",
          "text": [
            "Running inference.\n"
          ],
          "name": "stderr"
        },
        {
          "output_type": "stream",
          "text": [
            "inference_transcription : di den i jnae en a\n",
            "real_transcription : die inzichten zijn al achterhaald\n",
            "Infer Wavefile:  /home/fakrul/Model_Mozilla_CommonDataSet/nl/clips/common_voice_nl_17925264.wav\n"
          ],
          "name": "stdout"
        },
        {
          "output_type": "stream",
          "text": [
            "Running inference.\n"
          ],
          "name": "stderr"
        },
        {
          "output_type": "stream",
          "text": [
            "inference_transcription : et en vsceooweletibr keinevgeo etin vetin aten tieplen\n",
            "real_transcription : met een virtualrealitybril kan je in een virtualrealityomgeving avonturen beleven\n",
            "Infer Wavefile:  /home/fakrul/Model_Mozilla_CommonDataSet/nl/clips/common_voice_nl_18831064.wav\n"
          ],
          "name": "stdout"
        },
        {
          "output_type": "stream",
          "text": [
            "Running inference.\n"
          ],
          "name": "stderr"
        },
        {
          "output_type": "stream",
          "text": [
            "inference_transcription : itsopdact ven miste iszen mes\n",
            "real_transcription : op zondag verniste hij zijn meubels\n",
            "Infer Wavefile:  /home/fakrul/Model_Mozilla_CommonDataSet/nl/clips/common_voice_nl_19234160.wav\n"
          ],
          "name": "stdout"
        },
        {
          "output_type": "stream",
          "text": [
            "Running inference.\n"
          ],
          "name": "stderr"
        },
        {
          "output_type": "stream",
          "text": [
            "inference_transcription : et ekert et\n",
            "real_transcription : wat heb je het liefst\n",
            "Infer Wavefile:  /home/fakrul/Model_Mozilla_CommonDataSet/nl/clips/common_voice_nl_17911266.wav\n"
          ],
          "name": "stdout"
        },
        {
          "output_type": "stream",
          "text": [
            "Running inference.\n"
          ],
          "name": "stderr"
        },
        {
          "output_type": "stream",
          "text": [
            "inference_transcription : de vos vosi baiden det valst ga vondan\n",
            "real_transcription : de vos was zichtbaar in het licht van de straatlantaarn\n",
            "Infer Wavefile:  /home/fakrul/Model_Mozilla_CommonDataSet/nl/clips/common_voice_nl_19242496.wav\n"
          ],
          "name": "stdout"
        },
        {
          "output_type": "stream",
          "text": [
            "Running inference.\n"
          ],
          "name": "stderr"
        },
        {
          "output_type": "stream",
          "text": [
            "inference_transcription : ibeano ls o me lan eno an noan peleole oben\n",
            "real_transcription : ideaal als je op het laatste moment nog een cadeau wilt kopen\n",
            "Infer Wavefile:  /home/fakrul/Model_Mozilla_CommonDataSet/nl/clips/common_voice_nl_17944791.wav\n"
          ],
          "name": "stdout"
        },
        {
          "output_type": "stream",
          "text": [
            "Running inference.\n"
          ],
          "name": "stderr"
        },
        {
          "output_type": "stream",
          "text": [
            "inference_transcription : e indo laen ane delme\n",
            "real_transcription : de ziekenwagen kwam net te laat\n",
            "Infer Wavefile:  /home/fakrul/Model_Mozilla_CommonDataSet/nl/clips/common_voice_nl_18897182.wav\n"
          ],
          "name": "stdout"
        },
        {
          "output_type": "stream",
          "text": [
            "Running inference.\n"
          ],
          "name": "stderr"
        },
        {
          "output_type": "stream",
          "text": [
            "inference_transcription : ij con pooezeni en enett\n",
            "real_transcription : hercule poirot is een detective\n",
            "Infer Wavefile:  /home/fakrul/Model_Mozilla_CommonDataSet/nl/clips/common_voice_nl_18539614.wav\n"
          ],
          "name": "stdout"
        },
        {
          "output_type": "stream",
          "text": [
            "Running inference.\n"
          ],
          "name": "stderr"
        },
        {
          "output_type": "stream",
          "text": [
            "inference_transcription : atet en cenan e margen eg boneenn de e\n",
            "real_transcription : een aantal ontwikkelingslanden maken een geweldige groei door\n",
            "Infer Wavefile:  /home/fakrul/Model_Mozilla_CommonDataSet/nl/clips/common_voice_nl_17703180.wav\n"
          ],
          "name": "stdout"
        },
        {
          "output_type": "stream",
          "text": [
            "Running inference.\n"
          ],
          "name": "stderr"
        },
        {
          "output_type": "stream",
          "text": [
            "inference_transcription : ejn at onsza pin poten pot\n",
            "real_transcription : hij had een satijnen kostuum gekocht\n",
            "Infer Wavefile:  /home/fakrul/Model_Mozilla_CommonDataSet/nl/clips/common_voice_nl_17701349.wav\n"
          ],
          "name": "stdout"
        },
        {
          "output_type": "stream",
          "text": [
            "Running inference.\n"
          ],
          "name": "stderr"
        },
        {
          "output_type": "stream",
          "text": [
            "inference_transcription : a it en ekt\n",
            "real_transcription : dat liep niet van een leien dakje\n",
            "Infer Wavefile:  /home/fakrul/Model_Mozilla_CommonDataSet/nl/clips/common_voice_nl_18336157.wav\n"
          ],
          "name": "stdout"
        },
        {
          "output_type": "stream",
          "text": [
            "Running inference.\n"
          ],
          "name": "stderr"
        },
        {
          "output_type": "stream",
          "text": [
            "inference_transcription : tet vordede diobepea onedende kadedepebot\n",
            "real_transcription : dat vrolijke duo is begonnen in de cabaretwereld\n",
            "Infer Wavefile:  /home/fakrul/Model_Mozilla_CommonDataSet/nl/clips/common_voice_nl_19131744.wav\n"
          ],
          "name": "stdout"
        },
        {
          "output_type": "stream",
          "text": [
            "Running inference.\n"
          ],
          "name": "stderr"
        },
        {
          "output_type": "stream",
          "text": [
            "inference_transcription : te ielet  ve velo  linonse mosten \n",
            "real_transcription : dat nieuwe bedrijf kan veel beloven maar ik moet het nog zien\n",
            "Infer Wavefile:  /home/fakrul/Model_Mozilla_CommonDataSet/nl/clips/common_voice_nl_17700255.wav\n"
          ],
          "name": "stdout"
        },
        {
          "output_type": "stream",
          "text": [
            "Running inference.\n"
          ],
          "name": "stderr"
        },
        {
          "output_type": "stream",
          "text": [
            "inference_transcription : ie distkere gebeweknn kine hat iscedikon gontge e an ote itn biete nan maden egostenvoan atijen\n",
            "real_transcription : in een wiskundige bewerking kan je haakjes gebruiken om voorrang te geven aan een operatie die met de normale regels geen voorrang zou krijgen\n",
            "Infer Wavefile:  /home/fakrul/Model_Mozilla_CommonDataSet/nl/clips/common_voice_nl_19074697.wav\n"
          ],
          "name": "stdout"
        },
        {
          "output_type": "stream",
          "text": [
            "Running inference.\n"
          ],
          "name": "stderr"
        },
        {
          "output_type": "stream",
          "text": [
            "inference_transcription : es itcteopin oe titin odelettnt\n",
            "real_transcription : de spits van het team scoorde twee keer in de wedstrijd\n",
            "Infer Wavefile:  /home/fakrul/Model_Mozilla_CommonDataSet/nl/clips/common_voice_nl_18991674.wav\n"
          ],
          "name": "stdout"
        },
        {
          "output_type": "stream",
          "text": [
            "Running inference.\n"
          ],
          "name": "stderr"
        },
        {
          "output_type": "stream",
          "text": [
            "inference_transcription : ete bordit kt totsveteit\n",
            "real_transcription : wat de boer niet kent dat vreet hij niet\n",
            "Infer Wavefile:  /home/fakrul/Model_Mozilla_CommonDataSet/nl/clips/common_voice_nl_19816696.wav\n"
          ],
          "name": "stdout"
        },
        {
          "output_type": "stream",
          "text": [
            "Running inference.\n"
          ],
          "name": "stderr"
        },
        {
          "output_type": "stream",
          "text": [
            "inference_transcription : en  znmende pn\n",
            "real_transcription : deens is haar moedertaal\n",
            "Infer Wavefile:  /home/fakrul/Model_Mozilla_CommonDataSet/nl/clips/common_voice_nl_18455325.wav\n"
          ],
          "name": "stdout"
        },
        {
          "output_type": "stream",
          "text": [
            "Running inference.\n"
          ],
          "name": "stderr"
        },
        {
          "output_type": "stream",
          "text": [
            "inference_transcription : dokro de van osterek ist eek de zerelacpe\n",
            "real_transcription : een groot deel van oostenrijk is eigenlijk vrij vlak\n",
            "Infer Wavefile:  /home/fakrul/Model_Mozilla_CommonDataSet/nl/clips/common_voice_nl_19349676.wav\n"
          ],
          "name": "stdout"
        },
        {
          "output_type": "stream",
          "text": [
            "Running inference.\n"
          ],
          "name": "stderr"
        },
        {
          "output_type": "stream",
          "text": [
            "inference_transcription : okenorgersekiestiandebetootsoteeken\n",
            "real_transcription : welke burgers heb je het liefst die van de mcdonald's of de burger king\n",
            "Infer Wavefile:  /home/fakrul/Model_Mozilla_CommonDataSet/nl/clips/common_voice_nl_17702016.wav\n"
          ],
          "name": "stdout"
        },
        {
          "output_type": "stream",
          "text": [
            "Running inference.\n"
          ],
          "name": "stderr"
        },
        {
          "output_type": "stream",
          "text": [
            "inference_transcription : latstens aa wot atve bat onen pestemesnit\n",
            "real_transcription : blad steen schaar wordt vaak gebruikt om een keuze te beslechten\n",
            "Infer Wavefile:  /home/fakrul/Model_Mozilla_CommonDataSet/nl/clips/common_voice_nl_18062360.wav\n"
          ],
          "name": "stdout"
        },
        {
          "output_type": "stream",
          "text": [
            "Running inference.\n"
          ],
          "name": "stderr"
        },
        {
          "output_type": "stream",
          "text": [
            "inference_transcription : vil an desobater vonndeszabenn tin\n",
            "real_transcription : veel van de soldaten vormden samen een team\n",
            "Infer Wavefile:  /home/fakrul/Model_Mozilla_CommonDataSet/nl/clips/common_voice_nl_17696057.wav\n"
          ],
          "name": "stdout"
        },
        {
          "output_type": "stream",
          "text": [
            "Running inference.\n"
          ],
          "name": "stderr"
        },
        {
          "output_type": "stream",
          "text": [
            "inference_transcription : stin vein den dete ga boge ptdaesest\n",
            "real_transcription : er zijn veel lelijke gebouwen gebouwd in de jaren zestig\n",
            "Infer Wavefile:  /home/fakrul/Model_Mozilla_CommonDataSet/nl/clips/common_voice_nl_17758430.wav\n"
          ],
          "name": "stdout"
        },
        {
          "output_type": "stream",
          "text": [
            "Running inference.\n"
          ],
          "name": "stderr"
        },
        {
          "output_type": "stream",
          "text": [
            "inference_transcription : hij  ge dake tesn idet ijken\n",
            "real_transcription : ga je vanavond naar temptation island kijken\n",
            "Infer Wavefile:  /home/fakrul/Model_Mozilla_CommonDataSet/nl/clips/common_voice_nl_17716797.wav\n"
          ],
          "name": "stdout"
        },
        {
          "output_type": "stream",
          "text": [
            "Running inference.\n"
          ],
          "name": "stderr"
        },
        {
          "output_type": "stream",
          "text": [
            "inference_transcription : e vandesponorde ede britts belos veogeent\n",
            "real_transcription : een van de spelmogelijkheden bij risk is wereldverovering\n",
            "Infer Wavefile:  /home/fakrul/Model_Mozilla_CommonDataSet/nl/clips/common_voice_nl_18727461.wav\n"
          ],
          "name": "stdout"
        },
        {
          "output_type": "stream",
          "text": [
            "Running inference.\n"
          ],
          "name": "stderr"
        },
        {
          "output_type": "stream",
          "text": [
            "inference_transcription : be vakensn kornlove de erder\n",
            "real_transcription : de varkens en koeien renden overal op de boerderij\n",
            "Infer Wavefile:  /home/fakrul/Model_Mozilla_CommonDataSet/nl/clips/common_voice_nl_17696378.wav\n"
          ],
          "name": "stdout"
        },
        {
          "output_type": "stream",
          "text": [
            "Running inference.\n"
          ],
          "name": "stderr"
        },
        {
          "output_type": "stream",
          "text": [
            "inference_transcription : asventan vieret enter rro enendacg\n",
            "real_transcription : er zitten vierentwintig uren in een dag\n",
            "Infer Wavefile:  /home/fakrul/Model_Mozilla_CommonDataSet/nl/clips/common_voice_nl_17703109.wav\n"
          ],
          "name": "stdout"
        },
        {
          "output_type": "stream",
          "text": [
            "Running inference.\n"
          ],
          "name": "stderr"
        },
        {
          "output_type": "stream",
          "text": [
            "inference_transcription :  spret an e en okende\n",
            "real_transcription : hij spreekt frans nederlands engels en duits\n",
            "Infer Wavefile:  /home/fakrul/Model_Mozilla_CommonDataSet/nl/clips/common_voice_nl_17709013.wav\n"
          ],
          "name": "stdout"
        },
        {
          "output_type": "stream",
          "text": [
            "Running inference.\n"
          ],
          "name": "stderr"
        },
        {
          "output_type": "stream",
          "text": [
            "inference_transcription : esti mansee intvonnand en bar ino\n",
            "real_transcription : eskimo's leven in groenland en bouwen iglo's\n",
            "Infer Wavefile:  /home/fakrul/Model_Mozilla_CommonDataSet/nl/clips/common_voice_nl_17698233.wav\n"
          ],
          "name": "stdout"
        },
        {
          "output_type": "stream",
          "text": [
            "Running inference.\n"
          ],
          "name": "stderr"
        },
        {
          "output_type": "stream",
          "text": [
            "inference_transcription : hen tete pijt vorlete et veketet\n",
            "real_transcription : het duurt een tijdje voordat je rood vlees verteerd hebt\n",
            "Infer Wavefile:  /home/fakrul/Model_Mozilla_CommonDataSet/nl/clips/common_voice_nl_19131746.wav\n"
          ],
          "name": "stdout"
        },
        {
          "output_type": "stream",
          "text": [
            "Running inference.\n"
          ],
          "name": "stderr"
        },
        {
          "output_type": "stream",
          "text": [
            "inference_transcription : et in ove hatesa vase dert\n",
            "real_transcription : het i profiel had de schok geabsorbeerd\n",
            "Infer Wavefile:  /home/fakrul/Model_Mozilla_CommonDataSet/nl/clips/common_voice_nl_17718053.wav\n"
          ],
          "name": "stdout"
        },
        {
          "output_type": "stream",
          "text": [
            "Running inference.\n"
          ],
          "name": "stderr"
        },
        {
          "output_type": "stream",
          "text": [
            "inference_transcription : hij eten mon ingre\n",
            "real_transcription : hij heeft een mooi figuur\n",
            "Infer Wavefile:  /home/fakrul/Model_Mozilla_CommonDataSet/nl/clips/common_voice_nl_18200652.wav\n"
          ],
          "name": "stdout"
        },
        {
          "output_type": "stream",
          "text": [
            "Running inference.\n"
          ],
          "name": "stderr"
        },
        {
          "output_type": "stream",
          "text": [
            "inference_transcription :  n aeen i cni  etech\n",
            "real_transcription : zeven maal zeven is negenenveertig\n",
            "Infer Wavefile:  /home/fakrul/Model_Mozilla_CommonDataSet/nl/clips/common_voice_nl_17716798.wav\n"
          ],
          "name": "stdout"
        },
        {
          "output_type": "stream",
          "text": [
            "Running inference.\n"
          ],
          "name": "stderr"
        },
        {
          "output_type": "stream",
          "text": [
            "inference_transcription : e batinstittisnane na esu\n",
            "real_transcription : de bank is dicht het is namelijk na zes uur\n",
            "Infer Wavefile:  /home/fakrul/Model_Mozilla_CommonDataSet/nl/clips/common_voice_nl_17700725.wav\n"
          ],
          "name": "stdout"
        },
        {
          "output_type": "stream",
          "text": [
            "Running inference.\n"
          ],
          "name": "stderr"
        },
        {
          "output_type": "stream",
          "text": [
            "inference_transcription : je kiikopete be dinde mende tot oten mbus\n",
            "real_transcription : je kan je computer bedienen met een toetsenbord en muis\n",
            "Infer Wavefile:  /home/fakrul/Model_Mozilla_CommonDataSet/nl/clips/common_voice_nl_17695742.wav\n"
          ],
          "name": "stdout"
        },
        {
          "output_type": "stream",
          "text": [
            "Running inference.\n"
          ],
          "name": "stderr"
        },
        {
          "output_type": "stream",
          "text": [
            "inference_transcription : e e mi isoszaren n tin mi e ijnden\n",
            "real_transcription : parket moet je stofzuigen tegels moet je dweilen\n",
            "Infer Wavefile:  /home/fakrul/Model_Mozilla_CommonDataSet/nl/clips/common_voice_nl_17696009.wav\n"
          ],
          "name": "stdout"
        },
        {
          "output_type": "stream",
          "text": [
            "Running inference.\n"
          ],
          "name": "stderr"
        },
        {
          "output_type": "stream",
          "text": [
            "inference_transcription : e bardekit o vakes glbes nsto atogeslave ete wi edande pal asekonbert\n",
            "real_transcription : nadat duidelijk werd op welke schaal de sneeuwstorm had toegeslagen heeft de overheid het rampenplan afgekondigd\n",
            "Infer Wavefile:  /home/fakrul/Model_Mozilla_CommonDataSet/nl/clips/common_voice_nl_17696208.wav\n"
          ],
          "name": "stdout"
        },
        {
          "output_type": "stream",
          "text": [
            "Running inference.\n"
          ],
          "name": "stderr"
        },
        {
          "output_type": "stream",
          "text": [
            "inference_transcription : vete e tsere o\n",
            "real_transcription : florida ligt op een schiereiland\n",
            "Infer Wavefile:  /home/fakrul/Model_Mozilla_CommonDataSet/nl/clips/common_voice_nl_17699172.wav\n"
          ],
          "name": "stdout"
        },
        {
          "output_type": "stream",
          "text": [
            "Running inference.\n"
          ],
          "name": "stderr"
        },
        {
          "output_type": "stream",
          "text": [
            "inference_transcription : heatte anekopten aen meretvendo tet vn\n",
            "real_transcription : hij luistert naar muziek op zijn kamer met zijn hoofdtelefoon\n",
            "Infer Wavefile:  /home/fakrul/Model_Mozilla_CommonDataSet/nl/clips/common_voice_nl_17696312.wav\n"
          ],
          "name": "stdout"
        },
        {
          "output_type": "stream",
          "text": [
            "Running inference.\n"
          ],
          "name": "stderr"
        },
        {
          "output_type": "stream",
          "text": [
            "inference_transcription : s i oode ersestcolen don\n",
            "real_transcription : is die rode mercedes van linda\n",
            "Infer Wavefile:  /home/fakrul/Model_Mozilla_CommonDataSet/nl/clips/common_voice_nl_17694902.wav\n"
          ],
          "name": "stdout"
        },
        {
          "output_type": "stream",
          "text": [
            "Running inference.\n"
          ],
          "name": "stderr"
        },
        {
          "output_type": "stream",
          "text": [
            "inference_transcription : e enlijn e elat\n",
            "real_transcription : trek een lijn met je lat\n",
            "Infer Wavefile:  /home/fakrul/Model_Mozilla_CommonDataSet/nl/clips/common_voice_nl_17716810.wav\n"
          ],
          "name": "stdout"
        },
        {
          "output_type": "stream",
          "text": [
            "Running inference.\n"
          ],
          "name": "stderr"
        },
        {
          "output_type": "stream",
          "text": [
            "inference_transcription : o bo won vete perlespetstelt ene oo\n",
            "real_transcription : noord brabant viert uitbundig feest tijdens het carnaval\n",
            "Infer Wavefile:  /home/fakrul/Model_Mozilla_CommonDataSet/nl/clips/common_voice_nl_17697058.wav\n"
          ],
          "name": "stdout"
        },
        {
          "output_type": "stream",
          "text": [
            "Running inference.\n"
          ],
          "name": "stderr"
        },
        {
          "output_type": "stream",
          "text": [
            "inference_transcription :  on  enlansisn tal obe isonslanesamesterne aner\n",
            "real_transcription : nederlands is een taal waarbij je soms lange samenstellingen kan hebben\n",
            "Infer Wavefile:  /home/fakrul/Model_Mozilla_CommonDataSet/nl/clips/common_voice_nl_19278676.wav\n"
          ],
          "name": "stdout"
        },
        {
          "output_type": "stream",
          "text": [
            "Running inference.\n"
          ],
          "name": "stderr"
        },
        {
          "output_type": "stream",
          "text": [
            "inference_transcription : e e da\n",
            "real_transcription : pluk de dag\n",
            "Infer Wavefile:  /home/fakrul/Model_Mozilla_CommonDataSet/nl/clips/common_voice_nl_17764242.wav\n"
          ],
          "name": "stdout"
        },
        {
          "output_type": "stream",
          "text": [
            "Running inference.\n"
          ],
          "name": "stderr"
        },
        {
          "output_type": "stream",
          "text": [
            "inference_transcription : de ekorsventetoszerg otent\n",
            "real_transcription : de winkel was vierentwintig op zeven geopend\n",
            "Infer Wavefile:  /home/fakrul/Model_Mozilla_CommonDataSet/nl/clips/common_voice_nl_17695712.wav\n"
          ],
          "name": "stdout"
        },
        {
          "output_type": "stream",
          "text": [
            "Running inference.\n"
          ],
          "name": "stderr"
        },
        {
          "output_type": "stream",
          "text": [
            "inference_transcription : it ej e tet abeste\n",
            "real_transcription : ik ga een pizza bestellen\n",
            "Infer Wavefile:  /home/fakrul/Model_Mozilla_CommonDataSet/nl/clips/common_voice_nl_18515085.wav\n"
          ],
          "name": "stdout"
        },
        {
          "output_type": "stream",
          "text": [
            "Running inference.\n"
          ],
          "name": "stderr"
        },
        {
          "output_type": "stream",
          "text": [
            "inference_transcription : i men an menenescenmete kanbenen\n",
            "real_transcription : sleep me nou niet mee in je persoonlijke problemen\n",
            "Infer Wavefile:  /home/fakrul/Model_Mozilla_CommonDataSet/nl/clips/common_voice_nl_17709044.wav\n"
          ],
          "name": "stdout"
        },
        {
          "output_type": "stream",
          "text": [
            "Running inference.\n"
          ],
          "name": "stderr"
        },
        {
          "output_type": "stream",
          "text": [
            "inference_transcription : deores wecte bode mo vote\n",
            "real_transcription : die jongen is echt een bodemloos vat\n",
            "Infer Wavefile:  /home/fakrul/Model_Mozilla_CommonDataSet/nl/clips/common_voice_nl_17698397.wav\n"
          ],
          "name": "stdout"
        },
        {
          "output_type": "stream",
          "text": [
            "Running inference.\n"
          ],
          "name": "stderr"
        },
        {
          "output_type": "stream",
          "text": [
            "inference_transcription : lacgeren gorte ondetoe bet et pat\n",
            "real_transcription : er lag weer een grote hondendrol op het voetpad\n",
            "Infer Wavefile:  /home/fakrul/Model_Mozilla_CommonDataSet/nl/clips/common_voice_nl_19002143.wav\n"
          ],
          "name": "stdout"
        },
        {
          "output_type": "stream",
          "text": [
            "Running inference.\n"
          ],
          "name": "stderr"
        },
        {
          "output_type": "stream",
          "text": [
            "inference_transcription : d wi kelelobe vo viletie koct\n",
            "real_transcription : ik heb enkele lampen van philips hue gekocht\n",
            "Infer Wavefile:  /home/fakrul/Model_Mozilla_CommonDataSet/nl/clips/common_voice_nl_17756233.wav\n"
          ],
          "name": "stdout"
        },
        {
          "output_type": "stream",
          "text": [
            "Running inference.\n"
          ],
          "name": "stderr"
        },
        {
          "output_type": "stream",
          "text": [
            "inference_transcription : he tatsten deve dennespe t\n",
            "real_transcription : hij plaatste een dvd in de speler\n",
            "Infer Wavefile:  /home/fakrul/Model_Mozilla_CommonDataSet/nl/clips/common_voice_nl_19483861.wav\n"
          ],
          "name": "stdout"
        },
        {
          "output_type": "stream",
          "text": [
            "Running inference.\n"
          ],
          "name": "stderr"
        },
        {
          "output_type": "stream",
          "text": [
            "inference_transcription : e poor er ot n haln e derot en\n",
            "real_transcription : de spoorweg was uitgehouwen in de rotsen\n",
            "Infer Wavefile:  /home/fakrul/Model_Mozilla_CommonDataSet/nl/clips/common_voice_nl_17693566.wav\n"
          ],
          "name": "stdout"
        },
        {
          "output_type": "stream",
          "text": [
            "Running inference.\n"
          ],
          "name": "stderr"
        },
        {
          "output_type": "stream",
          "text": [
            "inference_transcription : durdeen pj leket er\n",
            "real_transcription : de regenpijp lekt weer\n",
            "Infer Wavefile:  /home/fakrul/Model_Mozilla_CommonDataSet/nl/clips/common_voice_nl_19066479.wav\n"
          ],
          "name": "stdout"
        },
        {
          "output_type": "stream",
          "text": [
            "Running inference.\n"
          ],
          "name": "stderr"
        },
        {
          "output_type": "stream",
          "text": [
            "inference_transcription : ze os e g enveetst net ges\n",
            "real_transcription : ze was jarig en vierde het met een groots feest\n",
            "Infer Wavefile:  /home/fakrul/Model_Mozilla_CommonDataSet/nl/clips/common_voice_nl_19278645.wav\n"
          ],
          "name": "stdout"
        },
        {
          "output_type": "stream",
          "text": [
            "Running inference.\n"
          ],
          "name": "stderr"
        },
        {
          "output_type": "stream",
          "text": [
            "inference_transcription : zon ezejgen da omer\n",
            "real_transcription : sorry er zijn geen tafels meer vrij\n",
            "Infer Wavefile:  /home/fakrul/Model_Mozilla_CommonDataSet/nl/clips/common_voice_nl_18993091.wav\n"
          ],
          "name": "stdout"
        },
        {
          "output_type": "stream",
          "text": [
            "Running inference.\n"
          ],
          "name": "stderr"
        },
        {
          "output_type": "stream",
          "text": [
            "inference_transcription : it ven desteken nint\n",
            "real_transcription : ik vind de stekker niet\n",
            "Infer Wavefile:  /home/fakrul/Model_Mozilla_CommonDataSet/nl/clips/common_voice_nl_19002121.wav\n"
          ],
          "name": "stdout"
        },
        {
          "output_type": "stream",
          "text": [
            "Running inference.\n"
          ],
          "name": "stderr"
        },
        {
          "output_type": "stream",
          "text": [
            "inference_transcription :  e be onsze ake lade ve listen\n",
            "real_transcription : we hebben onze parket laten vernissen\n",
            "Infer Wavefile:  /home/fakrul/Model_Mozilla_CommonDataSet/nl/clips/common_voice_nl_17717175.wav\n"
          ],
          "name": "stdout"
        },
        {
          "output_type": "stream",
          "text": [
            "Running inference.\n"
          ],
          "name": "stderr"
        },
        {
          "output_type": "stream",
          "text": [
            "inference_transcription : ettklek zll pole detenmdicgalade beje\n",
            "real_transcription : het kwik zal de hele week boven de twintig graden blijven\n",
            "Infer Wavefile:  /home/fakrul/Model_Mozilla_CommonDataSet/nl/clips/common_voice_nl_17694837.wav\n"
          ],
          "name": "stdout"
        },
        {
          "output_type": "stream",
          "text": [
            "Running inference.\n"
          ],
          "name": "stderr"
        },
        {
          "output_type": "stream",
          "text": [
            "inference_transcription : t e vede ostat elen ret pal\n",
            "real_transcription : even verderop staat er een flitspaal\n",
            "Infer Wavefile:  /home/fakrul/Model_Mozilla_CommonDataSet/nl/clips/common_voice_nl_18718323.wav\n"
          ],
          "name": "stdout"
        },
        {
          "output_type": "stream",
          "text": [
            "Running inference.\n"
          ],
          "name": "stderr"
        },
        {
          "output_type": "stream",
          "text": [
            "inference_transcription : hr lomagersamot  arenn dospe en ers\n",
            "real_transcription : haar oma verzamelt al jaren doodsprentjes\n",
            "Infer Wavefile:  /home/fakrul/Model_Mozilla_CommonDataSet/nl/clips/common_voice_nl_17797301.wav\n"
          ],
          "name": "stdout"
        },
        {
          "output_type": "stream",
          "text": [
            "Running inference.\n"
          ],
          "name": "stderr"
        },
        {
          "output_type": "stream",
          "text": [
            "inference_transcription : han me bol ma ma mo  enen\n",
            "real_transcription : het beton was met mos bedekt\n",
            "Infer Wavefile:  /home/fakrul/Model_Mozilla_CommonDataSet/nl/clips/common_voice_nl_17695627.wav\n"
          ],
          "name": "stdout"
        },
        {
          "output_type": "stream",
          "text": [
            "Running inference.\n"
          ],
          "name": "stderr"
        },
        {
          "output_type": "stream",
          "text": [
            "inference_transcription : at este wa inde van dat ande\n",
            "real_transcription : wat is de waarde van dat aandeel\n",
            "Infer Wavefile:  /home/fakrul/Model_Mozilla_CommonDataSet/nl/clips/common_voice_nl_17694492.wav\n"
          ],
          "name": "stdout"
        },
        {
          "output_type": "stream",
          "text": [
            "Running inference.\n"
          ],
          "name": "stderr"
        },
        {
          "output_type": "stream",
          "text": [
            "inference_transcription : ite batatsto kot esode zosterts\n",
            "real_transcription : ik heb een paar klapstoelen gekocht in de solden voor op het terras\n",
            "Infer Wavefile:  /home/fakrul/Model_Mozilla_CommonDataSet/nl/clips/common_voice_nl_18062358.wav\n"
          ],
          "name": "stdout"
        },
        {
          "output_type": "stream",
          "text": [
            "Running inference.\n"
          ],
          "name": "stderr"
        },
        {
          "output_type": "stream",
          "text": [
            "inference_transcription : de bon astere van de erprstje ptg\n",
            "real_transcription : de woonlasten van de huurders stijgen elk jaar\n",
            "Infer Wavefile:  /home/fakrul/Model_Mozilla_CommonDataSet/nl/clips/common_voice_nl_17732869.wav\n"
          ],
          "name": "stdout"
        },
        {
          "output_type": "stream",
          "text": [
            "Running inference.\n"
          ],
          "name": "stderr"
        },
        {
          "output_type": "stream",
          "text": [
            "inference_transcription : ejs e ben n en br ene\n",
            "real_transcription : hij heeft spierpijn aan zijn buikspieren\n",
            "Infer Wavefile:  /home/fakrul/Model_Mozilla_CommonDataSet/nl/clips/common_voice_nl_18993096.wav\n"
          ],
          "name": "stdout"
        },
        {
          "output_type": "stream",
          "text": [
            "Running inference.\n"
          ],
          "name": "stderr"
        },
        {
          "output_type": "stream",
          "text": [
            "inference_transcription : stelte esin en vlman de bomej\n",
            "real_transcription : stilte we zijn een film aan het opnemen\n",
            "Infer Wavefile:  /home/fakrul/Model_Mozilla_CommonDataSet/nl/clips/common_voice_nl_17695479.wav\n"
          ],
          "name": "stdout"
        },
        {
          "output_type": "stream",
          "text": [
            "Running inference.\n"
          ],
          "name": "stderr"
        },
        {
          "output_type": "stream",
          "text": [
            "inference_transcription : a harge eng als anbe olgen\n",
            "real_transcription : waar heb je het in godsnaam toch over\n",
            "Infer Wavefile:  /home/fakrul/Model_Mozilla_CommonDataSet/nl/clips/common_voice_nl_18831084.wav\n"
          ],
          "name": "stdout"
        },
        {
          "output_type": "stream",
          "text": [
            "Running inference.\n"
          ],
          "name": "stderr"
        },
        {
          "output_type": "stream",
          "text": [
            "inference_transcription : idetve den odit reregotijnosoede vsnat\n",
            "real_transcription : in november moet het geregeld zijn nog voor de feestmaand\n",
            "Infer Wavefile:  /home/fakrul/Model_Mozilla_CommonDataSet/nl/clips/common_voice_nl_17699697.wav\n"
          ],
          "name": "stdout"
        },
        {
          "output_type": "stream",
          "text": [
            "Running inference.\n"
          ],
          "name": "stderr"
        },
        {
          "output_type": "stream",
          "text": [
            "inference_transcription : zolgkursrs rgeoker mur\n",
            "real_transcription : zalig kerstfeest en een gelukkig nieuwjaar\n",
            "Infer Wavefile:  /home/fakrul/Model_Mozilla_CommonDataSet/nl/clips/common_voice_nl_17701988.wav\n"
          ],
          "name": "stdout"
        },
        {
          "output_type": "stream",
          "text": [
            "Running inference.\n"
          ],
          "name": "stderr"
        },
        {
          "output_type": "stream",
          "text": [
            "inference_transcription : zen pas ess r nen meteetinte ber\n",
            "real_transcription : zijn blauwe ski jas beschermde hem prima tegen het gure winterweer\n",
            "Infer Wavefile:  /home/fakrul/Model_Mozilla_CommonDataSet/nl/clips/common_voice_nl_17710604.wav\n"
          ],
          "name": "stdout"
        },
        {
          "output_type": "stream",
          "text": [
            "Running inference.\n"
          ],
          "name": "stderr"
        },
        {
          "output_type": "stream",
          "text": [
            "inference_transcription : ejegen mersntstote daco\n",
            "real_transcription : er liggen magazines op de tafel\n",
            "Infer Wavefile:  /home/fakrul/Model_Mozilla_CommonDataSet/nl/clips/common_voice_nl_19687438.wav\n"
          ],
          "name": "stdout"
        },
        {
          "output_type": "stream",
          "text": [
            "Running inference.\n"
          ],
          "name": "stderr"
        },
        {
          "output_type": "stream",
          "text": [
            "inference_transcription : de e bots ett nidetetond detosovide vone vo\n",
            "real_transcription : in een loods heeft tweeduizend ton nikkelsulfide vlamgevat\n",
            "Infer Wavefile:  /home/fakrul/Model_Mozilla_CommonDataSet/nl/clips/common_voice_nl_18665209.wav\n"
          ],
          "name": "stdout"
        },
        {
          "output_type": "stream",
          "text": [
            "Running inference.\n"
          ],
          "name": "stderr"
        },
        {
          "output_type": "stream",
          "text": [
            "inference_transcription : ire e ono en donetsla be ode wenn\n",
            "real_transcription : haar repliek kwam als een donderslag bij heldere hemel\n",
            "Infer Wavefile:  /home/fakrul/Model_Mozilla_CommonDataSet/nl/clips/common_voice_nl_17704695.wav\n"
          ],
          "name": "stdout"
        },
        {
          "output_type": "stream",
          "text": [
            "Running inference.\n"
          ],
          "name": "stderr"
        },
        {
          "output_type": "stream",
          "text": [
            "inference_transcription : e ntszin ko detoanen\n",
            "real_transcription : het inzicht komt met de jaren\n",
            "Infer Wavefile:  /home/fakrul/Model_Mozilla_CommonDataSet/nl/clips/common_voice_nl_18263522.wav\n"
          ],
          "name": "stdout"
        },
        {
          "output_type": "stream",
          "text": [
            "Running inference.\n"
          ],
          "name": "stderr"
        },
        {
          "output_type": "stream",
          "text": [
            "inference_transcription : er ato gererce aen a e ererowererr\n",
            "real_transcription : assepoester moest altijd hard werken\n",
            "Infer Wavefile:  /home/fakrul/Model_Mozilla_CommonDataSet/nl/clips/common_voice_nl_18856813.wav\n"
          ],
          "name": "stdout"
        },
        {
          "output_type": "stream",
          "text": [
            "Running inference.\n"
          ],
          "name": "stderr"
        },
        {
          "output_type": "stream",
          "text": [
            "inference_transcription : dekte bole diboet entve deten tobentt\n",
            "real_transcription : de dikte van een haar wordt uitgedrukt in micrometers\n",
            "Infer Wavefile:  /home/fakrul/Model_Mozilla_CommonDataSet/nl/clips/common_voice_nl_17911264.wav\n"
          ],
          "name": "stdout"
        },
        {
          "output_type": "stream",
          "text": [
            "Running inference.\n"
          ],
          "name": "stderr"
        },
        {
          "output_type": "stream",
          "text": [
            "inference_transcription : ej zen pan aasiteze o evewand e anoinaszge n\n",
            "real_transcription : er is een correlatie tussen corruptie in een land en armoede in datzelfde land\n",
            "Infer Wavefile:  /home/fakrul/Model_Mozilla_CommonDataSet/nl/clips/common_voice_nl_19882984.wav\n"
          ],
          "name": "stdout"
        },
        {
          "output_type": "stream",
          "text": [
            "Running inference.\n"
          ],
          "name": "stderr"
        },
        {
          "output_type": "stream",
          "text": [
            "inference_transcription : zes  e knen\n",
            "real_transcription : jezus ligt in de kribbe\n",
            "Infer Wavefile:  /home/fakrul/Model_Mozilla_CommonDataSet/nl/clips/common_voice_nl_19517564.wav\n"
          ],
          "name": "stdout"
        },
        {
          "output_type": "stream",
          "text": [
            "Running inference.\n"
          ],
          "name": "stderr"
        },
        {
          "output_type": "stream",
          "text": [
            "inference_transcription : hijsta ovoe etstebostjst en\n",
            "real_transcription : hij stak over bij het zebrapad\n",
            "Infer Wavefile:  /home/fakrul/Model_Mozilla_CommonDataSet/nl/clips/common_voice_nl_18980396.wav\n"
          ],
          "name": "stdout"
        },
        {
          "output_type": "stream",
          "text": [
            "Running inference.\n"
          ],
          "name": "stderr"
        },
        {
          "output_type": "stream",
          "text": [
            "inference_transcription : pj tn osntstand me poen etel\n",
            "real_transcription : de python was geen slang maar een programmeertaal\n",
            "Infer Wavefile:  /home/fakrul/Model_Mozilla_CommonDataSet/nl/clips/common_voice_nl_17970339.wav\n"
          ],
          "name": "stdout"
        },
        {
          "output_type": "stream",
          "text": [
            "Running inference.\n"
          ],
          "name": "stderr"
        },
        {
          "output_type": "stream",
          "text": [
            "inference_transcription : en wegspaon vebratidelet onosten\n",
            "real_transcription : een luchtballon gebruikt hete lucht om op te stijgen\n",
            "Infer Wavefile:  /home/fakrul/Model_Mozilla_CommonDataSet/nl/clips/common_voice_nl_17739614.wav\n"
          ],
          "name": "stdout"
        },
        {
          "output_type": "stream",
          "text": [
            "Running inference.\n"
          ],
          "name": "stderr"
        },
        {
          "output_type": "stream",
          "text": [
            "inference_transcription :  ho vonde is achkrij\n",
            "real_transcription : gewoon jezelf blijven\n",
            "Infer Wavefile:  /home/fakrul/Model_Mozilla_CommonDataSet/nl/clips/common_voice_nl_18867612.wav\n"
          ],
          "name": "stdout"
        },
        {
          "output_type": "stream",
          "text": [
            "Running inference.\n"
          ],
          "name": "stderr"
        },
        {
          "output_type": "stream",
          "text": [
            "inference_transcription : en batos  mact vore der nden\n",
            "real_transcription : het bord was haastig voor de deur gehangen\n",
            "Infer Wavefile:  /home/fakrul/Model_Mozilla_CommonDataSet/nl/clips/common_voice_nl_18265404.wav\n"
          ],
          "name": "stdout"
        },
        {
          "output_type": "stream",
          "text": [
            "Running inference.\n"
          ],
          "name": "stderr"
        },
        {
          "output_type": "stream",
          "text": [
            "inference_transcription : ra ejtele ke erero veoveteden morstese pa pe kenden dascedeklt arde\n",
            "real_transcription : na ettelijke uren rondgezworven te hebben moesten ze toch bekennen dat ze verdwaald waren\n",
            "Infer Wavefile:  /home/fakrul/Model_Mozilla_CommonDataSet/nl/clips/common_voice_nl_18993099.wav\n"
          ],
          "name": "stdout"
        },
        {
          "output_type": "stream",
          "text": [
            "Running inference.\n"
          ],
          "name": "stderr"
        },
        {
          "output_type": "stream",
          "text": [
            "inference_transcription : iee is hoe danste \n",
            "real_transcription : erik is groter dan stijn\n",
            "Infer Wavefile:  /home/fakrul/Model_Mozilla_CommonDataSet/nl/clips/common_voice_nl_17718050.wav\n"
          ],
          "name": "stdout"
        },
        {
          "output_type": "stream",
          "text": [
            "Running inference.\n"
          ],
          "name": "stderr"
        },
        {
          "output_type": "stream",
          "text": [
            "inference_transcription : het pakt i wert a enle venttore rin detbestpe\n",
            "real_transcription : het pakje werd afgeleverd door de vrouw in het bestelbusje\n",
            "Infer Wavefile:  /home/fakrul/Model_Mozilla_CommonDataSet/nl/clips/common_voice_nl_17697015.wav\n"
          ],
          "name": "stdout"
        },
        {
          "output_type": "stream",
          "text": [
            "Running inference.\n"
          ],
          "name": "stderr"
        },
        {
          "output_type": "stream",
          "text": [
            "inference_transcription : hij  e mestopet veo\n",
            "real_transcription : hij is heer en meester op het veld\n",
            "Infer Wavefile:  /home/fakrul/Model_Mozilla_CommonDataSet/nl/clips/common_voice_nl_18265432.wav\n"
          ],
          "name": "stdout"
        },
        {
          "output_type": "stream",
          "text": [
            "Running inference.\n"
          ],
          "name": "stderr"
        },
        {
          "output_type": "stream",
          "text": [
            "inference_transcription : elkis ot vo kt\n",
            "real_transcription : melk is goed voor elk\n",
            "Infer Wavefile:  /home/fakrul/Model_Mozilla_CommonDataSet/nl/clips/common_voice_nl_17698697.wav\n"
          ],
          "name": "stdout"
        },
        {
          "output_type": "stream",
          "text": [
            "Running inference.\n"
          ],
          "name": "stderr"
        },
        {
          "output_type": "stream",
          "text": [
            "inference_transcription : i lnden tisntteso\n",
            "real_transcription : ik woon in duizend brussel\n",
            "Infer Wavefile:  /home/fakrul/Model_Mozilla_CommonDataSet/nl/clips/common_voice_nl_17906433.wav\n"
          ],
          "name": "stdout"
        },
        {
          "output_type": "stream",
          "text": [
            "Running inference.\n"
          ],
          "name": "stderr"
        },
        {
          "output_type": "stream",
          "text": [
            "inference_transcription : at it  dansgate it\n",
            "real_transcription : baat het niet dan schaadt het niet\n",
            "Infer Wavefile:  /home/fakrul/Model_Mozilla_CommonDataSet/nl/clips/common_voice_nl_18062359.wav\n"
          ],
          "name": "stdout"
        },
        {
          "output_type": "stream",
          "text": [
            "Running inference.\n"
          ],
          "name": "stderr"
        },
        {
          "output_type": "stream",
          "text": [
            "inference_transcription : i re orti ect van big bejndekite\n",
            "real_transcription : die brug moet je echt van dichtbij bekijken\n",
            "Infer Wavefile:  /home/fakrul/Model_Mozilla_CommonDataSet/nl/clips/common_voice_nl_17694116.wav\n"
          ],
          "name": "stdout"
        },
        {
          "output_type": "stream",
          "text": [
            "Running inference.\n"
          ],
          "name": "stderr"
        },
        {
          "output_type": "stream",
          "text": [
            "inference_transcription :  be e de edennde anmasmen\n",
            "real_transcription : eisden is een deelgemeente van maasmechelen\n",
            "Infer Wavefile:  /home/fakrul/Model_Mozilla_CommonDataSet/nl/clips/common_voice_nl_17696448.wav\n"
          ],
          "name": "stdout"
        },
        {
          "output_type": "stream",
          "text": [
            "Running inference.\n"
          ],
          "name": "stderr"
        },
        {
          "output_type": "stream",
          "text": [
            "inference_transcription : hete majtela be ale\n",
            "real_transcription : het was muisstil in de kamer\n",
            "Infer Wavefile:  /home/fakrul/Model_Mozilla_CommonDataSet/nl/clips/common_voice_nl_18993094.wav\n"
          ],
          "name": "stdout"
        },
        {
          "output_type": "stream",
          "text": [
            "Running inference.\n"
          ],
          "name": "stderr"
        },
        {
          "output_type": "stream",
          "text": [
            "inference_transcription : e ren bijesten\n",
            "real_transcription : het regent pijpenstelen\n",
            "Infer Wavefile:  /home/fakrul/Model_Mozilla_CommonDataSet/nl/clips/common_voice_nl_18588254.wav\n"
          ],
          "name": "stdout"
        },
        {
          "output_type": "stream",
          "text": [
            "Running inference.\n"
          ],
          "name": "stderr"
        },
        {
          "output_type": "stream",
          "text": [
            "inference_transcription : hi aspalee l is\n",
            "real_transcription : het was duidelijk een oud huis\n",
            "Infer Wavefile:  /home/fakrul/Model_Mozilla_CommonDataSet/nl/clips/common_voice_nl_18286553.wav\n"
          ],
          "name": "stdout"
        },
        {
          "output_type": "stream",
          "text": [
            "Running inference.\n"
          ],
          "name": "stderr"
        },
        {
          "output_type": "stream",
          "text": [
            "inference_transcription : di ken le es lden mete ltotjs o en matn des panmar\n",
            "real_transcription : de kinderen speelden met de autootjes op de mat in de speelkamer\n",
            "Infer Wavefile:  /home/fakrul/Model_Mozilla_CommonDataSet/nl/clips/common_voice_nl_18200710.wav\n"
          ],
          "name": "stdout"
        },
        {
          "output_type": "stream",
          "text": [
            "Running inference.\n"
          ],
          "name": "stderr"
        },
        {
          "output_type": "stream",
          "text": [
            "inference_transcription : i hashena ansee\n",
            "real_transcription : de jurk was gemaakt van zijde\n",
            "Infer Wavefile:  /home/fakrul/Model_Mozilla_CommonDataSet/nl/clips/common_voice_nl_19549491.wav\n"
          ],
          "name": "stdout"
        },
        {
          "output_type": "stream",
          "text": [
            "Running inference.\n"
          ],
          "name": "stderr"
        },
        {
          "output_type": "stream",
          "text": [
            "inference_transcription : asten te at ve kogijen tn\n",
            "real_transcription : pasta bevat veel koolhydraten\n",
            "Infer Wavefile:  /home/fakrul/Model_Mozilla_CommonDataSet/nl/clips/common_voice_nl_18993093.wav\n"
          ],
          "name": "stdout"
        },
        {
          "output_type": "stream",
          "text": [
            "Running inference.\n"
          ],
          "name": "stderr"
        },
        {
          "output_type": "stream",
          "text": [
            "inference_transcription : et lactanverstat onk inde a\n",
            "real_transcription : het slachtoffer zat ook in de zaal\n",
            "Infer Wavefile:  /home/fakrul/Model_Mozilla_CommonDataSet/nl/clips/common_voice_nl_17696161.wav\n"
          ],
          "name": "stdout"
        },
        {
          "output_type": "stream",
          "text": [
            "Running inference.\n"
          ],
          "name": "stderr"
        },
        {
          "output_type": "stream",
          "text": [
            "inference_transcription : i at isaden dit anton te zon en\n",
            "real_transcription : ik heb hier verder niets aan toe te voegen\n",
            "Infer Wavefile:  /home/fakrul/Model_Mozilla_CommonDataSet/nl/clips/common_voice_nl_17710288.wav\n"
          ],
          "name": "stdout"
        },
        {
          "output_type": "stream",
          "text": [
            "Running inference.\n"
          ],
          "name": "stderr"
        },
        {
          "output_type": "stream",
          "text": [
            "inference_transcription : ven ge nie en i wajsgeneps\n",
            "real_transcription : vergeet niet om je wijzigen op te slaan\n",
            "Infer Wavefile:  /home/fakrul/Model_Mozilla_CommonDataSet/nl/clips/common_voice_nl_17797735.wav\n"
          ],
          "name": "stdout"
        },
        {
          "output_type": "stream",
          "text": [
            "Running inference.\n"
          ],
          "name": "stderr"
        },
        {
          "output_type": "stream",
          "text": [
            "inference_transcription : atende gond walsn gerennin\n",
            "real_transcription : wat in een goed vat zit verzuurt niet\n",
            "Infer Wavefile:  /home/fakrul/Model_Mozilla_CommonDataSet/nl/clips/common_voice_nl_18265398.wav\n"
          ],
          "name": "stdout"
        },
        {
          "output_type": "stream",
          "text": [
            "Running inference.\n"
          ],
          "name": "stderr"
        },
        {
          "output_type": "stream",
          "text": [
            "inference_transcription : zidekaset enlanegijebart\n",
            "real_transcription : sinterklaas heeft een lange grijze baard\n",
            "Infer Wavefile:  /home/fakrul/Model_Mozilla_CommonDataSet/nl/clips/common_voice_nl_18600639.wav\n"
          ],
          "name": "stdout"
        },
        {
          "output_type": "stream",
          "text": [
            "Running inference.\n"
          ],
          "name": "stderr"
        },
        {
          "output_type": "stream",
          "text": [
            "inference_transcription : van ka onetee it kr\n",
            "real_transcription : aan tafel het eten is klaar\n",
            "Infer Wavefile:  /home/fakrul/Model_Mozilla_CommonDataSet/nl/clips/common_voice_nl_18991452.wav\n"
          ],
          "name": "stdout"
        },
        {
          "output_type": "stream",
          "text": [
            "Running inference.\n"
          ],
          "name": "stderr"
        },
        {
          "output_type": "stream",
          "text": [
            "inference_transcription : hets oorszet erensvast\n",
            "real_transcription : het snoer zit ergens vast\n",
            "Infer Wavefile:  /home/fakrul/Model_Mozilla_CommonDataSet/nl/clips/common_voice_nl_19873522.wav\n"
          ],
          "name": "stdout"
        },
        {
          "output_type": "stream",
          "text": [
            "Running inference.\n"
          ],
          "name": "stderr"
        },
        {
          "output_type": "stream",
          "text": [
            "inference_transcription : men ko ketestet nit me oken\n",
            "real_transcription : mijn computer start niet meer op\n",
            "Infer Wavefile:  /home/fakrul/Model_Mozilla_CommonDataSet/nl/clips/common_voice_nl_18522077.wav\n"
          ],
          "name": "stdout"
        },
        {
          "output_type": "stream",
          "text": [
            "Running inference.\n"
          ],
          "name": "stderr"
        },
        {
          "output_type": "stream",
          "text": [
            "inference_transcription : vre ij e en garde dopo\n",
            "real_transcription : samen met thijs en jesse ga ik naar pukkelpop\n",
            "Infer Wavefile:  /home/fakrul/Model_Mozilla_CommonDataSet/nl/clips/common_voice_nl_19454241.wav\n"
          ],
          "name": "stdout"
        },
        {
          "output_type": "stream",
          "text": [
            "Running inference.\n"
          ],
          "name": "stderr"
        },
        {
          "output_type": "stream",
          "text": [
            "inference_transcription : met den wete het alt ltde ate vst\n",
            "real_transcription : met een netje heb ik al het vuil uit het water gevist\n",
            "Infer Wavefile:  /home/fakrul/Model_Mozilla_CommonDataSet/nl/clips/common_voice_nl_19620677.wav\n"
          ],
          "name": "stdout"
        },
        {
          "output_type": "stream",
          "text": [
            "Running inference.\n"
          ],
          "name": "stderr"
        },
        {
          "output_type": "stream",
          "text": [
            "inference_transcription :  akonandaasvesachet er pe oere pate iespen\n",
            "real_transcription : de paracommando was erin geslaagd om twee weken te overleven achter de linies van de vijand\n",
            "Infer Wavefile:  /home/fakrul/Model_Mozilla_CommonDataSet/nl/clips/common_voice_nl_17696156.wav\n"
          ],
          "name": "stdout"
        },
        {
          "output_type": "stream",
          "text": [
            "Running inference.\n"
          ],
          "name": "stderr"
        },
        {
          "output_type": "stream",
          "text": [
            "inference_transcription : zana oleet ole istisinitt\n",
            "real_transcription : zij was nooit voorzichtig geweest\n",
            "Infer Wavefile:  /home/fakrul/Model_Mozilla_CommonDataSet/nl/clips/common_voice_nl_17699338.wav\n"
          ],
          "name": "stdout"
        },
        {
          "output_type": "stream",
          "text": [
            "Running inference.\n"
          ],
          "name": "stderr"
        },
        {
          "output_type": "stream",
          "text": [
            "inference_transcription : hitveogegoen v kobedaver mopeten mken\n",
            "real_transcription : hij heeft niet veel gevoel voor humor maar hij probeert toch vaak mopjes te maken\n",
            "Infer Wavefile:  /home/fakrul/Model_Mozilla_CommonDataSet/nl/clips/common_voice_nl_17701609.wav\n"
          ],
          "name": "stdout"
        },
        {
          "output_type": "stream",
          "text": [
            "Running inference.\n"
          ],
          "name": "stderr"
        },
        {
          "output_type": "stream",
          "text": [
            "inference_transcription : halen oghade medl\n",
            "real_transcription : hallo hoe gaat het met jou\n",
            "Infer Wavefile:  /home/fakrul/Model_Mozilla_CommonDataSet/nl/clips/common_voice_nl_19745402.wav\n"
          ],
          "name": "stdout"
        },
        {
          "output_type": "stream",
          "text": [
            "Running inference.\n"
          ],
          "name": "stderr"
        },
        {
          "output_type": "stream",
          "text": [
            "inference_transcription : enee entnen pon\n",
            "real_transcription : goedemiddag kan ik je helpen\n",
            "Infer Wavefile:  /home/fakrul/Model_Mozilla_CommonDataSet/nl/clips/common_voice_nl_17755626.wav\n"
          ],
          "name": "stdout"
        },
        {
          "output_type": "stream",
          "text": [
            "Running inference.\n"
          ],
          "name": "stderr"
        },
        {
          "output_type": "stream",
          "text": [
            "inference_transcription : e venven e ar abarer anin nerc ijk\n",
            "real_transcription : je functioneren wordt elk jaar besproken in een gesprek\n",
            "Infer Wavefile:  /home/fakrul/Model_Mozilla_CommonDataSet/nl/clips/common_voice_nl_17699778.wav\n"
          ],
          "name": "stdout"
        },
        {
          "output_type": "stream",
          "text": [
            "Running inference.\n"
          ],
          "name": "stderr"
        },
        {
          "output_type": "stream",
          "text": [
            "inference_transcription : e mikeo o er o genspa asp avars mers er\n",
            "real_transcription : de microgolfoven staat naast de afwasmachine\n",
            "Infer Wavefile:  /home/fakrul/Model_Mozilla_CommonDataSet/nl/clips/common_voice_nl_20217675.wav\n"
          ],
          "name": "stdout"
        },
        {
          "output_type": "stream",
          "text": [
            "Running inference.\n"
          ],
          "name": "stderr"
        },
        {
          "output_type": "stream",
          "text": [
            "inference_transcription : zes pele itgac mon podin\n",
            "real_transcription : ze speelde niet graag monopolie\n",
            "Infer Wavefile:  /home/fakrul/Model_Mozilla_CommonDataSet/nl/clips/common_voice_nl_20215642.wav\n"
          ],
          "name": "stdout"
        },
        {
          "output_type": "stream",
          "text": [
            "Running inference.\n"
          ],
          "name": "stderr"
        },
        {
          "output_type": "stream",
          "text": [
            "inference_transcription : menketronstge e deroket anegenegt  oln\n",
            "real_transcription : men verdrong zich in de tot kleedkamer ingerichte eetzaal\n",
            "Infer Wavefile:  /home/fakrul/Model_Mozilla_CommonDataSet/nl/clips/common_voice_nl_19502471.wav\n"
          ],
          "name": "stdout"
        },
        {
          "output_type": "stream",
          "text": [
            "Running inference.\n"
          ],
          "name": "stderr"
        },
        {
          "output_type": "stream",
          "text": [
            "inference_transcription : iten baten zakgekacht\n",
            "real_transcription : zij heeft een kat in een zak gekocht\n",
            "Infer Wavefile:  /home/fakrul/Model_Mozilla_CommonDataSet/nl/clips/common_voice_nl_19679924.wav\n"
          ],
          "name": "stdout"
        },
        {
          "output_type": "stream",
          "text": [
            "Running inference.\n"
          ],
          "name": "stderr"
        },
        {
          "output_type": "stream",
          "text": [
            "inference_transcription : etas kt italwa nde boti\n",
            "real_transcription : bert anciaux zit al lang in de politiek\n",
            "Infer Wavefile:  /home/fakrul/Model_Mozilla_CommonDataSet/nl/clips/common_voice_nl_19002230.wav\n"
          ],
          "name": "stdout"
        },
        {
          "output_type": "stream",
          "text": [
            "Running inference.\n"
          ],
          "name": "stderr"
        },
        {
          "output_type": "stream",
          "text": [
            "inference_transcription : e don ponsen do\n",
            "real_transcription : de tampons zijn op\n",
            "Infer Wavefile:  /home/fakrul/Model_Mozilla_CommonDataSet/nl/clips/common_voice_nl_19502500.wav\n"
          ],
          "name": "stdout"
        },
        {
          "output_type": "stream",
          "text": [
            "Running inference.\n"
          ],
          "name": "stderr"
        },
        {
          "output_type": "stream",
          "text": [
            "inference_transcription : oszo onese ce ors velanandi decaitijtso dekent\n",
            "real_transcription : hoeveel onderzoek er wordt gedaan naar de luchtkwaliteit is onbekend\n",
            "Infer Wavefile:  /home/fakrul/Model_Mozilla_CommonDataSet/nl/clips/common_voice_nl_18200716.wav\n"
          ],
          "name": "stdout"
        },
        {
          "output_type": "stream",
          "text": [
            "Running inference.\n"
          ],
          "name": "stderr"
        },
        {
          "output_type": "stream",
          "text": [
            "inference_transcription : wade a mos a is erar en atsindi han\n",
            "real_transcription : behalve de laatste boodschapjes zijn we klaar om op vakantie te gaan\n",
            "Infer Wavefile:  /home/fakrul/Model_Mozilla_CommonDataSet/nl/clips/common_voice_nl_17783206.wav\n"
          ],
          "name": "stdout"
        },
        {
          "output_type": "stream",
          "text": [
            "Running inference.\n"
          ],
          "name": "stderr"
        },
        {
          "output_type": "stream",
          "text": [
            "inference_transcription : de vote vatprste pasoto wat \n",
            "real_transcription : de fotograaf heeft een pasfoto gemaakt\n",
            "Infer Wavefile:  /home/fakrul/Model_Mozilla_CommonDataSet/nl/clips/common_voice_nl_19002210.wav\n"
          ],
          "name": "stdout"
        },
        {
          "output_type": "stream",
          "text": [
            "Running inference.\n"
          ],
          "name": "stderr"
        },
        {
          "output_type": "stream",
          "text": [
            "inference_transcription : olee ve bene oebijn\n",
            "real_transcription : gelukkig heb ik een paraplu bij me\n",
            "Infer Wavefile:  /home/fakrul/Model_Mozilla_CommonDataSet/nl/clips/common_voice_nl_17696340.wav\n"
          ],
          "name": "stdout"
        },
        {
          "output_type": "stream",
          "text": [
            "Running inference.\n"
          ],
          "name": "stderr"
        },
        {
          "output_type": "stream",
          "text": [
            "inference_transcription : i e ment\n",
            "real_transcription : ken je deze mensen\n",
            "Infer Wavefile:  /home/fakrul/Model_Mozilla_CommonDataSet/nl/clips/common_voice_nl_17699122.wav\n"
          ],
          "name": "stdout"
        },
        {
          "output_type": "stream",
          "text": [
            "Running inference.\n"
          ],
          "name": "stderr"
        },
        {
          "output_type": "stream",
          "text": [
            "inference_transcription :  ek eten  ase e k eoden mets\n",
            "real_transcription : voor het eten was je eerst je handen met zeep\n",
            "Infer Wavefile:  /home/fakrul/Model_Mozilla_CommonDataSet/nl/clips/common_voice_nl_17944783.wav\n"
          ],
          "name": "stdout"
        },
        {
          "output_type": "stream",
          "text": [
            "Running inference.\n"
          ],
          "name": "stderr"
        },
        {
          "output_type": "stream",
          "text": [
            "inference_transcription : jsten oe onse mrer en meles vends en\n",
            "real_transcription : het serie op televisie kreeg goede recensies\n",
            "Infer Wavefile:  /home/fakrul/Model_Mozilla_CommonDataSet/nl/clips/common_voice_nl_18487901.wav\n"
          ],
          "name": "stdout"
        },
        {
          "output_type": "stream",
          "text": [
            "Running inference.\n"
          ],
          "name": "stderr"
        },
        {
          "output_type": "stream",
          "text": [
            "inference_transcription : e avetee va is goni netzer wert\n",
            "real_transcription : zo'n oude telefoon is gewoon niet nuttig meer\n",
            "Infer Wavefile:  /home/fakrul/Model_Mozilla_CommonDataSet/nl/clips/common_voice_nl_18522084.wav\n"
          ],
          "name": "stdout"
        },
        {
          "output_type": "stream",
          "text": [
            "Running inference.\n"
          ],
          "name": "stderr"
        },
        {
          "output_type": "stream",
          "text": [
            "inference_transcription : wa macge i tlet in ege\n",
            "real_transcription : vandaag maak ik het internet inclusiever\n",
            "Infer Wavefile:  /home/fakrul/Model_Mozilla_CommonDataSet/nl/clips/common_voice_nl_17695351.wav\n"
          ],
          "name": "stdout"
        },
        {
          "output_type": "stream",
          "text": [
            "Running inference.\n"
          ],
          "name": "stderr"
        },
        {
          "output_type": "stream",
          "text": [
            "inference_transcription : asekopket ditze het otekonveder esteke anstopon kartet\n",
            "real_transcription : als je computer niet werkt moet je even controleren of de stekker wel in het stopcontact zit\n",
            "Infer Wavefile:  /home/fakrul/Model_Mozilla_CommonDataSet/nl/clips/common_voice_nl_18257913.wav\n"
          ],
          "name": "stdout"
        },
        {
          "output_type": "stream",
          "text": [
            "Running inference.\n"
          ],
          "name": "stderr"
        },
        {
          "output_type": "stream",
          "text": [
            "inference_transcription : e e een or ea ie an o\n",
            "real_transcription : hij is vlot tweetalig\n",
            "Infer Wavefile:  /home/fakrul/Model_Mozilla_CommonDataSet/nl/clips/common_voice_nl_18163757.wav\n"
          ],
          "name": "stdout"
        },
        {
          "output_type": "stream",
          "text": [
            "Running inference.\n"
          ],
          "name": "stderr"
        },
        {
          "output_type": "stream",
          "text": [
            "inference_transcription : de beti voon vodo  en e e ken\n",
            "real_transcription : de belichting van een foto juist krijgen is een kunst\n",
            "Infer Wavefile:  /home/fakrul/Model_Mozilla_CommonDataSet/nl/clips/common_voice_nl_19943636.wav\n"
          ],
          "name": "stdout"
        },
        {
          "output_type": "stream",
          "text": [
            "Running inference.\n"
          ],
          "name": "stderr"
        },
        {
          "output_type": "stream",
          "text": [
            "inference_transcription : e ber keh oleve at ah\n",
            "real_transcription : heb je er echt goed over nagedacht\n",
            "Infer Wavefile:  /home/fakrul/Model_Mozilla_CommonDataSet/nl/clips/common_voice_nl_17732954.wav\n"
          ],
          "name": "stdout"
        },
        {
          "output_type": "stream",
          "text": [
            "Running inference.\n"
          ],
          "name": "stderr"
        },
        {
          "output_type": "stream",
          "text": [
            "inference_transcription : in halen an kijn mande base dandedent\n",
            "real_transcription : in gelderland kan je mooi in de bossen wandelen\n",
            "Infer Wavefile:  /home/fakrul/Model_Mozilla_CommonDataSet/nl/clips/common_voice_nl_18207651.wav\n"
          ],
          "name": "stdout"
        },
        {
          "output_type": "stream",
          "text": [
            "Running inference.\n"
          ],
          "name": "stderr"
        },
        {
          "output_type": "stream",
          "text": [
            "inference_transcription : en asen mezenmostor en mar ome de \n",
            "real_transcription : het was een mega monster gemaakt van metaal\n",
            "Infer Wavefile:  /home/fakrul/Model_Mozilla_CommonDataSet/nl/clips/common_voice_nl_19709902.wav\n"
          ],
          "name": "stdout"
        },
        {
          "output_type": "stream",
          "text": [
            "Running inference.\n"
          ],
          "name": "stderr"
        },
        {
          "output_type": "stream",
          "text": [
            "inference_transcription : hen tooae kraheken ach on oomene en panpen o\n",
            "real_transcription : het doel van het theater was om jonge mensen een podium te geven\n",
            "Infer Wavefile:  /home/fakrul/Model_Mozilla_CommonDataSet/nl/clips/common_voice_nl_19519520.wav\n"
          ],
          "name": "stdout"
        },
        {
          "output_type": "stream",
          "text": [
            "Running inference.\n"
          ],
          "name": "stderr"
        },
        {
          "output_type": "stream",
          "text": [
            "inference_transcription : it t it et can destipotstelsbet e \n",
            "real_transcription : abrupt kwam de trein tot stilstand\n",
            "Infer Wavefile:  /home/fakrul/Model_Mozilla_CommonDataSet/nl/clips/common_voice_nl_19502537.wav\n"
          ],
          "name": "stdout"
        },
        {
          "output_type": "stream",
          "text": [
            "Running inference.\n"
          ],
          "name": "stderr"
        },
        {
          "output_type": "stream",
          "text": [
            "inference_transcription : tin nitgesvotceneren esesvijt\n",
            "real_transcription : de microfoon genereerde een slecht geluid\n",
            "Infer Wavefile:  /home/fakrul/Model_Mozilla_CommonDataSet/nl/clips/common_voice_nl_18843907.wav\n"
          ],
          "name": "stdout"
        },
        {
          "output_type": "stream",
          "text": [
            "Running inference.\n"
          ],
          "name": "stderr"
        },
        {
          "output_type": "stream",
          "text": [
            "inference_transcription : aln dene a ezen gaspensate dit gore ek an\n",
            "real_transcription : al deze vrouwen zijn valsspelers laat je niet voor de gek houden\n",
            "Infer Wavefile:  /home/fakrul/Model_Mozilla_CommonDataSet/nl/clips/common_voice_nl_18931130.wav\n"
          ],
          "name": "stdout"
        },
        {
          "output_type": "stream",
          "text": [
            "Running inference.\n"
          ],
          "name": "stderr"
        },
        {
          "output_type": "stream",
          "text": [
            "inference_transcription : et e oges et otes o on\n",
            "real_transcription : heb je zalf gesmeerd op de schaafwond\n",
            "Infer Wavefile:  /home/fakrul/Model_Mozilla_CommonDataSet/nl/clips/common_voice_nl_17696266.wav\n"
          ],
          "name": "stdout"
        },
        {
          "output_type": "stream",
          "text": [
            "Running inference.\n"
          ],
          "name": "stderr"
        },
        {
          "output_type": "stream",
          "text": [
            "inference_transcription : me c ken on eness wetei itirks\n",
            "real_transcription : de leerkracht heeft bram luuk en sven naar de strafstudie gestuurd\n",
            "Infer Wavefile:  /home/fakrul/Model_Mozilla_CommonDataSet/nl/clips/common_voice_nl_18867604.wav\n"
          ],
          "name": "stdout"
        },
        {
          "output_type": "stream",
          "text": [
            "Running inference.\n"
          ],
          "name": "stderr"
        },
        {
          "output_type": "stream",
          "text": [
            "inference_transcription : it kaomanen anen dobene n narpijten\n",
            "real_transcription : niet alle landen staan een dubbele nationaliteit toe\n",
            "Infer Wavefile:  /home/fakrul/Model_Mozilla_CommonDataSet/nl/clips/common_voice_nl_17709308.wav\n"
          ],
          "name": "stdout"
        },
        {
          "output_type": "stream",
          "text": [
            "Running inference.\n"
          ],
          "name": "stderr"
        },
        {
          "output_type": "stream",
          "text": [
            "inference_transcription : e in porsze zon van pise zo\n",
            "real_transcription : heb je het nieuwe seizoen van thuis gezien\n",
            "Infer Wavefile:  /home/fakrul/Model_Mozilla_CommonDataSet/nl/clips/common_voice_nl_17695539.wav\n"
          ],
          "name": "stdout"
        },
        {
          "output_type": "stream",
          "text": [
            "Running inference.\n"
          ],
          "name": "stderr"
        },
        {
          "output_type": "stream",
          "text": [
            "inference_transcription : de nansespat elo an an an des e osta\n",
            "real_transcription : de naamsestraat loopt parallel aan de stationsstraat\n",
            "Infer Wavefile:  /home/fakrul/Model_Mozilla_CommonDataSet/nl/clips/common_voice_nl_18259991.wav\n"
          ],
          "name": "stdout"
        },
        {
          "output_type": "stream",
          "text": [
            "Running inference.\n"
          ],
          "name": "stderr"
        },
        {
          "output_type": "stream",
          "text": [
            "inference_transcription :  lo e e e o i o en er n en gl e er enlene e an \n",
            "real_transcription : als je een huis koopt moet je opletten dat het niet in een overstromingsgebied ligt\n",
            "Infer Wavefile:  /home/fakrul/Model_Mozilla_CommonDataSet/nl/clips/common_voice_nl_17886045.wav\n"
          ],
          "name": "stdout"
        },
        {
          "output_type": "stream",
          "text": [
            "Running inference.\n"
          ],
          "name": "stderr"
        },
        {
          "output_type": "stream",
          "text": [
            "inference_transcription : ma het wer hanen vanettertstat on mort e poen dgestandert ooen\n",
            "real_transcription : na het weghalen van het tankstation moest de bodem gesaneerd worden\n",
            "Infer Wavefile:  /home/fakrul/Model_Mozilla_CommonDataSet/nl/clips/common_voice_nl_17696571.wav\n"
          ],
          "name": "stdout"
        },
        {
          "output_type": "stream",
          "text": [
            "Running inference.\n"
          ],
          "name": "stderr"
        },
        {
          "output_type": "stream",
          "text": [
            "inference_transcription : e e vet ijtstoen delert\n",
            "real_transcription : zit er veel fijn stof in de lucht\n",
            "Infer Wavefile:  /home/fakrul/Model_Mozilla_CommonDataSet/nl/clips/common_voice_nl_18487888.wav\n"
          ],
          "name": "stdout"
        },
        {
          "output_type": "stream",
          "text": [
            "Running inference.\n"
          ],
          "name": "stderr"
        },
        {
          "output_type": "stream",
          "text": [
            "inference_transcription : e antislve vat neten\n",
            "real_transcription : hij dronk zichzelf nog wat moed in\n",
            "Infer Wavefile:  /home/fakrul/Model_Mozilla_CommonDataSet/nl/clips/common_voice_nl_17699103.wav\n"
          ],
          "name": "stdout"
        },
        {
          "output_type": "stream",
          "text": [
            "Running inference.\n"
          ],
          "name": "stderr"
        },
        {
          "output_type": "stream",
          "text": [
            "inference_transcription : aj is naate koen o pas a\n",
            "real_transcription : kan je snel water koken voor de pasta\n",
            "Infer Wavefile:  /home/fakrul/Model_Mozilla_CommonDataSet/nl/clips/common_voice_nl_19505073.wav\n"
          ],
          "name": "stdout"
        },
        {
          "output_type": "stream",
          "text": [
            "Running inference.\n"
          ],
          "name": "stderr"
        },
        {
          "output_type": "stream",
          "text": [
            "inference_transcription : hijzonetee was as von vrweven boon\n",
            "real_transcription : het jonge dier was pas vorige week geboren\n",
            "Infer Wavefile:  /home/fakrul/Model_Mozilla_CommonDataSet/nl/clips/common_voice_nl_19483849.wav\n"
          ],
          "name": "stdout"
        },
        {
          "output_type": "stream",
          "text": [
            "Running inference.\n"
          ],
          "name": "stderr"
        },
        {
          "output_type": "stream",
          "text": [
            "inference_transcription : rijs en eter te was\n",
            "real_transcription : reis je in eerste of tweede klasse\n",
            "Infer Wavefile:  /home/fakrul/Model_Mozilla_CommonDataSet/nl/clips/common_voice_nl_17695409.wav\n"
          ],
          "name": "stdout"
        },
        {
          "output_type": "stream",
          "text": [
            "Running inference.\n"
          ],
          "name": "stderr"
        },
        {
          "output_type": "stream",
          "text": [
            "inference_transcription : en o dr esesaestidostoma  ossagstomaoratens veleen n\n",
            "real_transcription : een voltallig orkest bestaat uit de strijkinstrumenten de slaginstrumenten en de blaasinstrumenten\n",
            "Infer Wavefile:  /home/fakrul/Model_Mozilla_CommonDataSet/nl/clips/common_voice_nl_17698482.wav\n"
          ],
          "name": "stdout"
        },
        {
          "output_type": "stream",
          "text": [
            "Running inference.\n"
          ],
          "name": "stderr"
        },
        {
          "output_type": "stream",
          "text": [
            "inference_transcription : de veaasze waseck mot ve nerben iten maals benonen kon hesze ekennekkovastceten ankabe\n",
            "real_transcription : de glazenwasser tuimelde naar beneden maar als bij een wonder kon hij zich uiteindelijk toch vastgrijpen aan een kabel\n",
            "Infer Wavefile:  /home/fakrul/Model_Mozilla_CommonDataSet/nl/clips/common_voice_nl_17703860.wav\n"
          ],
          "name": "stdout"
        },
        {
          "output_type": "stream",
          "text": [
            "Running inference.\n"
          ],
          "name": "stderr"
        },
        {
          "output_type": "stream",
          "text": [
            "inference_transcription : e i mljrstogste e bartetowerot\n",
            "real_transcription : de himalaya is het hoogste gebergte ter wereld\n",
            "Infer Wavefile:  /home/fakrul/Model_Mozilla_CommonDataSet/nl/clips/common_voice_nl_17696892.wav\n"
          ],
          "name": "stdout"
        },
        {
          "output_type": "stream",
          "text": [
            "Running inference.\n"
          ],
          "name": "stderr"
        },
        {
          "output_type": "stream",
          "text": [
            "inference_transcription : enns ot\n",
            "real_transcription : ine lag in de strandstoel\n",
            "Infer Wavefile:  /home/fakrul/Model_Mozilla_CommonDataSet/nl/clips/common_voice_nl_18980384.wav\n"
          ],
          "name": "stdout"
        },
        {
          "output_type": "stream",
          "text": [
            "Running inference.\n"
          ],
          "name": "stderr"
        },
        {
          "output_type": "stream",
          "text": [
            "inference_transcription : de be ba be tie onbe dasten ten noeko\n",
            "real_transcription : blijkbaar betaal je amper belasting in monaco\n",
            "Infer Wavefile:  /home/fakrul/Model_Mozilla_CommonDataSet/nl/clips/common_voice_nl_17693923.wav\n"
          ],
          "name": "stdout"
        },
        {
          "output_type": "stream",
          "text": [
            "Running inference.\n"
          ],
          "name": "stderr"
        },
        {
          "output_type": "stream",
          "text": [
            "inference_transcription : ac dikebesge vo kon boen\n",
            "real_transcription : ja ik heb het gevonden op google\n",
            "Infer Wavefile:  /home/fakrul/Model_Mozilla_CommonDataSet/nl/clips/common_voice_nl_19074700.wav\n"
          ],
          "name": "stdout"
        },
        {
          "output_type": "stream",
          "text": [
            "Running inference.\n"
          ],
          "name": "stderr"
        },
        {
          "output_type": "stream",
          "text": [
            "inference_transcription : i ont i ets a destozen\n",
            "real_transcription : jullie hond heeft een schattig snoetje\n",
            "Infer Wavefile:  /home/fakrul/Model_Mozilla_CommonDataSet/nl/clips/common_voice_nl_18455929.wav\n"
          ],
          "name": "stdout"
        },
        {
          "output_type": "stream",
          "text": [
            "Running inference.\n"
          ],
          "name": "stderr"
        },
        {
          "output_type": "stream",
          "text": [
            "inference_transcription : hite nit pit gen makoet ert\n",
            "real_transcription : het is niet altijd gemakkelijk geweest\n",
            "Infer Wavefile:  /home/fakrul/Model_Mozilla_CommonDataSet/nl/clips/common_voice_nl_17797670.wav\n"
          ],
          "name": "stdout"
        },
        {
          "output_type": "stream",
          "text": [
            "Running inference.\n"
          ],
          "name": "stderr"
        },
        {
          "output_type": "stream",
          "text": [
            "inference_transcription : a en bo ede bet onken ton pes en me a abe on aan an bo oon en mane e o on o at\n",
            "real_transcription : af en toe zit er best ook een zin tussen met wat achtergrondlawaai van bijvoorbeeld een wasmachine of een droogkast\n",
            "Infer Wavefile:  /home/fakrul/Model_Mozilla_CommonDataSet/nl/clips/common_voice_nl_17694898.wav\n"
          ],
          "name": "stdout"
        },
        {
          "output_type": "stream",
          "text": [
            "Running inference.\n"
          ],
          "name": "stderr"
        },
        {
          "output_type": "stream",
          "text": [
            "inference_transcription : de aliste brent a atomenstenmen e in mete ore meden\n",
            "real_transcription : de hal is te breed en er zal toch een steunpunt voorzien moeten worden in het midden\n",
            "Infer Wavefile:  /home/fakrul/Model_Mozilla_CommonDataSet/nl/clips/common_voice_nl_17878566.wav\n"
          ],
          "name": "stdout"
        },
        {
          "output_type": "stream",
          "text": [
            "Running inference.\n"
          ],
          "name": "stderr"
        },
        {
          "output_type": "stream",
          "text": [
            "inference_transcription : egan achttanen ogleste e met o\n",
            "real_transcription : we gaan graag samen op restaurant\n",
            "Infer Wavefile:  /home/fakrul/Model_Mozilla_CommonDataSet/nl/clips/common_voice_nl_17694048.wav\n"
          ],
          "name": "stdout"
        },
        {
          "output_type": "stream",
          "text": [
            "Running inference.\n"
          ],
          "name": "stderr"
        },
        {
          "output_type": "stream",
          "text": [
            "inference_transcription : dkanit stpeeslns vet en etepettope wateken\n",
            "real_transcription : de arbeidsinspectie is langsgeweest en heeft hem betrapt op zwartwerken\n",
            "Infer Wavefile:  /home/fakrul/Model_Mozilla_CommonDataSet/nl/clips/common_voice_nl_17697002.wav\n"
          ],
          "name": "stdout"
        },
        {
          "output_type": "stream",
          "text": [
            "Running inference.\n"
          ],
          "name": "stderr"
        },
        {
          "output_type": "stream",
          "text": [
            "inference_transcription : es boen an ekvo oderpegren ven\n",
            "real_transcription : zinsbouw is belangrijk voor een goede redevoering\n",
            "Infer Wavefile:  /home/fakrul/Model_Mozilla_CommonDataSet/nl/clips/common_voice_nl_17699320.wav\n"
          ],
          "name": "stdout"
        },
        {
          "output_type": "stream",
          "text": [
            "Running inference.\n"
          ],
          "name": "stderr"
        },
        {
          "output_type": "stream",
          "text": [
            "inference_transcription : onstint itsetotat otkoietantss\n",
            "real_transcription : soms weet ik niet zeker of een bepaald woord correct nederlands is\n",
            "Infer Wavefile:  /home/fakrul/Model_Mozilla_CommonDataSet/nl/clips/common_voice_nl_17704594.wav\n"
          ],
          "name": "stdout"
        },
        {
          "output_type": "stream",
          "text": [
            "Running inference.\n"
          ],
          "name": "stderr"
        },
        {
          "output_type": "stream",
          "text": [
            "inference_transcription : tet en bidit me kokete e ot itekt\n",
            "real_transcription : dat is eigenaardig mijn computer doet nooit zoiets geks\n",
            "Infer Wavefile:  /home/fakrul/Model_Mozilla_CommonDataSet/nl/clips/common_voice_nl_17694962.wav\n"
          ],
          "name": "stdout"
        },
        {
          "output_type": "stream",
          "text": [
            "Running inference.\n"
          ],
          "name": "stderr"
        },
        {
          "output_type": "stream",
          "text": [
            "inference_transcription : asze belete esven erer bedet enteden tajk omogenstekand teeepen ze denserveninze henkenden\n",
            "real_transcription : na zijn wereldreis van een jaar werd het eindelijk tijd om nog eens de kapper te bezoeken zodat zijn familie hem zou herkennen\n",
            "Infer Wavefile:  /home/fakrul/Model_Mozilla_CommonDataSet/nl/clips/common_voice_nl_17702132.wav\n"
          ],
          "name": "stdout"
        },
        {
          "output_type": "stream",
          "text": [
            "Running inference.\n"
          ],
          "name": "stderr"
        },
        {
          "output_type": "stream",
          "text": [
            "inference_transcription : den en votssin det venve tenst n men an degedanden\n",
            "real_transcription : eb en vloed zijn de twee extremen van de getijden\n",
            "Infer Wavefile:  /home/fakrul/Model_Mozilla_CommonDataSet/nl/clips/common_voice_nl_17696065.wav\n"
          ],
          "name": "stdout"
        },
        {
          "output_type": "stream",
          "text": [
            "Running inference.\n"
          ],
          "name": "stderr"
        },
        {
          "output_type": "stream",
          "text": [
            "inference_transcription : szoen d ateisan dann lor ni gerdan\n",
            "real_transcription : sokken dragen in sandalen wordt niet gedaan\n",
            "Infer Wavefile:  /home/fakrul/Model_Mozilla_CommonDataSet/nl/clips/common_voice_nl_19873419.wav\n"
          ],
          "name": "stdout"
        },
        {
          "output_type": "stream",
          "text": [
            "Running inference.\n"
          ],
          "name": "stderr"
        },
        {
          "output_type": "stream",
          "text": [
            "inference_transcription : ereten esen e mete an aset\n",
            "real_transcription : neeroeteren is een deelgemeente van maaseik\n",
            "Infer Wavefile:  /home/fakrul/Model_Mozilla_CommonDataSet/nl/clips/common_voice_nl_18980399.wav\n"
          ],
          "name": "stdout"
        },
        {
          "output_type": "stream",
          "text": [
            "Running inference.\n"
          ],
          "name": "stderr"
        },
        {
          "output_type": "stream",
          "text": [
            "inference_transcription : eleke onnal detet eor motsatoret zober ke bitt\n",
            "real_transcription : we werken van maandag tot vrijdag maar op zaterdag en zondag hebben we weekend\n",
            "Infer Wavefile:  /home/fakrul/Model_Mozilla_CommonDataSet/nl/clips/common_voice_nl_17698354.wav\n"
          ],
          "name": "stdout"
        },
        {
          "output_type": "stream",
          "text": [
            "Running inference.\n"
          ],
          "name": "stderr"
        },
        {
          "output_type": "stream",
          "text": [
            "inference_transcription :  estit is ent bes it it\n",
            "real_transcription : gymnastiek is zijn specialiteit\n",
            "Infer Wavefile:  /home/fakrul/Model_Mozilla_CommonDataSet/nl/clips/common_voice_nl_17708370.wav\n"
          ],
          "name": "stdout"
        },
        {
          "output_type": "stream",
          "text": [
            "Running inference.\n"
          ],
          "name": "stderr"
        },
        {
          "output_type": "stream",
          "text": [
            "inference_transcription : itscentnetir its\n",
            "real_transcription : ik zwem twee keer per week\n",
            "Infer Wavefile:  /home/fakrul/Model_Mozilla_CommonDataSet/nl/clips/common_voice_nl_19001134.wav\n"
          ],
          "name": "stdout"
        },
        {
          "output_type": "stream",
          "text": [
            "Running inference.\n"
          ],
          "name": "stderr"
        },
        {
          "output_type": "stream",
          "text": [
            "inference_transcription : in e asispa ekone wosakretocgete inen\n",
            "real_transcription : intonatie is belangrijk om je boodschap correct over te brengen\n",
            "Infer Wavefile:  /home/fakrul/Model_Mozilla_CommonDataSet/nl/clips/common_voice_nl_17697591.wav\n"
          ],
          "name": "stdout"
        },
        {
          "output_type": "stream",
          "text": [
            "Running inference.\n"
          ],
          "name": "stderr"
        },
        {
          "output_type": "stream",
          "text": [
            "inference_transcription :  po le podes ebeve opaln\n",
            "real_transcription : als je batterij plat is dan moet je ze opladen\n",
            "Infer Wavefile:  /home/fakrul/Model_Mozilla_CommonDataSet/nl/clips/common_voice_nl_19421021.wav\n"
          ],
          "name": "stdout"
        },
        {
          "output_type": "stream",
          "text": [
            "Running inference.\n"
          ],
          "name": "stderr"
        },
        {
          "output_type": "stream",
          "text": [
            "inference_transcription : zetracte ec ondesones te velien\n",
            "real_transcription : ze draagt een petje om een zonnesteek te vermijden\n",
            "Infer Wavefile:  /home/fakrul/Model_Mozilla_CommonDataSet/nl/clips/common_voice_nl_17700620.wav\n"
          ],
          "name": "stdout"
        },
        {
          "output_type": "stream",
          "text": [
            "Running inference.\n"
          ],
          "name": "stderr"
        },
        {
          "output_type": "stream",
          "text": [
            "inference_transcription : de ijne o enp me od kan\n",
            "real_transcription : de jager was op zoek naar roodkapje\n",
            "Infer Wavefile:  /home/fakrul/Model_Mozilla_CommonDataSet/nl/clips/common_voice_nl_19002147.wav\n"
          ],
          "name": "stdout"
        },
        {
          "output_type": "stream",
          "text": [
            "Running inference.\n"
          ],
          "name": "stderr"
        },
        {
          "output_type": "stream",
          "text": [
            "inference_transcription : de lrse deszote vo onsto ele ke\n",
            "real_transcription : de werkzaamheden zorgden voor een opstopping in het verkeer\n",
            "Infer Wavefile:  /home/fakrul/Model_Mozilla_CommonDataSet/nl/clips/common_voice_nl_17966800.wav\n"
          ],
          "name": "stdout"
        },
        {
          "output_type": "stream",
          "text": [
            "Running inference.\n"
          ],
          "name": "stderr"
        },
        {
          "output_type": "stream",
          "text": [
            "inference_transcription : i en oti mentet oes\n",
            "real_transcription : ik ben nooit veel naar de kerk geweest\n",
            "Infer Wavefile:  /home/fakrul/Model_Mozilla_CommonDataSet/nl/clips/common_voice_nl_19069721.wav\n"
          ],
          "name": "stdout"
        },
        {
          "output_type": "stream",
          "text": [
            "Running inference.\n"
          ],
          "name": "stderr"
        },
        {
          "output_type": "stream",
          "text": [
            "inference_transcription : en ben de zocht mot egste korte melen\n",
            "real_transcription : de bende zorgde voor veel gestolen portemonnees\n",
            "Infer Wavefile:  /home/fakrul/Model_Mozilla_CommonDataSet/nl/clips/common_voice_nl_17711865.wav\n"
          ],
          "name": "stdout"
        },
        {
          "output_type": "stream",
          "text": [
            "Running inference.\n"
          ],
          "name": "stderr"
        },
        {
          "output_type": "stream",
          "text": [
            "inference_transcription : e erkt achtht\n",
            "real_transcription : mijn uurwerk loopt achter\n",
            "Infer Wavefile:  /home/fakrul/Model_Mozilla_CommonDataSet/nl/clips/common_voice_nl_17708369.wav\n"
          ],
          "name": "stdout"
        },
        {
          "output_type": "stream",
          "text": [
            "Running inference.\n"
          ],
          "name": "stderr"
        },
        {
          "output_type": "stream",
          "text": [
            "inference_transcription : a ise konszon sn\n",
            "real_transcription : na regen komt zonneschijn\n",
            "Infer Wavefile:  /home/fakrul/Model_Mozilla_CommonDataSet/nl/clips/common_voice_nl_19745193.wav\n"
          ],
          "name": "stdout"
        },
        {
          "output_type": "stream",
          "text": [
            "Running inference.\n"
          ],
          "name": "stderr"
        },
        {
          "output_type": "stream",
          "text": [
            "inference_transcription : es sin beone heitin di inen\n",
            "real_transcription : het is niet simpel om haar accent te herkennen\n",
            "Infer Wavefile:  /home/fakrul/Model_Mozilla_CommonDataSet/nl/clips/common_voice_nl_18626314.wav\n"
          ],
          "name": "stdout"
        },
        {
          "output_type": "stream",
          "text": [
            "Running inference.\n"
          ],
          "name": "stderr"
        },
        {
          "output_type": "stream",
          "text": [
            "inference_transcription : ritsipooblist onepentietstat\n",
            "real_transcription : mexico ligt onder de verenigde staten\n",
            "Infer Wavefile:  /home/fakrul/Model_Mozilla_CommonDataSet/nl/clips/common_voice_nl_19943641.wav\n"
          ],
          "name": "stdout"
        },
        {
          "output_type": "stream",
          "text": [
            "Running inference.\n"
          ],
          "name": "stderr"
        },
        {
          "output_type": "stream",
          "text": [
            "inference_transcription : eketorten de purt anso\n",
            "real_transcription : het kantoor ligt in de buurt van zwolle\n",
            "Infer Wavefile:  /home/fakrul/Model_Mozilla_CommonDataSet/nl/clips/common_voice_nl_17696164.wav\n"
          ],
          "name": "stdout"
        },
        {
          "output_type": "stream",
          "text": [
            "Running inference.\n"
          ],
          "name": "stderr"
        },
        {
          "output_type": "stream",
          "text": [
            "inference_transcription : elet asvast\n",
            "real_transcription : de lift zat vast\n",
            "Infer Wavefile:  /home/fakrul/Model_Mozilla_CommonDataSet/nl/clips/common_voice_nl_17966796.wav\n"
          ],
          "name": "stdout"
        },
        {
          "output_type": "stream",
          "text": [
            "Running inference.\n"
          ],
          "name": "stderr"
        },
        {
          "output_type": "stream",
          "text": [
            "inference_transcription : tetstt et tote erstet optst\n",
            "real_transcription : ergens in het voorjaar is het rokjesdag\n",
            "Infer Wavefile:  /home/fakrul/Model_Mozilla_CommonDataSet/nl/clips/common_voice_nl_17696333.wav\n"
          ],
          "name": "stdout"
        },
        {
          "output_type": "stream",
          "text": [
            "Running inference.\n"
          ],
          "name": "stderr"
        },
        {
          "output_type": "stream",
          "text": [
            "inference_transcription : ve et n\n",
            "real_transcription : trek het je niet aan\n",
            "Infer Wavefile:  /home/fakrul/Model_Mozilla_CommonDataSet/nl/clips/common_voice_nl_17695247.wav\n"
          ],
          "name": "stdout"
        },
        {
          "output_type": "stream",
          "text": [
            "Running inference.\n"
          ],
          "name": "stderr"
        },
        {
          "output_type": "stream",
          "text": [
            "inference_transcription : e tat e an\n",
            "real_transcription : is dat eetbaar\n",
            "Infer Wavefile:  /home/fakrul/Model_Mozilla_CommonDataSet/nl/clips/common_voice_nl_17797724.wav\n"
          ],
          "name": "stdout"
        },
        {
          "output_type": "stream",
          "text": [
            "Running inference.\n"
          ],
          "name": "stderr"
        },
        {
          "output_type": "stream",
          "text": [
            "inference_transcription : de a odijtennes e ban en aaen di\n",
            "real_transcription : de faculteiten in dat gebouw zijn morgen dicht\n",
            "Infer Wavefile:  /home/fakrul/Model_Mozilla_CommonDataSet/nl/clips/common_voice_nl_17705115.wav\n"
          ],
          "name": "stdout"
        },
        {
          "output_type": "stream",
          "text": [
            "Running inference.\n"
          ],
          "name": "stderr"
        },
        {
          "output_type": "stream",
          "text": [
            "inference_transcription : a e kofen oijtda ond vovetre\n",
            "real_transcription : pak jij je koffer altijd de avond voor je vertrekt\n",
            "Infer Wavefile:  /home/fakrul/Model_Mozilla_CommonDataSet/nl/clips/common_voice_nl_17698092.wav\n"
          ],
          "name": "stdout"
        },
        {
          "output_type": "stream",
          "text": [
            "Running inference.\n"
          ],
          "name": "stderr"
        },
        {
          "output_type": "stream",
          "text": [
            "inference_transcription :  mo e ve ande e anlas astenla pisvanetre\n",
            "real_transcription : ze had nog een vergadering en was pas laat thuis van het werk\n",
            "Infer Wavefile:  /home/fakrul/Model_Mozilla_CommonDataSet/nl/clips/common_voice_nl_17702130.wav\n"
          ],
          "name": "stdout"
        },
        {
          "output_type": "stream",
          "text": [
            "Running inference.\n"
          ],
          "name": "stderr"
        },
        {
          "output_type": "stream",
          "text": [
            "inference_transcription : ikanttvogo posten govenanben\n",
            "real_transcription : ik had vroeger een postzegelverzameling\n",
            "Infer Wavefile:  /home/fakrul/Model_Mozilla_CommonDataSet/nl/clips/common_voice_nl_17694232.wav\n"
          ],
          "name": "stdout"
        },
        {
          "output_type": "stream",
          "text": [
            "Running inference.\n"
          ],
          "name": "stderr"
        },
        {
          "output_type": "stream",
          "text": [
            "inference_transcription :  dezes i agmena it den\n",
            "real_transcription : een bevel sluit je af met een uitroepteken\n",
            "Infer Wavefile:  /home/fakrul/Model_Mozilla_CommonDataSet/nl/clips/common_voice_nl_17732988.wav\n"
          ],
          "name": "stdout"
        },
        {
          "output_type": "stream",
          "text": [
            "Running inference.\n"
          ],
          "name": "stderr"
        },
        {
          "output_type": "stream",
          "text": [
            "inference_transcription : ze ade ade ba e andendehtkent\n",
            "real_transcription : ze gaat de fakkel doorgeven aan haar dochter\n",
            "Infer Wavefile:  /home/fakrul/Model_Mozilla_CommonDataSet/nl/clips/common_voice_nl_19607701.wav\n"
          ],
          "name": "stdout"
        },
        {
          "output_type": "stream",
          "text": [
            "Running inference.\n"
          ],
          "name": "stderr"
        },
        {
          "output_type": "stream",
          "text": [
            "inference_transcription :  as ba wo\n",
            "real_transcription : bestaat de senaat nog\n",
            "Infer Wavefile:  /home/fakrul/Model_Mozilla_CommonDataSet/nl/clips/common_voice_nl_19647375.wav\n"
          ],
          "name": "stdout"
        },
        {
          "output_type": "stream",
          "text": [
            "Running inference.\n"
          ],
          "name": "stderr"
        },
        {
          "output_type": "stream",
          "text": [
            "inference_transcription : s e daharte tseko\n",
            "real_transcription : zet een timer voor tien seconden\n",
            "Infer Wavefile:  /home/fakrul/Model_Mozilla_CommonDataSet/nl/clips/common_voice_nl_17694007.wav\n"
          ],
          "name": "stdout"
        },
        {
          "output_type": "stream",
          "text": [
            "Running inference.\n"
          ],
          "name": "stderr"
        },
        {
          "output_type": "stream",
          "text": [
            "inference_transcription : oonde kaale s venke\n",
            "real_transcription : een ronde kamer heeft geen hoeken\n",
            "Infer Wavefile:  /home/fakrul/Model_Mozilla_CommonDataSet/nl/clips/common_voice_nl_17735840.wav\n"
          ],
          "name": "stdout"
        },
        {
          "output_type": "stream",
          "text": [
            "Running inference.\n"
          ],
          "name": "stderr"
        },
        {
          "output_type": "stream",
          "text": [
            "inference_transcription : dets pel atn it velat\n",
            "real_transcription : het spel gaat niet vooruit\n",
            "Infer Wavefile:  /home/fakrul/Model_Mozilla_CommonDataSet/nl/clips/common_voice_nl_18990949.wav\n"
          ],
          "name": "stdout"
        },
        {
          "output_type": "stream",
          "text": [
            "Running inference.\n"
          ],
          "name": "stderr"
        },
        {
          "output_type": "stream",
          "text": [
            "inference_transcription : e asvenvel e eteszen lenste echtvekenmen \n",
            "real_transcription : er was een vuiltje achter zijn lens terecht gekomen\n",
            "Infer Wavefile:  /home/fakrul/Model_Mozilla_CommonDataSet/nl/clips/common_voice_nl_18991171.wav\n"
          ],
          "name": "stdout"
        },
        {
          "output_type": "stream",
          "text": [
            "Running inference.\n"
          ],
          "name": "stderr"
        },
        {
          "output_type": "stream",
          "text": [
            "inference_transcription : e este anen an nr va og ment e ben\n",
            "real_transcription : het is de m van minerva of mitsubishi\n",
            "Infer Wavefile:  /home/fakrul/Model_Mozilla_CommonDataSet/nl/clips/common_voice_nl_17695734.wav\n"
          ],
          "name": "stdout"
        },
        {
          "output_type": "stream",
          "text": [
            "Running inference.\n"
          ],
          "name": "stderr"
        },
        {
          "output_type": "stream",
          "text": [
            "inference_transcription : zij bl\n",
            "real_transcription : zei ze dat\n",
            "Infer Wavefile:  /home/fakrul/Model_Mozilla_CommonDataSet/nl/clips/common_voice_nl_17870736.wav\n"
          ],
          "name": "stdout"
        },
        {
          "output_type": "stream",
          "text": [
            "Running inference.\n"
          ],
          "name": "stderr"
        },
        {
          "output_type": "stream",
          "text": [
            "inference_transcription : de aketinmectetite atpo de erson\n",
            "real_transcription : de uitdrukking werd verkeerd gebruikt door de persoon\n",
            "Infer Wavefile:  /home/fakrul/Model_Mozilla_CommonDataSet/nl/clips/common_voice_nl_17886046.wav\n"
          ],
          "name": "stdout"
        },
        {
          "output_type": "stream",
          "text": [
            "Running inference.\n"
          ],
          "name": "stderr"
        },
        {
          "output_type": "stream",
          "text": [
            "inference_transcription : o el aka an anzoner ne peren\n",
            "real_transcription : hoe veel alcohol consumeer je per week\n",
            "Infer Wavefile:  /home/fakrul/Model_Mozilla_CommonDataSet/nl/clips/common_voice_nl_17925251.wav\n"
          ],
          "name": "stdout"
        },
        {
          "output_type": "stream",
          "text": [
            "Running inference.\n"
          ],
          "name": "stderr"
        },
        {
          "output_type": "stream",
          "text": [
            "inference_transcription : jsiketer e plan weberkvregtot it vandeneterten de\n",
            "real_transcription : isaac newton heeft belangrijk werk verricht op het gebied van de natuurkunde\n",
            "Infer Wavefile:  /home/fakrul/Model_Mozilla_CommonDataSet/nl/clips/common_voice_nl_18694976.wav\n"
          ],
          "name": "stdout"
        },
        {
          "output_type": "stream",
          "text": [
            "Running inference.\n"
          ],
          "name": "stderr"
        },
        {
          "output_type": "stream",
          "text": [
            "inference_transcription : os  e tet nde atstode isten\n",
            "real_transcription : zelfs een servet in je zak stoppen is stelen\n",
            "Infer Wavefile:  /home/fakrul/Model_Mozilla_CommonDataSet/nl/clips/common_voice_nl_18283224.wav\n"
          ],
          "name": "stdout"
        },
        {
          "output_type": "stream",
          "text": [
            "Running inference.\n"
          ],
          "name": "stderr"
        },
        {
          "output_type": "stream",
          "text": [
            "inference_transcription : sakeralln\n",
            "real_transcription : slaapwel\n",
            "Infer Wavefile:  /home/fakrul/Model_Mozilla_CommonDataSet/nl/clips/common_voice_nl_18487893.wav\n"
          ],
          "name": "stdout"
        },
        {
          "output_type": "stream",
          "text": [
            "Running inference.\n"
          ],
          "name": "stderr"
        },
        {
          "output_type": "stream",
          "text": [
            "inference_transcription : eetof er gone a wasze ban bren me enadan deren\n",
            "real_transcription : tijdens het hoofdprogramma was het dan de ene hit na de andere\n",
            "Infer Wavefile:  /home/fakrul/Model_Mozilla_CommonDataSet/nl/clips/common_voice_nl_17698926.wav\n"
          ],
          "name": "stdout"
        },
        {
          "output_type": "stream",
          "text": [
            "Running inference.\n"
          ],
          "name": "stderr"
        },
        {
          "output_type": "stream",
          "text": [
            "inference_transcription : hots dete patnat eger es misepan ketanban degrt\n",
            "real_transcription : hout dat je buiten laat liggen is initieel bruin maar verkleurt daarna naar grijs\n",
            "Infer Wavefile:  /home/fakrul/Model_Mozilla_CommonDataSet/nl/clips/common_voice_nl_19873577.wav\n"
          ],
          "name": "stdout"
        },
        {
          "output_type": "stream",
          "text": [
            "Running inference.\n"
          ],
          "name": "stderr"
        },
        {
          "output_type": "stream",
          "text": [
            "inference_transcription : ditewe heies en  bela eker berte es\n",
            "real_transcription : die trouwerij is een belangrijke gebeurtenis\n",
            "Infer Wavefile:  /home/fakrul/Model_Mozilla_CommonDataSet/nl/clips/common_voice_nl_17871846.wav\n"
          ],
          "name": "stdout"
        },
        {
          "output_type": "stream",
          "text": [
            "Running inference.\n"
          ],
          "name": "stderr"
        },
        {
          "output_type": "stream",
          "text": [
            "inference_transcription : de es stltet stestets\n",
            "real_transcription : dat was liefde op het eerste gezicht\n",
            "Infer Wavefile:  /home/fakrul/Model_Mozilla_CommonDataSet/nl/clips/common_voice_nl_18626316.wav\n"
          ],
          "name": "stdout"
        },
        {
          "output_type": "stream",
          "text": [
            "Running inference.\n"
          ],
          "name": "stderr"
        },
        {
          "output_type": "stream",
          "text": [
            "inference_transcription : etastoknadespoten ope zi\n",
            "real_transcription : het was zoeken naar een speld in een hooiberg\n",
            "Infer Wavefile:  /home/fakrul/Model_Mozilla_CommonDataSet/nl/clips/common_voice_nl_17701993.wav\n"
          ],
          "name": "stdout"
        },
        {
          "output_type": "stream",
          "text": [
            "Running inference.\n"
          ],
          "name": "stderr"
        },
        {
          "output_type": "stream",
          "text": [
            "inference_transcription : e hotokertote podenet be\n",
            "real_transcription : de houthakker kapt de boom om met een bijl\n",
            "Infer Wavefile:  /home/fakrul/Model_Mozilla_CommonDataSet/nl/clips/common_voice_nl_17960795.wav\n"
          ],
          "name": "stdout"
        },
        {
          "output_type": "stream",
          "text": [
            "Running inference.\n"
          ],
          "name": "stderr"
        },
        {
          "output_type": "stream",
          "text": [
            "inference_transcription : i ae doebaden ode bopenen\n",
            "real_transcription : ik ga de dorre bladeren van de boom knippen\n",
            "Infer Wavefile:  /home/fakrul/Model_Mozilla_CommonDataSet/nl/clips/common_voice_nl_17702931.wav\n"
          ],
          "name": "stdout"
        },
        {
          "output_type": "stream",
          "text": [
            "Running inference.\n"
          ],
          "name": "stderr"
        },
        {
          "output_type": "stream",
          "text": [
            "inference_transcription : at ossvageszcttot aretet votsto anhes\n",
            "real_transcription : het wordt vaak gezegd dat de huid het grootste orgaan is\n",
            "Infer Wavefile:  /home/fakrul/Model_Mozilla_CommonDataSet/nl/clips/common_voice_nl_17697846.wav\n"
          ],
          "name": "stdout"
        },
        {
          "output_type": "stream",
          "text": [
            "Running inference.\n"
          ],
          "name": "stderr"
        },
        {
          "output_type": "stream",
          "text": [
            "inference_transcription : jekan ge lnen e baala en akarvebe\n",
            "real_transcription : je kan geen woning bouwen in agrarisch gebied\n",
            "Infer Wavefile:  /home/fakrul/Model_Mozilla_CommonDataSet/nl/clips/common_voice_nl_17696424.wav\n"
          ],
          "name": "stdout"
        },
        {
          "output_type": "stream",
          "text": [
            "Running inference.\n"
          ],
          "name": "stderr"
        },
        {
          "output_type": "stream",
          "text": [
            "inference_transcription : topten it en e en bot e ton\n",
            "real_transcription : de dokter heeft hem hersendood verklaard\n",
            "Infer Wavefile:  /home/fakrul/Model_Mozilla_CommonDataSet/nl/clips/common_voice_nl_18274115.wav\n"
          ],
          "name": "stdout"
        },
        {
          "output_type": "stream",
          "text": [
            "Running inference.\n"
          ],
          "name": "stderr"
        },
        {
          "output_type": "stream",
          "text": [
            "inference_transcription : oga hir ig most vel  ent delenbo gespens\n",
            "real_transcription : vroeger heb ik nog veel met de lego gespeeld\n",
            "Infer Wavefile:  /home/fakrul/Model_Mozilla_CommonDataSet/nl/clips/common_voice_nl_18998329.wav\n"
          ],
          "name": "stdout"
        },
        {
          "output_type": "stream",
          "text": [
            "Running inference.\n"
          ],
          "name": "stderr"
        },
        {
          "output_type": "stream",
          "text": [
            "inference_transcription : ze ere en orgenin zatidon paoge pan gomert\n",
            "real_transcription : ze hebben hun organisatie totaal getransformeerd\n",
            "Infer Wavefile:  /home/fakrul/Model_Mozilla_CommonDataSet/nl/clips/common_voice_nl_18977602.wav\n"
          ],
          "name": "stdout"
        },
        {
          "output_type": "stream",
          "text": [
            "Running inference.\n"
          ],
          "name": "stderr"
        },
        {
          "output_type": "stream",
          "text": [
            "inference_transcription : e mor egotts oneskt be\n",
            "real_transcription : er mag nog wat nootmuskaat bij\n",
            "Infer Wavefile:  /home/fakrul/Model_Mozilla_CommonDataSet/nl/clips/common_voice_nl_17701293.wav\n"
          ],
          "name": "stdout"
        },
        {
          "output_type": "stream",
          "text": [
            "Running inference.\n"
          ],
          "name": "stderr"
        },
        {
          "output_type": "stream",
          "text": [
            "inference_transcription : eenmen pan nat e e etennp aakeominkandone pond o\n",
            "real_transcription : mijn tandarts heeft me gezegd dat ik vaker mijn tanden moet poetsen\n",
            "Infer Wavefile:  /home/fakrul/Model_Mozilla_CommonDataSet/nl/clips/common_voice_nl_17699876.wav\n"
          ],
          "name": "stdout"
        },
        {
          "output_type": "stream",
          "text": [
            "Running inference.\n"
          ],
          "name": "stderr"
        },
        {
          "output_type": "stream",
          "text": [
            "inference_transcription : eesen o palss ot glandetenkawe\n",
            "real_transcription : hij heeft een hoop posters opgehangen op zijn kamer\n",
            "Infer Wavefile:  /home/fakrul/Model_Mozilla_CommonDataSet/nl/clips/common_voice_nl_17695315.wav\n"
          ],
          "name": "stdout"
        },
        {
          "output_type": "stream",
          "text": [
            "Running inference.\n"
          ],
          "name": "stderr"
        },
        {
          "output_type": "stream",
          "text": [
            "inference_transcription : hej ade peketiwotobsene wa detole e\n",
            "real_transcription : hij had het pakketje verstopt in de mannentoiletten\n",
            "Infer Wavefile:  /home/fakrul/Model_Mozilla_CommonDataSet/nl/clips/common_voice_nl_17709785.wav\n"
          ],
          "name": "stdout"
        },
        {
          "output_type": "stream",
          "text": [
            "Running inference.\n"
          ],
          "name": "stderr"
        },
        {
          "output_type": "stream",
          "text": [
            "inference_transcription : eas last wean ansalnme e mij isvesti val\n",
            "real_transcription : lucas lars en milan gaan samen met mij naar het festival\n",
            "Infer Wavefile:  /home/fakrul/Model_Mozilla_CommonDataSet/nl/clips/common_voice_nl_18897338.wav\n"
          ],
          "name": "stdout"
        },
        {
          "output_type": "stream",
          "text": [
            "Running inference.\n"
          ],
          "name": "stderr"
        },
        {
          "output_type": "stream",
          "text": [
            "inference_transcription : on voveseren e ets\n",
            "real_transcription : hoeveel versnellingen heeft jouw fiets\n",
            "Infer Wavefile:  /home/fakrul/Model_Mozilla_CommonDataSet/nl/clips/common_voice_nl_19131790.wav\n"
          ],
          "name": "stdout"
        },
        {
          "output_type": "stream",
          "text": [
            "Running inference.\n"
          ],
          "name": "stderr"
        },
        {
          "output_type": "stream",
          "text": [
            "inference_transcription : imen beststken woezeroos en detenn\n",
            "real_transcription : niemand durft te spreken over de olifant in de kamer\n",
            "Infer Wavefile:  /home/fakrul/Model_Mozilla_CommonDataSet/nl/clips/common_voice_nl_17698673.wav\n"
          ],
          "name": "stdout"
        },
        {
          "output_type": "stream",
          "text": [
            "Running inference.\n"
          ],
          "name": "stderr"
        },
        {
          "output_type": "stream",
          "text": [
            "inference_transcription : haszen mete et  mat arkate inn entor oren\n",
            "real_transcription : als je met de fiets naar het werk gaat krijg je een fietsvergoeding\n",
            "Infer Wavefile:  /home/fakrul/Model_Mozilla_CommonDataSet/nl/clips/common_voice_nl_18867615.wav\n"
          ],
          "name": "stdout"
        },
        {
          "output_type": "stream",
          "text": [
            "Running inference.\n"
          ],
          "name": "stderr"
        },
        {
          "output_type": "stream",
          "text": [
            "inference_transcription : dekadookedekisenkonn ajn r i oleten mepen aj\n",
            "real_transcription : de auto was elektrisch en kon bijna vijfhonderd kilometer rijden\n",
            "Infer Wavefile:  /home/fakrul/Model_Mozilla_CommonDataSet/nl/clips/common_voice_nl_18487891.wav\n"
          ],
          "name": "stdout"
        },
        {
          "output_type": "stream",
          "text": [
            "Running inference.\n"
          ],
          "name": "stderr"
        },
        {
          "output_type": "stream",
          "text": [
            "inference_transcription : eggen tralatebivekove van den dten\n",
            "real_transcription : ik zal geen traan laten bij het verkopen van mijn auto\n",
            "Infer Wavefile:  /home/fakrul/Model_Mozilla_CommonDataSet/nl/clips/common_voice_nl_17718051.wav\n"
          ],
          "name": "stdout"
        },
        {
          "output_type": "stream",
          "text": [
            "Running inference.\n"
          ],
          "name": "stderr"
        },
        {
          "output_type": "stream",
          "text": [
            "inference_transcription : het is madeggrisenderg i\n",
            "real_transcription : het is maar een griezelig huis\n",
            "Infer Wavefile:  /home/fakrul/Model_Mozilla_CommonDataSet/nl/clips/common_voice_nl_18211969.wav\n"
          ],
          "name": "stdout"
        },
        {
          "output_type": "stream",
          "text": [
            "Running inference.\n"
          ],
          "name": "stderr"
        },
        {
          "output_type": "stream",
          "text": [
            "inference_transcription : ike nen ande odan ben\n",
            "real_transcription : ik heb mijn handen vol aan hem\n",
            "Infer Wavefile:  /home/fakrul/Model_Mozilla_CommonDataSet/nl/clips/common_voice_nl_19620721.wav\n"
          ],
          "name": "stdout"
        },
        {
          "output_type": "stream",
          "text": [
            "Running inference.\n"
          ],
          "name": "stderr"
        },
        {
          "output_type": "stream",
          "text": [
            "inference_transcription :  espred an k\n",
            "real_transcription : ze ijsbeerde door het gangpad\n",
            "Infer Wavefile:  /home/fakrul/Model_Mozilla_CommonDataSet/nl/clips/common_voice_nl_19283653.wav\n"
          ],
          "name": "stdout"
        },
        {
          "output_type": "stream",
          "text": [
            "Running inference.\n"
          ],
          "name": "stderr"
        },
        {
          "output_type": "stream",
          "text": [
            "inference_transcription : e vat an ij ove a en verstorde osvesc\n",
            "real_transcription : vaak kwam hij over als een verstrooide professor\n",
            "Infer Wavefile:  /home/fakrul/Model_Mozilla_CommonDataSet/nl/clips/common_voice_nl_17703853.wav\n"
          ],
          "name": "stdout"
        },
        {
          "output_type": "stream",
          "text": [
            "Running inference.\n"
          ],
          "name": "stderr"
        },
        {
          "output_type": "stream",
          "text": [
            "inference_transcription : tnseen  aa votesesaben dovet bat\n",
            "real_transcription : toen ze jong waren hadden ze samen een boomhut gebouwd\n",
            "Infer Wavefile:  /home/fakrul/Model_Mozilla_CommonDataSet/nl/clips/common_voice_nl_17944810.wav\n"
          ],
          "name": "stdout"
        },
        {
          "output_type": "stream",
          "text": [
            "Running inference.\n"
          ],
          "name": "stderr"
        },
        {
          "output_type": "stream",
          "text": [
            "inference_transcription : ijn malwenen malderen\n",
            "real_transcription : mijn man werkt in een bouwbedrijf\n",
            "Infer Wavefile:  /home/fakrul/Model_Mozilla_CommonDataSet/nl/clips/common_voice_nl_17694547.wav\n"
          ],
          "name": "stdout"
        },
        {
          "output_type": "stream",
          "text": [
            "Running inference.\n"
          ],
          "name": "stderr"
        },
        {
          "output_type": "stream",
          "text": [
            "inference_transcription : e enlain oeee pene de baa nen\n",
            "real_transcription : de mensen waar ik voor werk willen je op tijdelijk basis inhuren\n",
            "Infer Wavefile:  /home/fakrul/Model_Mozilla_CommonDataSet/nl/clips/common_voice_nl_18931126.wav\n"
          ],
          "name": "stdout"
        },
        {
          "output_type": "stream",
          "text": [
            "Running inference.\n"
          ],
          "name": "stderr"
        },
        {
          "output_type": "stream",
          "text": [
            "inference_transcription : et ko et venon\n",
            "real_transcription : een cirkel heeft geen hoeken\n",
            "Infer Wavefile:  /home/fakrul/Model_Mozilla_CommonDataSet/nl/clips/common_voice_nl_17694003.wav\n"
          ],
          "name": "stdout"
        },
        {
          "output_type": "stream",
          "text": [
            "Running inference.\n"
          ],
          "name": "stderr"
        },
        {
          "output_type": "stream",
          "text": [
            "inference_transcription : mn zec pant h mntvererer nat\n",
            "real_transcription : men zegt dat geld niet gelukkig maakt\n",
            "Infer Wavefile:  /home/fakrul/Model_Mozilla_CommonDataSet/nl/clips/common_voice_nl_17871717.wav\n"
          ],
          "name": "stdout"
        },
        {
          "output_type": "stream",
          "text": [
            "Running inference.\n"
          ],
          "name": "stderr"
        },
        {
          "output_type": "stream",
          "text": [
            "inference_transcription : ote en doden ba\n",
            "real_transcription : wat is een totempaal\n",
            "Infer Wavefile:  /home/fakrul/Model_Mozilla_CommonDataSet/nl/clips/common_voice_nl_18867602.wav\n"
          ],
          "name": "stdout"
        },
        {
          "output_type": "stream",
          "text": [
            "Running inference.\n"
          ],
          "name": "stderr"
        },
        {
          "output_type": "stream",
          "text": [
            "inference_transcription : etete ge val k vaenmo ole an\n",
            "real_transcription : het is de v van volkswagen of volvo\n",
            "Infer Wavefile:  /home/fakrul/Model_Mozilla_CommonDataSet/nl/clips/common_voice_nl_18487909.wav\n"
          ],
          "name": "stdout"
        },
        {
          "output_type": "stream",
          "text": [
            "Running inference.\n"
          ],
          "name": "stderr"
        },
        {
          "output_type": "stream",
          "text": [
            "inference_transcription : eet at o asze\n",
            "real_transcription : kan jij het raadsel oplossen\n",
            "Infer Wavefile:  /home/fakrul/Model_Mozilla_CommonDataSet/nl/clips/common_voice_nl_17716794.wav\n"
          ],
          "name": "stdout"
        },
        {
          "output_type": "stream",
          "text": [
            "Running inference.\n"
          ],
          "name": "stderr"
        },
        {
          "output_type": "stream",
          "text": [
            "inference_transcription : ezen dek nite des i banzot ate on te ze erinzotate\n",
            "real_transcription : er zijn technieken beschikbaar om zout water om te zetten in zoet water\n",
            "Infer Wavefile:  /home/fakrul/Model_Mozilla_CommonDataSet/nl/clips/common_voice_nl_19349721.wav\n"
          ],
          "name": "stdout"
        },
        {
          "output_type": "stream",
          "text": [
            "Running inference.\n"
          ],
          "name": "stderr"
        },
        {
          "output_type": "stream",
          "text": [
            "inference_transcription :  zo istider egstenteirse\n",
            "real_transcription : de zon is niet de enige ster in het universum\n",
            "Infer Wavefile:  /home/fakrul/Model_Mozilla_CommonDataSet/nl/clips/common_voice_nl_18867608.wav\n"
          ],
          "name": "stdout"
        },
        {
          "output_type": "stream",
          "text": [
            "Running inference.\n"
          ],
          "name": "stderr"
        },
        {
          "output_type": "stream",
          "text": [
            "inference_transcription : vo maj bure ocin\n",
            "real_transcription : voor mij een burger of chinees\n"
          ],
          "name": "stdout"
        }
      ]
    },
    {
      "cell_type": "code",
      "metadata": {
        "id": "VBsh7aJT1cyg",
        "outputId": "d97e934e-e6c0-491b-b6c6-06a94d7b4765"
      },
      "source": [
        "print('testList: ', testList)"
      ],
      "execution_count": null,
      "outputs": [
        {
          "output_type": "stream",
          "text": [
            "testList:  [37, 32, 43, 20, 11, 45, 34, 28, 36, 54, 34, 45, 39, 49, 33, 29, 24, 61, 31, 47, 62, 39, 52, 30, 51, 59, 48, 23, 21, 23, 72, 20, 25, 22, 41, 42, 39, 41, 41, 58, 63, 25, 66, 35, 40, 46, 23, 27, 28, 78, 18, 23, 89, 29, 30, 19, 21, 44, 58, 27, 50, 53, 57, 32, 61, 26, 28, 30, 54, 64, 53, 30, 79, 30, 29, 84, 53, 29, 36, 32, 25, 53, 40, 28, 76, 31, 19, 47, 53, 30, 27, 56, 35, 33, 43, 57, 135, 48, 38, 24, 51, 67, 64, 40, 55, 43, 54, 44, 36, 42, 38, 51, 37, 20, 34, 42, 44, 46, 107, 30, 58, 26, 21, 53, 68, 11, 41, 20, 45, 34, 45, 41, 31, 37, 18, 41, 33, 18, 33, 56, 34, 40, 22, 32, 66, 31, 38, 30, 33, 55, 37, 63, 29, 54, 47, 27, 33, 49, 73, 22, 25, 45, 49, 20, 41, 75, 24, 47, 27, 21, 23, 33, 38, 38, 25, 23, 29, 57, 28, 22, 34, 35, 35, 35, 38, 20, 21, 29, 43, 43, 87, 32, 78, 22, 25, 52, 42, 27, 50, 36, 37, 14, 65, 66, 31, 32, 16, 40, 41, 43, 36, 83, 18, 42, 31, 43, 41, 57, 32, 36, 59, 37, 63, 47, 41, 46, 74, 55, 30, 33, 36, 38, 30, 97, 103, 45, 24, 43, 28, 37, 36, 101, 76, 30, 67, 48, 63, 48, 116, 47, 41, 35, 69, 29, 24, 58, 43, 45, 30, 53, 37, 39, 25, 23, 44, 36, 39, 15, 36, 20, 14, 40, 49, 57, 34, 40, 36, 19, 30, 31, 20, 48, 34, 8, 49, 33, 72, 40, 7, 57, 74, 37, 32, 43, 39, 39, 54, 42, 39, 39, 41, 27, 64, 50, 44, 51, 36, 49, 60, 58, 54, 19, 28, 28, 48, 49, 30, 64, 27, 35, 18, 34, 27, 63, 41, 27]\n"
          ],
          "name": "stdout"
        }
      ]
    },
    {
      "cell_type": "code",
      "metadata": {
        "id": "MLMsaqsG1cyg",
        "outputId": "ceaabfc2-c6b3-4f84-cf73-ddd966dc84af"
      },
      "source": [
        "print('inferencetime: ', inferencetime)"
      ],
      "execution_count": null,
      "outputs": [
        {
          "output_type": "stream",
          "text": [
            "inferencetime:  [2.813, 1.225, 2.556, 1.23, 1.0, 2.164, 1.711, 1.422, 2.171, 1.915, 1.723, 2.069, 1.614, 2.233, 1.512, 1.641, 1.774, 2.438, 1.401, 1.91, 2.513, 1.984, 2.554, 1.068, 2.874, 1.906, 2.696, 1.682, 1.62, 1.557, 2.311, 1.189, 1.538, 1.854, 2.256, 2.159, 1.453, 1.684, 1.965, 1.918, 1.841, 2.067, 3.082, 1.835, 1.589, 1.784, 1.647, 2.325, 1.416, 4.371, 1.974, 2.619, 3.246, 1.64, 2.091, 1.063, 1.062, 1.858, 2.494, 1.433, 2.212, 1.497, 2.19, 1.15, 2.352, 1.979, 1.874, 1.577, 1.494, 2.045, 2.12, 1.867, 2.292, 1.382, 1.302, 2.948, 1.903, 1.555, 2.04, 2.367, 1.422, 1.974, 1.639, 1.508, 3.151, 1.849, 1.386, 1.675, 2.87, 1.363, 1.507, 2.469, 1.541, 1.494, 2.105, 3.01, 3.861, 2.666, 1.692, 1.465, 2.459, 2.95, 2.504, 2.09, 2.23, 1.663, 1.95, 2.041, 3.099, 3.362, 1.899, 1.692, 2.081, 1.22, 1.515, 1.662, 1.705, 1.533, 3.335, 1.38, 2.051, 1.949, 0.847, 1.733, 2.984, 1.203, 1.854, 1.473, 2.409, 1.453, 1.478, 2.562, 1.496, 1.861, 1.534, 2.652, 1.588, 1.102, 2.261, 2.37, 1.842, 2.772, 1.726, 1.554, 2.362, 2.412, 1.685, 1.905, 1.321, 2.509, 1.424, 2.161, 1.485, 2.483, 2.372, 0.994, 1.629, 2.211, 2.41, 1.579, 1.636, 2.226, 1.671, 1.37, 1.503, 2.836, 1.32, 2.083, 1.076, 1.368, 1.066, 1.223, 1.974, 1.846, 1.016, 0.989, 1.523, 2.674, 1.215, 1.717, 1.225, 1.14, 1.582, 1.347, 1.541, 1.732, 1.361, 1.287, 1.654, 1.884, 2.37, 1.672, 2.045, 1.48, 1.126, 1.523, 1.757, 1.254, 3.577, 1.592, 1.911, 1.57, 2.002, 1.746, 1.423, 1.883, 1.335, 2.556, 1.877, 1.509, 1.739, 2.209, 1.501, 1.967, 1.25, 1.442, 2.21, 2.438, 1.784, 1.948, 2.6, 1.867, 2.849, 1.825, 1.244, 2.018, 2.898, 2.439, 1.437, 1.365, 1.458, 1.911, 2.041, 4.295, 3.602, 1.759, 1.437, 2.003, 2.333, 2.411, 2.145, 4.421, 2.139, 2.219, 3.028, 1.612, 2.224, 2.305, 3.865, 2.173, 1.593, 2.049, 2.546, 1.492, 1.159, 2.074, 1.573, 2.03, 1.561, 2.533, 1.203, 4.313, 1.54, 1.193, 1.701, 2.189, 1.292, 1.062, 2.271, 1.413, 0.885, 2.164, 2.539, 2.153, 1.506, 1.343, 1.221, 1.047, 1.553, 1.431, 1.411, 2.685, 2.463, 0.733, 2.114, 1.777, 2.859, 2.602, 1.376, 2.18, 2.128, 2.069, 1.514, 1.922, 1.495, 1.685, 1.665, 2.303, 2.163, 3.129, 2.175, 1.904, 3.654, 2.17, 1.806, 2.364, 1.447, 2.379, 1.982, 2.682, 2.085, 1.247, 1.21, 1.18, 2.206, 2.004, 1.531, 3.288, 2.116, 1.705, 1.008, 2.192, 1.485, 2.248, 1.994, 1.869]\n"
          ],
          "name": "stdout"
        }
      ]
    },
    {
      "cell_type": "code",
      "metadata": {
        "id": "s1dBrTb_1cyg",
        "outputId": "cece3df0-01b6-43d2-9b05-49cb6a3b2503"
      },
      "source": [
        "print('audiolength: ', audiolength)"
      ],
      "execution_count": null,
      "outputs": [
        {
          "output_type": "stream",
          "text": [
            "audiolength:  [3.48, 2.88, 5.736, 2.4, 1.8, 4.32, 3.36, 2.904, 4.32, 3.792, 3.432, 4.08, 3.192, 4.56, 2.952, 3.312, 3.696, 4.896, 2.76, 3.84, 4.872, 3.96, 5.088, 2.16, 5.712, 3.792, 5.4, 3.36, 3.24, 3.144, 4.44, 2.352, 3.024, 3.696, 4.152, 4.128, 2.712, 3.288, 3.84, 3.744, 3.552, 4.104, 5.976, 3.552, 3.072, 3.48, 3.24, 4.512, 2.88, 8.76, 3.648, 4.68, 6.888, 3.576, 4.608, 2.4, 2.352, 4.08, 5.712, 3.12, 4.824, 3.312, 5.04, 2.64, 5.016, 4.32, 4.152, 3.48, 3.288, 4.512, 4.632, 4.2, 5.088, 3.0, 2.856, 5.88, 3.768, 3.072, 3.792, 4.536, 2.88, 3.84, 3.216, 3.024, 6.336, 3.648, 2.76, 3.24, 5.736, 2.76, 2.928, 4.944, 3.072, 2.952, 4.104, 5.952, 7.536, 5.496, 3.36, 2.952, 4.824, 5.904, 5.064, 4.2, 4.44, 3.12, 3.816, 3.96, 6.144, 6.24, 3.648, 3.216, 4.104, 2.4, 3.0, 3.216, 3.36, 3.0, 6.552, 2.76, 4.056, 3.84, 1.728, 3.408, 5.76, 2.376, 3.672, 3.12, 4.752, 2.88, 2.952, 5.208, 2.976, 3.72, 3.072, 5.328, 3.192, 2.232, 4.56, 4.68, 3.648, 5.472, 3.552, 3.0, 4.68, 4.728, 3.408, 3.456, 3.0, 5.016, 3.24, 4.752, 3.264, 5.496, 5.28, 2.28, 3.6, 4.872, 5.088, 3.576, 3.336, 4.56, 3.48, 2.976, 3.36, 6.192, 2.904, 4.56, 2.4, 3.0, 2.352, 2.664, 4.368, 4.128, 2.232, 2.184, 3.48, 5.952, 2.616, 3.768, 2.664, 2.64, 3.672, 3.144, 3.432, 3.816, 2.808, 2.88, 3.6, 4.032, 5.232, 3.792, 4.536, 3.072, 2.568, 3.432, 3.888, 2.76, 7.92, 3.504, 4.416, 3.576, 4.368, 3.792, 3.168, 4.176, 3.168, 5.592, 4.272, 3.336, 3.816, 4.848, 3.216, 4.32, 2.76, 3.192, 4.92, 5.424, 3.84, 3.984, 5.568, 4.272, 6.36, 4.032, 2.736, 4.44, 5.736, 5.4, 2.856, 3.0, 3.36, 4.272, 4.272, 8.52, 7.08, 3.6, 2.88, 4.08, 4.632, 4.776, 4.272, 8.88, 4.248, 4.392, 5.952, 3.192, 4.416, 4.704, 7.632, 4.272, 3.192, 4.056, 5.04, 2.952, 2.304, 4.152, 3.168, 4.032, 3.192, 5.16, 2.4, 8.112, 2.88, 2.424, 3.408, 4.2, 2.568, 2.04, 4.44, 2.832, 1.752, 4.32, 4.68, 4.272, 3.432, 3.168, 2.568, 2.184, 2.928, 2.592, 2.76, 5.28, 4.872, 1.44, 4.32, 3.6, 5.568, 5.184, 2.76, 4.32, 4.2, 4.128, 3.072, 3.84, 3.0, 3.432, 3.24, 4.56, 4.272, 6.12, 4.32, 3.84, 7.2, 4.272, 3.6, 4.68, 2.88, 4.68, 3.912, 5.352, 4.128, 2.472, 2.472, 2.28, 4.344, 3.912, 3.192, 6.552, 4.08, 3.432, 2.04, 4.392, 2.928, 4.464, 4.056, 3.72]\n"
          ],
          "name": "stdout"
        }
      ]
    },
    {
      "cell_type": "code",
      "metadata": {
        "id": "6cBQR6-R1cyg",
        "outputId": "bc694e89-29a1-4930-d2e4-56ec942ffc36"
      },
      "source": [
        "analytics = pd.DataFrame(list(zip(testList, inferencetime, audiolength)), \n",
        "               columns =['testList', 'inferencetime', 'audiolength']) \n",
        "analytics"
      ],
      "execution_count": null,
      "outputs": [
        {
          "output_type": "execute_result",
          "data": {
            "text/html": [
              "<div>\n",
              "<style scoped>\n",
              "    .dataframe tbody tr th:only-of-type {\n",
              "        vertical-align: middle;\n",
              "    }\n",
              "\n",
              "    .dataframe tbody tr th {\n",
              "        vertical-align: top;\n",
              "    }\n",
              "\n",
              "    .dataframe thead th {\n",
              "        text-align: right;\n",
              "    }\n",
              "</style>\n",
              "<table border=\"1\" class=\"dataframe\">\n",
              "  <thead>\n",
              "    <tr style=\"text-align: right;\">\n",
              "      <th></th>\n",
              "      <th>testList</th>\n",
              "      <th>inferencetime</th>\n",
              "      <th>audiolength</th>\n",
              "    </tr>\n",
              "  </thead>\n",
              "  <tbody>\n",
              "    <tr>\n",
              "      <th>0</th>\n",
              "      <td>37</td>\n",
              "      <td>2.813</td>\n",
              "      <td>3.480</td>\n",
              "    </tr>\n",
              "    <tr>\n",
              "      <th>1</th>\n",
              "      <td>32</td>\n",
              "      <td>1.225</td>\n",
              "      <td>2.880</td>\n",
              "    </tr>\n",
              "    <tr>\n",
              "      <th>2</th>\n",
              "      <td>43</td>\n",
              "      <td>2.556</td>\n",
              "      <td>5.736</td>\n",
              "    </tr>\n",
              "    <tr>\n",
              "      <th>3</th>\n",
              "      <td>20</td>\n",
              "      <td>1.230</td>\n",
              "      <td>2.400</td>\n",
              "    </tr>\n",
              "    <tr>\n",
              "      <th>4</th>\n",
              "      <td>11</td>\n",
              "      <td>1.000</td>\n",
              "      <td>1.800</td>\n",
              "    </tr>\n",
              "    <tr>\n",
              "      <th>...</th>\n",
              "      <td>...</td>\n",
              "      <td>...</td>\n",
              "      <td>...</td>\n",
              "    </tr>\n",
              "    <tr>\n",
              "      <th>321</th>\n",
              "      <td>34</td>\n",
              "      <td>2.192</td>\n",
              "      <td>4.392</td>\n",
              "    </tr>\n",
              "    <tr>\n",
              "      <th>322</th>\n",
              "      <td>27</td>\n",
              "      <td>1.485</td>\n",
              "      <td>2.928</td>\n",
              "    </tr>\n",
              "    <tr>\n",
              "      <th>323</th>\n",
              "      <td>63</td>\n",
              "      <td>2.248</td>\n",
              "      <td>4.464</td>\n",
              "    </tr>\n",
              "    <tr>\n",
              "      <th>324</th>\n",
              "      <td>41</td>\n",
              "      <td>1.994</td>\n",
              "      <td>4.056</td>\n",
              "    </tr>\n",
              "    <tr>\n",
              "      <th>325</th>\n",
              "      <td>27</td>\n",
              "      <td>1.869</td>\n",
              "      <td>3.720</td>\n",
              "    </tr>\n",
              "  </tbody>\n",
              "</table>\n",
              "<p>326 rows × 3 columns</p>\n",
              "</div>"
            ],
            "text/plain": [
              "     testList  inferencetime  audiolength\n",
              "0          37          2.813        3.480\n",
              "1          32          1.225        2.880\n",
              "2          43          2.556        5.736\n",
              "3          20          1.230        2.400\n",
              "4          11          1.000        1.800\n",
              "..        ...            ...          ...\n",
              "321        34          2.192        4.392\n",
              "322        27          1.485        2.928\n",
              "323        63          2.248        4.464\n",
              "324        41          1.994        4.056\n",
              "325        27          1.869        3.720\n",
              "\n",
              "[326 rows x 3 columns]"
            ]
          },
          "metadata": {
            "tags": []
          },
          "execution_count": 24
        }
      ]
    },
    {
      "cell_type": "code",
      "metadata": {
        "id": "2ElQ2A_D1cyh"
      },
      "source": [
        "from statistics import mean \n",
        "from scipy.stats.mstats import gmean \n",
        "import collections\n",
        "import numpy as np\n",
        "import pandas as pd\n",
        "import seaborn as sns\n",
        "import matplotlib.pyplot as plt\n",
        "from scipy import stats\n",
        "import pandas as pd "
      ],
      "execution_count": null,
      "outputs": []
    },
    {
      "cell_type": "code",
      "metadata": {
        "id": "1EPEEoMn1cyh",
        "outputId": "b3325289-ddfa-46fd-9883-3236aa87007f"
      },
      "source": [
        "test_mean=round(mean(testList),2)\n",
        "print(test_mean)\n",
        "#print(res)\n",
        "test_geomean = round (gmean(testList),2)\n",
        "print(test_geomean)"
      ],
      "execution_count": null,
      "outputs": [
        {
          "output_type": "stream",
          "text": [
            "41.33\n",
            "37.84\n"
          ],
          "name": "stdout"
        }
      ]
    },
    {
      "cell_type": "code",
      "metadata": {
        "id": "TEtEsc0A1cyh",
        "outputId": "8e5d0d87-d893-442d-947a-682ee008a57a"
      },
      "source": [
        "sns.distplot(analytics['testList'], color=\"g\", kde_kws={\"shade\": True}, kde=True, hist_kws={'edgecolor':'black'})\n",
        "plt.title(\"Model-\"+str(model_code)+\"|Accuracy-\"+str(100-test_geomean)+\"%\")\n",
        "plt.xlabel('Hamming Distance')\n",
        "plt.ylabel('Frequency in %')\n",
        "plt.show()"
      ],
      "execution_count": null,
      "outputs": [
        {
          "output_type": "display_data",
          "data": {
            "image/png": "[encoded data removed]",
            "text/plain": [
              "<Figure size 432x288 with 1 Axes>"
            ]
          },
          "metadata": {
            "tags": [],
            "needs_background": "light"
          }
        }
      ]
    },
    {
      "cell_type": "code",
      "metadata": {
        "id": "rVGXYDNb1cyh",
        "outputId": "74c9d1ae-1610-4f7e-d518-e00a2833a90d"
      },
      "source": [
        "sns.distplot(inferencetime, kde=True, \n",
        "             color = 'b',\n",
        "             hist_kws={'edgecolor':'black'}, kde_kws={\"shade\": True})\n",
        "# Add labels\n",
        "#plt.title('Model-FineTuneALL_10_4_e10|ExecutionTime')\n",
        "plt.title(\"Model-\"+str(model_code)+\"|ExecutionTime\")\n",
        "plt.xlabel('Seconds')\n",
        "plt.ylabel('Frequency in %')"
      ],
      "execution_count": null,
      "outputs": [
        {
          "output_type": "execute_result",
          "data": {
            "text/plain": [
              "Text(0, 0.5, 'Frequency in %')"
            ]
          },
          "metadata": {
            "tags": []
          },
          "execution_count": 28
        },
        {
          "output_type": "display_data",
          "data": {
            "image/png": "[encoded data removed]",
            "text/plain": [
              "<Figure size 432x288 with 1 Axes>"
            ]
          },
          "metadata": {
            "tags": [],
            "needs_background": "light"
          }
        }
      ]
    },
    {
      "cell_type": "code",
      "metadata": {
        "id": "EQdVvKE51cyi",
        "outputId": "0bbb58cd-a8c4-493b-8068-6f97eeca9cde"
      },
      "source": [
        "sns.distplot(audiolength, hist=True, kde=False, fit=stats.gamma,\n",
        "             color = 'red',\n",
        "             hist_kws={'edgecolor':'black'})\n",
        "# Add labels\n",
        "#plt.title('Model-FineTuneALL_10_4_e10|SpeechLength')\n",
        "plt.title(\"Model-\"+str(model_code)+\"|SpeechLength\")\n",
        "plt.xlabel('Seconds')\n",
        "plt.ylabel('Frequency in %')\n"
      ],
      "execution_count": null,
      "outputs": [
        {
          "output_type": "execute_result",
          "data": {
            "text/plain": [
              "Text(0, 0.5, 'Frequency in %')"
            ]
          },
          "metadata": {
            "tags": []
          },
          "execution_count": 29
        },
        {
          "output_type": "display_data",
          "data": {
            "image/png": "[encoded data removed]",
            "text/plain": [
              "<Figure size 432x288 with 1 Axes>"
            ]
          },
          "metadata": {
            "tags": [],
            "needs_background": "light"
          }
        }
      ]
    },
    {
      "cell_type": "code",
      "metadata": {
        "id": "amtyjXIV1cyi"
      },
      "source": [
        ""
      ],
      "execution_count": null,
      "outputs": []
    }
  ]
}