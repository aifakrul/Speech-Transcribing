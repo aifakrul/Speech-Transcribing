{
  "nbformat": 4,
  "nbformat_minor": 0,
  "metadata": {
    "kernelspec": {
      "display_name": "Python 3",
      "language": "python",
      "name": "python3"
    },
    "language_info": {
      "codemirror_mode": {
        "name": "ipython",
        "version": 3
      },
      "file_extension": ".py",
      "mimetype": "text/x-python",
      "name": "python",
      "nbconvert_exporter": "python",
      "pygments_lexer": "ipython3",
      "version": "3.7.7"
    },
    "colab": {
      "name": "DeepSpeechDataChunking_validated.ipynb",
      "provenance": [],
      "collapsed_sections": []
    }
  },
  "cells": [
    {
      "cell_type": "code",
      "metadata": {
        "id": "obOOTztOC4Il"
      },
      "source": [
        ""
      ],
      "execution_count": null,
      "outputs": []
    },
    {
      "cell_type": "code",
      "metadata": {
        "id": "TkgGpQOhC5Pl",
        "colab": {
          "base_uri": "https://localhost:8080/",
          "height": 122
        },
        "outputId": "7fbfc1d3-b09b-4a84-93bf-e055e87dad70"
      },
      "source": [
        "from google.colab import drive\n",
        "drive.mount('/content/drive')"
      ],
      "execution_count": null,
      "outputs": [
        {
          "output_type": "stream",
          "text": [
            "Go to this URL in a browser: https://accounts.google.com/o/oauth2/auth?client_id=947318989803-6bn6qk8qdgf4n4g3pfee6491hc0brc4i.apps.googleusercontent.com&redirect_uri=urn%3aietf%3awg%3aoauth%3a2.0%3aoob&response_type=code&scope=email%20https%3a%2f%2fwww.googleapis.com%2fauth%2fdocs.test%20https%3a%2f%2fwww.googleapis.com%2fauth%2fdrive%20https%3a%2f%2fwww.googleapis.com%2fauth%2fdrive.photos.readonly%20https%3a%2f%2fwww.googleapis.com%2fauth%2fpeopleapi.readonly\n",
            "\n",
            "Enter your authorization code:\n",
            "··········\n",
            "Mounted at /content/drive\n"
          ],
          "name": "stdout"
        }
      ]
    },
    {
      "cell_type": "code",
      "metadata": {
        "id": "AUILy0NiCKP0",
        "colab": {
          "base_uri": "https://localhost:8080/",
          "height": 102
        },
        "outputId": "99b59712-ffbb-4038-b4c2-e944789bfc5b"
      },
      "source": [
        "import pandas as pd\n",
        "\n",
        "master_data_path = '/content/drive/My Drive/dutch_common_voice/nl/clips/'\n",
        "\n",
        "train_data_path = master_data_path+ \"train.csv\"\n",
        "print(train_data_path)\n",
        "\n",
        "test_data_path = master_data_path+ \"test.csv\"\n",
        "print(test_data_path)\n",
        "\n",
        "dev_data_path = master_data_path+ \"dev.csv\"\n",
        "print(dev_data_path)\n",
        "\n",
        "validated_data_path = master_data_path+ \"validated.csv\"\n",
        "print(validated_data_path)\n",
        "\n",
        "other_data_path = master_data_path+ \"other.csv\"\n",
        "print(other_data_path)"
      ],
      "execution_count": null,
      "outputs": [
        {
          "output_type": "stream",
          "text": [
            "/content/drive/My Drive/dutch_common_voice/nl/clips/train.csv\n",
            "/content/drive/My Drive/dutch_common_voice/nl/clips/test.csv\n",
            "/content/drive/My Drive/dutch_common_voice/nl/clips/dev.csv\n",
            "/content/drive/My Drive/dutch_common_voice/nl/clips/validated.csv\n",
            "/content/drive/My Drive/dutch_common_voice/nl/clips/other.csv\n"
          ],
          "name": "stdout"
        }
      ]
    },
    {
      "cell_type": "code",
      "metadata": {
        "id": "fzx95MXICKP9"
      },
      "source": [
        "train_data = pd.read_csv(train_data_path)\n",
        "print('Train Data Loaded')\n",
        "print(train_data.count())\n",
        "print(train_data.head())"
      ],
      "execution_count": null,
      "outputs": []
    },
    {
      "cell_type": "code",
      "metadata": {
        "id": "VIcw15vUCKQB"
      },
      "source": [
        "test_data = pd.read_csv(test_data_path)\n",
        "print('Test Data Loaded')\n",
        "print(test_data.count())\n",
        "print(test_data.head())"
      ],
      "execution_count": null,
      "outputs": []
    },
    {
      "cell_type": "code",
      "metadata": {
        "id": "2odnv4FXCKQE"
      },
      "source": [
        "dev_data = pd.read_csv(dev_data_path)\n",
        "print('dev Data Loaded')\n",
        "print(dev_data.count())\n",
        "print(dev_data.head())"
      ],
      "execution_count": null,
      "outputs": []
    },
    {
      "cell_type": "code",
      "metadata": {
        "id": "j2ZqDRv7CKQI"
      },
      "source": [
        "validated_data=pd.read_csv(validated_data_path)\n",
        "print('validated Data Loaded')\n",
        "print(validated_data.count())\n",
        "print(validated_data.head())"
      ],
      "execution_count": null,
      "outputs": []
    },
    {
      "cell_type": "code",
      "metadata": {
        "id": "Z0C9tMc3CKQL"
      },
      "source": [
        "others_data=pd.read_csv(other_data_path)\n",
        "print('other Data Loaded')\n",
        "print(others_data.count())\n",
        "print(others_data.head())"
      ],
      "execution_count": null,
      "outputs": []
    },
    {
      "cell_type": "code",
      "metadata": {
        "id": "BLcn6QN4CKQO"
      },
      "source": [
        "df_train_test = pd.concat([train_data, test_data])\n",
        "print('Done DF_Train_Test')"
      ],
      "execution_count": null,
      "outputs": []
    },
    {
      "cell_type": "code",
      "metadata": {
        "id": "xxbOgh6gCKQS"
      },
      "source": [
        "df_train_test_dev=pd.concat([df_train_test, dev_data] )\n",
        "print('Done Train_Test_Dev')"
      ],
      "execution_count": null,
      "outputs": []
    },
    {
      "cell_type": "code",
      "metadata": {
        "id": "zshJvfnOCKQV"
      },
      "source": [
        "print(df_train_test_dev.count())\n",
        "print(df_train_test_dev.head())"
      ],
      "execution_count": null,
      "outputs": []
    },
    {
      "cell_type": "code",
      "metadata": {
        "id": "1YiVRtGrCKQY"
      },
      "source": [
        "from sklearn.model_selection import train_test_split\n",
        "\n",
        "trainingSet, testSet = train_test_split(df_train_test_dev, test_size=0.2, random_state=100)"
      ],
      "execution_count": null,
      "outputs": []
    },
    {
      "cell_type": "code",
      "metadata": {
        "id": "I5wZ6B_FCKQb"
      },
      "source": [
        "print(trainingSet.head())\n",
        "print(trainingSet.count())"
      ],
      "execution_count": null,
      "outputs": []
    },
    {
      "cell_type": "code",
      "metadata": {
        "id": "HaES-PHDCKQe"
      },
      "source": [
        "print(testSet.head())\n",
        "print(testSet.count())"
      ],
      "execution_count": null,
      "outputs": []
    },
    {
      "cell_type": "code",
      "metadata": {
        "id": "L_IoNNOyCKQi"
      },
      "source": [
        "testingSet, validatingSet = train_test_split(testSet, test_size=0.5, random_state=100)"
      ],
      "execution_count": null,
      "outputs": []
    },
    {
      "cell_type": "code",
      "metadata": {
        "id": "Yb68gD69CKQl"
      },
      "source": [
        "print(testingSet.head())\n",
        "print(testingSet.count())"
      ],
      "execution_count": null,
      "outputs": []
    },
    {
      "cell_type": "code",
      "metadata": {
        "id": "FwwTW5zxCKQo"
      },
      "source": [
        "print(validatingSet.head())\n",
        "print(validatingSet.count())"
      ],
      "execution_count": null,
      "outputs": []
    },
    {
      "cell_type": "code",
      "metadata": {
        "id": "jASbccVVCKQq"
      },
      "source": [
        "#trainingSet\n",
        "#testingSet\n",
        "#validatingSet\n",
        "\n",
        "#print(trainingSet.head(10).to_csv(\"/home/fakrul/ttest.csv\"))\n",
        "#test=trainingSet.loc[1:10:].to_csv('/home/fakrul/ttest.csv')\n",
        "#print(test.head())\n",
        "\n",
        "#trainingSet.iloc[0:5].to_csv(\"/home/fakrul/t1test.csv\", index=False)\n",
        "#trainingSet.iloc[5:10].to_csv(\"/home/fakrul/t2test.csv\", index=False)\n",
        "#print(trainingSet.shape)\n",
        "#print(testingSet.shape)\n",
        "#print(validatingSet.shape)\n",
        "x=trainingSet.shape\n",
        "y=testingSet.shape\n",
        "z=validatingSet.shape"
      ],
      "execution_count": null,
      "outputs": []
    },
    {
      "cell_type": "code",
      "metadata": {
        "id": "3nArdSrjCKQt"
      },
      "source": [
        "training_size=x[0]\n",
        "testing_size=y[0]\n",
        "validating_size=z[0]"
      ],
      "execution_count": null,
      "outputs": []
    },
    {
      "cell_type": "code",
      "metadata": {
        "id": "aPUGBVOlCKQw"
      },
      "source": [
        "print('training_size: ', training_size, 'testing_size: ', testing_size, 'validating_size: ',validating_size )"
      ],
      "execution_count": null,
      "outputs": []
    },
    {
      "cell_type": "code",
      "metadata": {
        "id": "hA07OQ1XCKQz"
      },
      "source": [
        "batch_size = 10\n",
        "\n",
        "training_remainder = training_size % batch_size\n",
        "testing_remainder = testing_size % batch_size\n",
        "validiting_remainder = validating_size % batch_size\n",
        "\n",
        "training_slot = (training_size - training_remainder)/batch_size\n",
        "testing_slot = (testing_size - testing_remainder)/batch_size\n",
        "validating_slot= (validating_size - validiting_remainder)/batch_size\n",
        "\n",
        "training_slot = int(training_slot)\n",
        "testing_slot = int(testing_slot)\n",
        "validating_slot = int(validating_slot)"
      ],
      "execution_count": null,
      "outputs": []
    },
    {
      "cell_type": "code",
      "metadata": {
        "id": "HxyZYjucCKQ2"
      },
      "source": [
        "print('training_remainder: ', training_remainder, 'testing_remainder: ', testing_remainder, 'validiting_remainder: ',validiting_remainder)\n",
        "print('training_slot: ', training_slot, 'testing_slot: ', testing_slot, 'validating_slot: ',validating_slot )"
      ],
      "execution_count": null,
      "outputs": []
    },
    {
      "cell_type": "code",
      "metadata": {
        "id": "53PVq6YnCKQ4"
      },
      "source": [
        "import os\n",
        "from shutil import copyfile\n",
        "\n",
        "\n",
        "path=\"/home/fakrul/clip_\"\n",
        "\n",
        "j=0\n",
        "k=training_slot\n",
        "\n",
        "l=0\n",
        "m=testing_slot\n",
        "\n",
        "n=0\n",
        "p=validating_slot\n",
        "\n",
        "for i in range(0, batch_size):\n",
        "    #print('i: ', i ,'j: ', j, 'k: ', k)\n",
        "    #print('i: ', i ,'l: ', l, 'm: ', m)\n",
        "    #print('i: ', i ,'n: ', n, 'p: ', p)\n",
        "    \n",
        "    #Create The Directory\n",
        "    _path = path+ str(i)\n",
        "    os.mkdir(_path)\n",
        "    \n",
        "    #Copy Training Files\n",
        "    _trainingSet = trainingSet.iloc[j:k]\n",
        "    _training_files = _trainingSet['wav_filename'].tolist()\n",
        "    for x in _training_files:\n",
        "        copyfile(master_data_path+x, _path+\"/\"+x)\n",
        "    #print(_training_files)\n",
        "    \n",
        "    trainingSet.iloc[j:k].to_csv(_path+\"/training_\"+str(i)+\".csv\", index=False)\n",
        "    j=k\n",
        "    k=j+training_slot                    \n",
        "    \n",
        "    #Copy Testing Files\n",
        "    _testingSet=testingSet.iloc[l:m]\n",
        "    _testing_files = _testingSet['wav_filename'].tolist()\n",
        "    for x in _testing_files:\n",
        "        copyfile(master_data_path+x, _path+\"/\"+x)\n",
        "    \n",
        "    testingSet.iloc[l:m].to_csv(_path+\"/testing_\"+str(i)+\".csv\", index=False)\n",
        "    l=m\n",
        "    m=l+testing_slot\n",
        "    \n",
        "    #Copy Validiitng Files\n",
        "    _validatingSet=validatingSet.iloc[n:p]\n",
        "    _validating_files=_validatingSet['wav_filename'].tolist()\n",
        "    for x in _validating_files:\n",
        "        copyfile(master_data_path+x, _path+\"/\"+x)\n",
        "        \n",
        "    \n",
        "    validatingSet.iloc[n:p].to_csv(_path+\"/validating_\"+str(i)+\".csv\", index=False)\n",
        "    n=p\n",
        "    p=n+validating_slot\n",
        "    \n",
        "   \n",
        "\n",
        "print(\"Folder Creation and CSV Splitting is done\")"
      ],
      "execution_count": null,
      "outputs": []
    },
    {
      "cell_type": "code",
      "metadata": {
        "id": "e5YzVOJmCKQ7"
      },
      "source": [
        "print('j: ', j, 'k: ', k)\n",
        "print('l: ', l, 'm: ', m)\n",
        "print('n: ', n, 'p: ', p)"
      ],
      "execution_count": null,
      "outputs": []
    },
    {
      "cell_type": "code",
      "metadata": {
        "id": "8npTzvLcCKQ9"
      },
      "source": [
        "_rest_trainingSet = trainingSet.iloc[j:j+training_remainder]\n",
        "_rest_testingSet = testingSet.iloc[l:l+testing_remainder]\n",
        "_rest_validatingSet = validatingSet.iloc[n:n+validiting_remainder]\n",
        "    \n",
        "#print(_rest_trainingSet)\n",
        "#print(_rest_testingSet)\n",
        "#print(_rest_validatingSet)\n",
        "\n",
        "_rest_training_files = _rest_trainingSet['wav_filename'].tolist()\n",
        "_rest_testing_files = _rest_testingSet['wav_filename'].tolist()\n",
        "_rest_validiting_files = _rest_validatingSet['wav_filename'].tolist()\n",
        "\n",
        "#print(_rest_training_files)\n",
        "#print(_rest_testing_files)\n",
        "#print(_rest_validiting_files)\n",
        "\n",
        "print('Remainder Dataset files are loaded')"
      ],
      "execution_count": null,
      "outputs": []
    },
    {
      "cell_type": "code",
      "metadata": {
        "id": "wNuBWis9CKRB"
      },
      "source": [
        "final_clips=path+str(batch_size)\n",
        "\n",
        "os.mkdir(final_clips)\n",
        "\n",
        "_rest_trainingSet.to_csv(final_clips+\"/training_\"+str(batch_size)+\".csv\", index=False)\n",
        "_rest_testingSet.to_csv(final_clips+\"/testing_\"+str(batch_size)+\".csv\", index=False)\n",
        "_rest_validatingSet.to_csv(final_clips+\"/validating_\"+str(batch_size)+\".csv\", index=False)\n",
        "\n",
        "print('Reamainder final clip directory created and csv files copied')"
      ],
      "execution_count": null,
      "outputs": []
    },
    {
      "cell_type": "code",
      "metadata": {
        "id": "sVYYyUqWCKRD"
      },
      "source": [
        "for x in _rest_training_files:\n",
        "    copyfile(master_data_path+x, final_clips+\"/\"+x)\n",
        "\n",
        "for x in _rest_testing_files:\n",
        "    copyfile(master_data_path+x, final_clips+\"/\"+x)\n",
        "\n",
        "for x in _rest_validiting_files:\n",
        "    copyfile(master_data_path+x, final_clips+\"/\"+x)\n",
        "\n",
        "print('Reamainder audio clips are copied into the final directory')"
      ],
      "execution_count": null,
      "outputs": []
    }
  ]
}