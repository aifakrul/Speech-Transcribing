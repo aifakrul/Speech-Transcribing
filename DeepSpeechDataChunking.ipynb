{
  "nbformat": 4,
  "nbformat_minor": 0,
  "metadata": {
    "kernelspec": {
      "display_name": "Python 3",
      "language": "python",
      "name": "python3"
    },
    "language_info": {
      "codemirror_mode": {
        "name": "ipython",
        "version": 3
      },
      "file_extension": ".py",
      "mimetype": "text/x-python",
      "name": "python",
      "nbconvert_exporter": "python",
      "pygments_lexer": "ipython3",
      "version": "3.7.7"
    },
    "colab": {
      "name": "DeepSpeechDataChunking.ipynb",
      "provenance": []
    }
  },
  "cells": [
    {
      "cell_type": "code",
      "metadata": {
        "id": "_77PVgQZW7v_",
        "outputId": "d94ff0f3-14af-4f7f-ed96-272b3f65d64f"
      },
      "source": [
        "import pandas as pd\n",
        "\n",
        "master_data_path = '/home/fakrul/dutch_deepspeech/nl/clips/'\n",
        "\n",
        "train_data_path = master_data_path+ \"train.csv\"\n",
        "print(train_data_path)\n",
        "\n",
        "test_data_path = master_data_path+ \"test.csv\"\n",
        "print(test_data_path)\n",
        "\n",
        "dev_data_path = master_data_path+ \"dev.csv\"\n",
        "print(dev_data_path)\n",
        "\n",
        "validated_data_path = master_data_path+ \"validated.csv\"\n",
        "print(validated_data_path)\n",
        "\n",
        "other_data_path = master_data_path+ \"other.csv\"\n",
        "print(other_data_path)"
      ],
      "execution_count": null,
      "outputs": [
        {
          "output_type": "stream",
          "text": [
            "/home/fakrul/dutch_deepspeech/nl/clips/train.csv\n",
            "/home/fakrul/dutch_deepspeech/nl/clips/test.csv\n",
            "/home/fakrul/dutch_deepspeech/nl/clips/dev.csv\n",
            "/home/fakrul/dutch_deepspeech/nl/clips/validated.csv\n",
            "/home/fakrul/dutch_deepspeech/nl/clips/other.csv\n"
          ],
          "name": "stdout"
        }
      ]
    },
    {
      "cell_type": "code",
      "metadata": {
        "id": "2Jla8fuRW7wG",
        "outputId": "04395443-3fba-4e1a-8d27-4703a31cbd69"
      },
      "source": [
        "train_data = pd.read_csv(train_data_path)\n",
        "print('Train Data Loaded')\n",
        "print(train_data.count())\n",
        "print(train_data.head())"
      ],
      "execution_count": null,
      "outputs": [
        {
          "output_type": "stream",
          "text": [
            "Train Data Loaded\n",
            "wav_filename    1815\n",
            "wav_filesize    1815\n",
            "transcript      1815\n",
            "dtype: int64\n",
            "                   wav_filename  wav_filesize  \\\n",
            "0  common_voice_nl_19629340.wav         93740   \n",
            "1  common_voice_nl_19629476.wav        103724   \n",
            "2  common_voice_nl_19629404.wav         97580   \n",
            "3  common_voice_nl_19629435.wav        101420   \n",
            "4  common_voice_nl_19629477.wav        110636   \n",
            "\n",
            "                              transcript  \n",
            "0              de sneeuwman is gesmolten  \n",
            "1    ik moet nog snel mijn veters binden  \n",
            "2           is dat nu een serieuze vraag  \n",
            "3  het is belangrijk om op tijd te komen  \n",
            "4     ze heeft een zware depressie gehad  \n"
          ],
          "name": "stdout"
        }
      ]
    },
    {
      "cell_type": "code",
      "metadata": {
        "id": "-8Uawdh0W7wL",
        "outputId": "751bf9c0-1421-44a3-cdbf-99e1ef4e27bc"
      },
      "source": [
        "test_data = pd.read_csv(test_data_path)\n",
        "print('Test Data Loaded')\n",
        "print(test_data.count())\n",
        "print(test_data.head())"
      ],
      "execution_count": null,
      "outputs": [
        {
          "output_type": "stream",
          "text": [
            "Test Data Loaded\n",
            "wav_filename    1629\n",
            "wav_filesize    1629\n",
            "transcript      1629\n",
            "dtype: int64\n",
            "                   wav_filename  wav_filesize  \\\n",
            "0  common_voice_nl_19841421.wav        135212   \n",
            "1  common_voice_nl_19573544.wav        142124   \n",
            "2  common_voice_nl_19679924.wav        141356   \n",
            "3  common_voice_nl_17694848.wav        107564   \n",
            "4  common_voice_nl_20215642.wav        253484   \n",
            "\n",
            "                                          transcript  \n",
            "0                       waarom belde je me niet even  \n",
            "1  de kinderen moesten zuchten ze moesten nog een...  \n",
            "2            bert anciaux zit al lang in de politiek  \n",
            "3                      mijn toetsenbord zit vol stof  \n",
            "4  men verdrong zich in de tot kleedkamer ingeric...  \n"
          ],
          "name": "stdout"
        }
      ]
    },
    {
      "cell_type": "code",
      "metadata": {
        "id": "8ahqmbR9W7wQ",
        "outputId": "6f6d3f85-66cc-4f80-cf25-f41cd283cb9e"
      },
      "source": [
        "dev_data = pd.read_csv(dev_data_path)\n",
        "print('dev Data Loaded')\n",
        "print(dev_data.count())\n",
        "print(dev_data.head())"
      ],
      "execution_count": null,
      "outputs": [
        {
          "output_type": "stream",
          "text": [
            "dev Data Loaded\n",
            "wav_filename    1625\n",
            "wav_filesize    1625\n",
            "transcript      1625\n",
            "dtype: int64\n",
            "                   wav_filename  wav_filesize  \\\n",
            "0  common_voice_nl_19530788.wav        131372   \n",
            "1  common_voice_nl_19530911.wav         88364   \n",
            "2  common_voice_nl_19530793.wav        149804   \n",
            "3  common_voice_nl_19530889.wav        146732   \n",
            "4  common_voice_nl_19530910.wav        112940   \n",
            "\n",
            "                                         transcript  \n",
            "0       met een vast contract heb je meer zekerheid  \n",
            "1                        hij maakt alles te complex  \n",
            "2       platanen staan bekend om hun grote bladeren  \n",
            "3                    vaak reis ik in de tweede klas  \n",
            "4  ze had al veel levenservaring voor haar leeftijd  \n"
          ],
          "name": "stdout"
        }
      ]
    },
    {
      "cell_type": "code",
      "metadata": {
        "id": "C7DNzwlPW7wU",
        "outputId": "331bc103-b452-4f3b-86d0-b8e85237bf05"
      },
      "source": [
        "validated_data=pd.read_csv(validated_data_path)\n",
        "print('validated Data Loaded')\n",
        "print(validated_data.count())\n",
        "print(validated_data.head())"
      ],
      "execution_count": null,
      "outputs": [
        {
          "output_type": "stream",
          "text": [
            "validated Data Loaded\n",
            "wav_filename    22019\n",
            "wav_filesize    22019\n",
            "transcript      22019\n",
            "dtype: int64\n",
            "                   wav_filename  wav_filesize  \\\n",
            "0  common_voice_nl_17694848.wav        107564   \n",
            "1  common_voice_nl_19841421.wav        135212   \n",
            "2  common_voice_nl_17700547.wav        232748   \n",
            "3  common_voice_nl_19679924.wav        141356   \n",
            "4  common_voice_nl_18441136.wav        272684   \n",
            "\n",
            "                                          transcript  \n",
            "0                      mijn toetsenbord zit vol stof  \n",
            "1                       waarom belde je me niet even  \n",
            "2  na het lezen van vele beoordelingen had ze ein...  \n",
            "3            bert anciaux zit al lang in de politiek  \n",
            "4      ze had de bank beschadigd met haar skateboard  \n"
          ],
          "name": "stdout"
        }
      ]
    },
    {
      "cell_type": "code",
      "metadata": {
        "id": "ZC_eH1hjW7wY",
        "outputId": "554f8171-8794-4618-90b7-4301d0e88d73"
      },
      "source": [
        "others_data=pd.read_csv(other_data_path)\n",
        "print('other Data Loaded')\n",
        "print(others_data.count())\n",
        "print(others_data.head())"
      ],
      "execution_count": null,
      "outputs": [
        {
          "output_type": "stream",
          "text": [
            "other Data Loaded\n",
            "wav_filename    6238\n",
            "wav_filesize    6238\n",
            "transcript      6238\n",
            "dtype: int64\n",
            "                   wav_filename  wav_filesize  \\\n",
            "0  common_voice_nl_18058292.wav        141356   \n",
            "1  common_voice_nl_17917389.wav        132908   \n",
            "2  common_voice_nl_18112904.wav        134444   \n",
            "3  common_voice_nl_18112816.wav        125228   \n",
            "4  common_voice_nl_18112793.wav        142124   \n",
            "\n",
            "                                          transcript  \n",
            "0    deze thee kan je alleen bij speciaalzaken kopen  \n",
            "1  het is een typisch kenmerk van die ziekte volg...  \n",
            "2  dat boek over kwantummechanica leest toch niet...  \n",
            "3  sommige bureaustoelen zijn ergonomisch niet ve...  \n",
            "4  de hangbrug was oud en hij is door de vermolmd...  \n"
          ],
          "name": "stdout"
        }
      ]
    },
    {
      "cell_type": "code",
      "metadata": {
        "id": "cC4xIgPwW7wc",
        "outputId": "a2b1fe01-dc91-4ec1-e18e-1038c3aa85ba"
      },
      "source": [
        "df_train_test = pd.concat([train_data, test_data])\n",
        "print('Done DF_Train_Test')"
      ],
      "execution_count": null,
      "outputs": [
        {
          "output_type": "stream",
          "text": [
            "Done DF_Train_Test\n"
          ],
          "name": "stdout"
        }
      ]
    },
    {
      "cell_type": "code",
      "metadata": {
        "id": "s-RVZVk9W7wf",
        "outputId": "c5a29e69-6d76-424a-e0b4-7fd04360cf16"
      },
      "source": [
        "df_train_test_dev=pd.concat([df_train_test, dev_data] )\n",
        "print('Done Train_Test_Dev')"
      ],
      "execution_count": null,
      "outputs": [
        {
          "output_type": "stream",
          "text": [
            "Done Train_Test_Dev\n"
          ],
          "name": "stdout"
        }
      ]
    },
    {
      "cell_type": "code",
      "metadata": {
        "id": "PJAsFP3LW7wi",
        "outputId": "92c898ea-1fd2-41a2-967a-75ae4b8c05c3"
      },
      "source": [
        "print(df_train_test_dev.count())\n",
        "print(df_train_test_dev.head())"
      ],
      "execution_count": null,
      "outputs": [
        {
          "output_type": "stream",
          "text": [
            "wav_filename    5069\n",
            "wav_filesize    5069\n",
            "transcript      5069\n",
            "dtype: int64\n",
            "                   wav_filename  wav_filesize  \\\n",
            "0  common_voice_nl_19629340.wav         93740   \n",
            "1  common_voice_nl_19629476.wav        103724   \n",
            "2  common_voice_nl_19629404.wav         97580   \n",
            "3  common_voice_nl_19629435.wav        101420   \n",
            "4  common_voice_nl_19629477.wav        110636   \n",
            "\n",
            "                              transcript  \n",
            "0              de sneeuwman is gesmolten  \n",
            "1    ik moet nog snel mijn veters binden  \n",
            "2           is dat nu een serieuze vraag  \n",
            "3  het is belangrijk om op tijd te komen  \n",
            "4     ze heeft een zware depressie gehad  \n"
          ],
          "name": "stdout"
        }
      ]
    },
    {
      "cell_type": "code",
      "metadata": {
        "id": "2ig_o-RfW7wl"
      },
      "source": [
        "from sklearn.model_selection import train_test_split\n",
        "\n",
        "trainingSet, testSet = train_test_split(df_train_test_dev, test_size=0.2, random_state=100)"
      ],
      "execution_count": null,
      "outputs": []
    },
    {
      "cell_type": "code",
      "metadata": {
        "id": "kPvJ9cUCW7wo",
        "outputId": "6efe1594-3e73-4b43-e5fa-95e9cf0931b7"
      },
      "source": [
        "print(trainingSet.head())\n",
        "print(trainingSet.count())"
      ],
      "execution_count": null,
      "outputs": [
        {
          "output_type": "stream",
          "text": [
            "                      wav_filename  wav_filesize  \\\n",
            "928   common_voice_nl_17696174.wav        117548   \n",
            "362   common_voice_nl_18267266.wav        124460   \n",
            "78    common_voice_nl_18246389.wav        225836   \n",
            "1089  common_voice_nl_17694996.wav        249644   \n",
            "912   common_voice_nl_19732806.wav        145964   \n",
            "\n",
            "                                             transcript  \n",
            "928                 simultaan antwoorden ze op de vraag  \n",
            "362         het cadeau was te groot om alleen te dragen  \n",
            "78    mijn grootmoeder heeft kanker gehad en een bor...  \n",
            "1089        in ijsland heb je nog veel actieve vulkanen  \n",
            "912   het rubberen bootje is terecht gekomen in een ...  \n",
            "wav_filename    4055\n",
            "wav_filesize    4055\n",
            "transcript      4055\n",
            "dtype: int64\n"
          ],
          "name": "stdout"
        }
      ]
    },
    {
      "cell_type": "code",
      "metadata": {
        "id": "IpEpGdUDW7wr",
        "outputId": "1b081698-6641-4919-e8bc-187bb69f1d14"
      },
      "source": [
        "print(testSet.head())\n",
        "print(testSet.count())"
      ],
      "execution_count": null,
      "outputs": [
        {
          "output_type": "stream",
          "text": [
            "                      wav_filename  wav_filesize  \\\n",
            "247   common_voice_nl_19358969.wav        119084   \n",
            "1352  common_voice_nl_18990703.wav         99116   \n",
            "1123  common_voice_nl_17699156.wav        147500   \n",
            "1043  common_voice_nl_19503017.wav        119852   \n",
            "766   common_voice_nl_17745949.wav        119084   \n",
            "\n",
            "                                             transcript  \n",
            "247     ze was vooral bekend van de musical op broadway  \n",
            "1352                         het account was verwijderd  \n",
            "1123  de angst voor spinnen wordt ook wel arachnofob...  \n",
            "1043    er is nog een woonkamer op de benedenverdieping  \n",
            "766   laura pakte een sigaret en plaatste die in haa...  \n",
            "wav_filename    1014\n",
            "wav_filesize    1014\n",
            "transcript      1014\n",
            "dtype: int64\n"
          ],
          "name": "stdout"
        }
      ]
    },
    {
      "cell_type": "code",
      "metadata": {
        "id": "OuGPt22UW7wu"
      },
      "source": [
        "testingSet, validatingSet = train_test_split(testSet, test_size=0.5, random_state=100)"
      ],
      "execution_count": null,
      "outputs": []
    },
    {
      "cell_type": "code",
      "metadata": {
        "id": "GoMDbFYwW7wx",
        "outputId": "1a43458b-d2c5-4b18-be90-3add50becddf"
      },
      "source": [
        "print(testingSet.head())\n",
        "print(testingSet.count())"
      ],
      "execution_count": null,
      "outputs": [
        {
          "output_type": "stream",
          "text": [
            "                     wav_filename  wav_filesize  \\\n",
            "417  common_voice_nl_17697268.wav         99884   \n",
            "542  common_voice_nl_18695228.wav        126764   \n",
            "721  common_voice_nl_17738073.wav         67628   \n",
            "929  common_voice_nl_17706214.wav        145964   \n",
            "641  common_voice_nl_18205018.wav        192044   \n",
            "\n",
            "                                            transcript  \n",
            "417                  ik heb een goed gevoel voor humor  \n",
            "542            na de aanvaring was hun sloep brandhout  \n",
            "721                  iedere week ga ik naar de fitness  \n",
            "929       hij schakelt de verlichting in de keuken aan  \n",
            "641  de meeste voertuigen worden ieder jaar op het ...  \n",
            "wav_filename    507\n",
            "wav_filesize    507\n",
            "transcript      507\n",
            "dtype: int64\n"
          ],
          "name": "stdout"
        }
      ]
    },
    {
      "cell_type": "code",
      "metadata": {
        "id": "_wUaetTnW7w0",
        "outputId": "e627a771-5a49-4e41-b5bd-f0528899d17b"
      },
      "source": [
        "print(validatingSet.head())\n",
        "print(validatingSet.count())"
      ],
      "execution_count": null,
      "outputs": [
        {
          "output_type": "stream",
          "text": [
            "                      wav_filename  wav_filesize  \\\n",
            "257   common_voice_nl_17993960.wav        192044   \n",
            "260   common_voice_nl_19333251.wav        160556   \n",
            "1381  common_voice_nl_18211462.wav        121388   \n",
            "1219  common_voice_nl_18248096.wav        205100   \n",
            "338   common_voice_nl_18207648.wav        264236   \n",
            "\n",
            "                                             transcript  \n",
            "257   hoeveel ik ook poets op de kraan blijven er al...  \n",
            "260       er werd een gevecht georganiseerd in de arena  \n",
            "1381           kan je de flyers uitdelen aan de klanten  \n",
            "1219  volgens het recept moet je nu twee theelepels ...  \n",
            "338   na twee jaar stond het huis nog steeds in de s...  \n",
            "wav_filename    507\n",
            "wav_filesize    507\n",
            "transcript      507\n",
            "dtype: int64\n"
          ],
          "name": "stdout"
        }
      ]
    },
    {
      "cell_type": "code",
      "metadata": {
        "id": "7oEtuD1XW7w2"
      },
      "source": [
        "#trainingSet\n",
        "#testingSet\n",
        "#validatingSet\n",
        "\n",
        "#print(trainingSet.head(10).to_csv(\"/home/fakrul/ttest.csv\"))\n",
        "#test=trainingSet.loc[1:10:].to_csv('/home/fakrul/ttest.csv')\n",
        "#print(test.head())\n",
        "\n",
        "#trainingSet.iloc[0:5].to_csv(\"/home/fakrul/t1test.csv\", index=False)\n",
        "#trainingSet.iloc[5:10].to_csv(\"/home/fakrul/t2test.csv\", index=False)\n",
        "#print(trainingSet.shape)\n",
        "#print(testingSet.shape)\n",
        "#print(validatingSet.shape)\n",
        "x=trainingSet.shape\n",
        "y=testingSet.shape\n",
        "z=validatingSet.shape"
      ],
      "execution_count": null,
      "outputs": []
    },
    {
      "cell_type": "code",
      "metadata": {
        "id": "Pw1TXIm3W7w5"
      },
      "source": [
        "training_size=x[0]\n",
        "testing_size=y[0]\n",
        "validating_size=z[0]"
      ],
      "execution_count": null,
      "outputs": []
    },
    {
      "cell_type": "code",
      "metadata": {
        "id": "qir5nrEwW7w8",
        "outputId": "4206fb37-ab94-4b39-a7dc-3819027ce6e8"
      },
      "source": [
        "print('training_size: ', training_size, 'testing_size: ', testing_size, 'validating_size: ',validating_size )"
      ],
      "execution_count": null,
      "outputs": [
        {
          "output_type": "stream",
          "text": [
            "training_size:  4055 testing_size:  507 validating_size:  507\n"
          ],
          "name": "stdout"
        }
      ]
    },
    {
      "cell_type": "code",
      "metadata": {
        "id": "p32aPyKJW7xA"
      },
      "source": [
        "#batch_size = 10\n",
        "batch_size = 20\n",
        "\n",
        "training_remainder = training_size % batch_size\n",
        "testing_remainder = testing_size % batch_size\n",
        "validiting_remainder = validating_size % batch_size\n",
        "\n",
        "training_slot = (training_size - training_remainder)/batch_size\n",
        "testing_slot = (testing_size - testing_remainder)/batch_size\n",
        "validating_slot= (validating_size - validiting_remainder)/batch_size\n",
        "\n",
        "training_slot = int(training_slot)\n",
        "testing_slot = int(testing_slot)\n",
        "validating_slot = int(validating_slot)"
      ],
      "execution_count": null,
      "outputs": []
    },
    {
      "cell_type": "code",
      "metadata": {
        "id": "mobBc9HeW7xC",
        "outputId": "58b21355-9274-4cdc-9113-c15b6d31369c"
      },
      "source": [
        "print('training_remainder: ', training_remainder, 'testing_remainder: ', testing_remainder, 'validiting_remainder: ',validiting_remainder)\n",
        "print('training_slot: ', training_slot, 'testing_slot: ', testing_slot, 'validating_slot: ',validating_slot )"
      ],
      "execution_count": null,
      "outputs": [
        {
          "output_type": "stream",
          "text": [
            "training_remainder:  15 testing_remainder:  7 validiting_remainder:  7\n",
            "training_slot:  202 testing_slot:  25 validating_slot:  25\n"
          ],
          "name": "stdout"
        }
      ]
    },
    {
      "cell_type": "code",
      "metadata": {
        "id": "073XWBv9W7xF",
        "outputId": "ab21a2b5-c18b-4882-cf72-d2e31be88b93"
      },
      "source": [
        "import os\n",
        "from shutil import copyfile\n",
        "\n",
        "\n",
        "path=\"/home/fakrul/clip_\"\n",
        "\n",
        "j=0\n",
        "k=training_slot\n",
        "\n",
        "l=0\n",
        "m=testing_slot\n",
        "\n",
        "n=0\n",
        "p=validating_slot\n",
        "\n",
        "for i in range(0, batch_size):\n",
        "    #print('i: ', i ,'j: ', j, 'k: ', k)\n",
        "    #print('i: ', i ,'l: ', l, 'm: ', m)\n",
        "    #print('i: ', i ,'n: ', n, 'p: ', p)\n",
        "    \n",
        "    #Create The Directory\n",
        "    _path = path+ str(i)\n",
        "    os.mkdir(_path)\n",
        "    \n",
        "    #Copy Training Files\n",
        "    _trainingSet = trainingSet.iloc[j:k]\n",
        "    _training_files = _trainingSet['wav_filename'].tolist()\n",
        "    for x in _training_files:\n",
        "        copyfile(master_data_path+x, _path+\"/\"+x)\n",
        "    #print(_training_files)\n",
        "    \n",
        "    trainingSet.iloc[j:k].to_csv(_path+\"/train.csv\", index=False)\n",
        "    #trainingSet.iloc[j:k].to_csv(_path+\"/training_\"+str(i)+\".csv\", index=False)\n",
        "    j=k\n",
        "    k=j+training_slot                    \n",
        "    \n",
        "    #Copy Testing Files\n",
        "    _testingSet=testingSet.iloc[l:m]\n",
        "    _testing_files = _testingSet['wav_filename'].tolist()\n",
        "    for x in _testing_files:\n",
        "        copyfile(master_data_path+x, _path+\"/\"+x)\n",
        "    \n",
        "    #testingSet.iloc[l:m].to_csv(_path+\"/testing_\"+str(i)+\".csv\", index=False)\n",
        "    testingSet.iloc[l:m].to_csv(_path+\"/test.csv\", index=False)\n",
        "    l=m\n",
        "    m=l+testing_slot\n",
        "    \n",
        "    #Copy Validiitng Files\n",
        "    _validatingSet=validatingSet.iloc[n:p]\n",
        "    _validating_files=_validatingSet['wav_filename'].tolist()\n",
        "    for x in _validating_files:\n",
        "        copyfile(master_data_path+x, _path+\"/\"+x)\n",
        "        \n",
        "    \n",
        "    #validatingSet.iloc[n:p].to_csv(_path+\"/validating_\"+str(i)+\".csv\", index=False)\n",
        "    validatingSet.iloc[n:p].to_csv(_path+\"/dev.csv\", index=False)\n",
        "    n=p\n",
        "    p=n+validating_slot\n",
        "    \n",
        "   \n",
        "\n",
        "print(\"Folder Creation and CSV Splitting is done\")"
      ],
      "execution_count": null,
      "outputs": [
        {
          "output_type": "stream",
          "text": [
            "Folder Creation and CSV Splitting is done\n"
          ],
          "name": "stdout"
        }
      ]
    },
    {
      "cell_type": "code",
      "metadata": {
        "id": "ZxvRYyuGW7xH",
        "outputId": "76c41648-1d44-49c1-f5d7-c616b1484e9b"
      },
      "source": [
        "print('j: ', j, 'k: ', k)\n",
        "print('l: ', l, 'm: ', m)\n",
        "print('n: ', n, 'p: ', p)"
      ],
      "execution_count": null,
      "outputs": [
        {
          "output_type": "stream",
          "text": [
            "j:  4040 k:  4242\n",
            "l:  500 m:  525\n",
            "n:  500 p:  525\n"
          ],
          "name": "stdout"
        }
      ]
    },
    {
      "cell_type": "code",
      "metadata": {
        "id": "QTFszzCpW7xK",
        "outputId": "697709c1-2a2f-4256-d56b-2e2d721110c7"
      },
      "source": [
        "_rest_trainingSet = trainingSet.iloc[j:j+training_remainder]\n",
        "_rest_testingSet = testingSet.iloc[l:l+testing_remainder]\n",
        "_rest_validatingSet = validatingSet.iloc[n:n+validiting_remainder]\n",
        "    \n",
        "#print(_rest_trainingSet)\n",
        "#print(_rest_testingSet)\n",
        "#print(_rest_validatingSet)\n",
        "\n",
        "_rest_training_files = _rest_trainingSet['wav_filename'].tolist()\n",
        "_rest_testing_files = _rest_testingSet['wav_filename'].tolist()\n",
        "_rest_validiting_files = _rest_validatingSet['wav_filename'].tolist()\n",
        "\n",
        "#print(_rest_training_files)\n",
        "#print(_rest_testing_files)\n",
        "#print(_rest_validiting_files)\n",
        "\n",
        "print('Remainder Dataset files are loaded')"
      ],
      "execution_count": null,
      "outputs": [
        {
          "output_type": "stream",
          "text": [
            "Remainder Dataset files are loaded\n"
          ],
          "name": "stdout"
        }
      ]
    },
    {
      "cell_type": "code",
      "metadata": {
        "id": "CoseXCMHW7xM",
        "outputId": "e384129b-5c12-44a6-ff08-f75af0a195ae"
      },
      "source": [
        "final_clips=path+str(batch_size)\n",
        "\n",
        "os.mkdir(final_clips)\n",
        "\n",
        "_rest_trainingSet.to_csv(final_clips+\"/train.csv\", index=False)\n",
        "_rest_testingSet.to_csv(final_clips+\"/test.csv\", index=False)\n",
        "_rest_validatingSet.to_csv(final_clips+\"/dev.csv\", index=False)\n",
        "\n",
        "#_rest_trainingSet.to_csv(final_clips+\"/training_\"+str(batch_size)+\".csv\", index=False)\n",
        "#_rest_testingSet.to_csv(final_clips+\"/testing_\"+str(batch_size)+\".csv\", index=False)\n",
        "#_rest_validatingSet.to_csv(final_clips+\"/validating_\"+str(batch_size)+\".csv\", index=False)\n",
        "\n",
        "print('Reamainder final clip directory created and csv files copied')"
      ],
      "execution_count": null,
      "outputs": [
        {
          "output_type": "stream",
          "text": [
            "Reamainder final clip directory created and csv files copied\n"
          ],
          "name": "stdout"
        }
      ]
    },
    {
      "cell_type": "code",
      "metadata": {
        "id": "Md2oEI21W7xP",
        "outputId": "311f330a-b48f-45fb-d8fe-e7393df75942"
      },
      "source": [
        "for x in _rest_training_files:\n",
        "    copyfile(master_data_path+x, final_clips+\"/\"+x)\n",
        "\n",
        "for x in _rest_testing_files:\n",
        "    copyfile(master_data_path+x, final_clips+\"/\"+x)\n",
        "\n",
        "for x in _rest_validiting_files:\n",
        "    copyfile(master_data_path+x, final_clips+\"/\"+x)\n",
        "\n",
        "print('Reamainder audio clips are copied into the final directory')"
      ],
      "execution_count": null,
      "outputs": [
        {
          "output_type": "stream",
          "text": [
            "Reamainder audio clips are copied into the final directory\n"
          ],
          "name": "stdout"
        }
      ]
    },
    {
      "cell_type": "code",
      "metadata": {
        "id": "vYUgQ6B8W7xS"
      },
      "source": [
        ""
      ],
      "execution_count": null,
      "outputs": []
    }
  ]
}